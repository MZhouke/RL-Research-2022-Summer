{
 "cells": [
  {
   "cell_type": "code",
   "execution_count": 29,
   "metadata": {
    "pycharm": {
     "name": "#%%\n"
    }
   },
   "outputs": [],
   "source": [
    "import numpy as np"
   ]
  },
  {
   "cell_type": "code",
   "execution_count": 30,
   "metadata": {
    "pycharm": {
     "name": "#%%\n"
    }
   },
   "outputs": [],
   "source": [
    " def populate_job_description_map(job_operation_map, job_description, job_index):\n",
    "        \"\"\"\n",
    "            populate the corresponding fields in job_description_map\n",
    "            :param job_description: a string representing job description\n",
    "            :param job_index: an integer representing current job index being populated\n",
    "        \"\"\"\n",
    "        # read job description from left to right\n",
    "        \n",
    "        description_pivot = 1\n",
    "        operation_index = 0\n",
    "        # operation_index\n",
    "        while description_pivot < len(job_description):\n",
    "            # operation_description length = 2 * # of machines capable of executing current operation at the pivot\n",
    "            operation_description_end = 2 * job_description[description_pivot] + description_pivot\n",
    "            # read the current description of operation\n",
    "            description_pivot += 1\n",
    "            while description_pivot <= operation_description_end:\n",
    "                # Following the format of operation description:\n",
    "                # machine index , time it takes for the current operation\n",
    "                machine_index = job_description[description_pivot]\n",
    "                operation_duration = job_description[description_pivot + 1]\n",
    "                job_operation_map[job_index][operation_index][machine_index - 1] = operation_duration\n",
    "                description_pivot += 2\n",
    "            operation_index += 1\n",
    "        return job_operation_map\n"
   ]
  },
  {
   "cell_type": "code",
   "execution_count": 31,
   "metadata": {
    "pycharm": {
     "name": "#%%\n"
    }
   },
   "outputs": [],
   "source": [
    "def initialize(instance_path):\n",
    "        \"\"\"\n",
    "            populate job_operation_map using the instance file input\n",
    "            :param instance_path: a string representing file path\n",
    "        \"\"\"\n",
    "        # input instance description for environment initialization\n",
    "        max_operation_count=0\n",
    "        instance_path = instance_path\n",
    "        try:\n",
    "            file_handle = open(instance_path, 'r')\n",
    "        except OSError:\n",
    "            print(\"Could not open/read file:\", instance_path)\n",
    "\n",
    "        lines_list = file_handle.readlines()\n",
    "        # first line consists of # of jobs in total, # of machines in total\n",
    "        job_total, machine_total = [int(x) for x in lines_list[0].split()]\n",
    "        # env_data = [[int(val) for val in line.split()] for line in lines_list[1:]]\n",
    "        # read through each job description\n",
    "        job_operation_map = {}\n",
    "        JJ={}\n",
    "        operation_number=0\n",
    "        for job_index in range(len(lines_list) - 1):\n",
    "            job_description = np.array([int(val) for val in lines_list[job_index + 1].split()])\n",
    "            job_operation_map[job_index] = {}\n",
    "            \n",
    "            JJ[job_index+1] = job_description[0]\n",
    "            operation_number = operation_number + job_description[0]\n",
    "\n",
    "            max_operation_count = max(max_operation_count, job_description[0])\n",
    "            # initialize job_operation_map\n",
    "            # ex. job_operation_map[1][2][3] = time it takes for 3rd machine to execute 2nd operation of 1st job\n",
    "            # time = -1 iff the machine is not capable of executing the operation based on instance description\n",
    "            for operation_index in range(job_description[0]):\n",
    "                job_operation_map[job_index][operation_index] = np.full(machine_total, 9999)\n",
    "            # populate job_description_map\n",
    "            job_operation_map = populate_job_description_map(job_operation_map,job_description, job_index)\n",
    "        file_handle.close()\n",
    "        \n",
    "        o_map = []\n",
    "        o2_map = []\n",
    "        o3_map = []\n",
    "        for job_index in range(len(lines_list) - 1):\n",
    "            o2_map = []\n",
    "            for operation_index in range(job_description[0]):\n",
    "                o3_map = []\n",
    "                for machine_index in range(machine_total):\n",
    "                    o3_map.append(job_operation_map[job_index][operation_index][machine_index])\n",
    "                o2_map.append(o3_map)\n",
    "            o_map.append(o2_map)\n",
    "        \n",
    "        return o_map,JJ,machine_total,job_total,operation_number\n",
    "\n",
    "        #return job_operation_map\n"
   ]
  },
  {
   "cell_type": "code",
   "execution_count": 32,
   "metadata": {
    "pycharm": {
     "name": "#%%\n"
    }
   },
   "outputs": [
    {
     "data": {
      "text/plain": [
       "([[[29, 9999, 9999, 9999, 9999, 9999, 9999, 9999, 9999, 9999, 29],\n",
       "   [9999, 78, 9999, 9999, 9999, 9999, 9999, 9999, 9999, 9999, 9999],\n",
       "   [9999, 9999, 9, 9999, 9999, 9999, 9999, 9999, 9999, 9999, 9999],\n",
       "   [9999, 9999, 9999, 36, 9999, 9999, 9999, 9999, 9999, 9999, 9999],\n",
       "   [9999, 9999, 9999, 9999, 49, 9999, 9999, 9999, 9999, 9999, 9999],\n",
       "   [9999, 9999, 9999, 9999, 9999, 11, 9999, 9999, 9999, 9999, 9999],\n",
       "   [9999, 9999, 9999, 9999, 9999, 9999, 62, 9999, 9999, 9999, 9999],\n",
       "   [9999, 9999, 9999, 9999, 9999, 9999, 9999, 56, 9999, 9999, 9999],\n",
       "   [9999, 9999, 9999, 9999, 9999, 9999, 9999, 9999, 44, 9999, 9999],\n",
       "   [9999, 9999, 9999, 9999, 9999, 9999, 9999, 9999, 9999, 21, 9999]],\n",
       "  [[43, 9999, 9999, 9999, 9999, 9999, 9999, 9999, 9999, 9999, 43],\n",
       "   [9999, 9999, 90, 9999, 9999, 9999, 9999, 9999, 9999, 9999, 9999],\n",
       "   [9999, 9999, 9999, 9999, 75, 9999, 9999, 9999, 9999, 9999, 9999],\n",
       "   [9999, 9999, 9999, 9999, 9999, 9999, 9999, 9999, 9999, 11, 9999],\n",
       "   [9999, 9999, 9999, 69, 9999, 9999, 9999, 9999, 9999, 9999, 9999],\n",
       "   [9999, 28, 9999, 9999, 9999, 9999, 9999, 9999, 9999, 9999, 9999],\n",
       "   [9999, 9999, 9999, 9999, 9999, 9999, 46, 9999, 9999, 9999, 9999],\n",
       "   [9999, 9999, 9999, 9999, 9999, 46, 9999, 9999, 9999, 9999, 9999],\n",
       "   [9999, 9999, 9999, 9999, 9999, 9999, 9999, 72, 9999, 9999, 9999],\n",
       "   [9999, 9999, 9999, 9999, 9999, 9999, 9999, 9999, 30, 9999, 9999]],\n",
       "  [[9999, 91, 9999, 9999, 9999, 9999, 9999, 9999, 9999, 9999, 9999],\n",
       "   [85, 9999, 9999, 9999, 9999, 9999, 9999, 9999, 9999, 9999, 85],\n",
       "   [9999, 9999, 9999, 39, 9999, 9999, 9999, 9999, 9999, 9999, 9999],\n",
       "   [9999, 9999, 74, 9999, 9999, 9999, 9999, 9999, 9999, 9999, 9999],\n",
       "   [9999, 9999, 9999, 9999, 9999, 9999, 9999, 9999, 90, 9999, 9999],\n",
       "   [9999, 9999, 9999, 9999, 9999, 10, 9999, 9999, 9999, 9999, 9999],\n",
       "   [9999, 9999, 9999, 9999, 9999, 9999, 9999, 12, 9999, 9999, 9999],\n",
       "   [9999, 9999, 9999, 9999, 9999, 9999, 89, 9999, 9999, 9999, 9999],\n",
       "   [9999, 9999, 9999, 9999, 9999, 9999, 9999, 9999, 9999, 45, 9999],\n",
       "   [9999, 9999, 9999, 9999, 33, 9999, 9999, 9999, 9999, 9999, 9999]],\n",
       "  [[9999, 81, 9999, 9999, 9999, 9999, 9999, 9999, 9999, 9999, 9999],\n",
       "   [9999, 9999, 95, 9999, 9999, 9999, 9999, 9999, 9999, 9999, 9999],\n",
       "   [71, 9999, 9999, 9999, 9999, 9999, 9999, 9999, 9999, 9999, 71],\n",
       "   [9999, 9999, 9999, 9999, 99, 9999, 9999, 9999, 9999, 9999, 9999],\n",
       "   [9999, 9999, 9999, 9999, 9999, 9999, 9, 9999, 9999, 9999, 9999],\n",
       "   [9999, 9999, 9999, 9999, 9999, 9999, 9999, 9999, 52, 9999, 9999],\n",
       "   [9999, 9999, 9999, 9999, 9999, 9999, 9999, 85, 9999, 9999, 9999],\n",
       "   [9999, 9999, 9999, 98, 9999, 9999, 9999, 9999, 9999, 9999, 9999],\n",
       "   [9999, 9999, 9999, 9999, 9999, 9999, 9999, 9999, 9999, 22, 9999],\n",
       "   [9999, 9999, 9999, 9999, 9999, 43, 9999, 9999, 9999, 9999, 9999]],\n",
       "  [[9999, 9999, 14, 9999, 9999, 9999, 9999, 9999, 9999, 9999, 9999],\n",
       "   [6, 9999, 9999, 9999, 9999, 9999, 9999, 9999, 9999, 9999, 6],\n",
       "   [9999, 22, 9999, 9999, 9999, 9999, 9999, 9999, 9999, 9999, 9999],\n",
       "   [9999, 9999, 9999, 9999, 9999, 61, 9999, 9999, 9999, 9999, 9999],\n",
       "   [9999, 9999, 9999, 26, 9999, 9999, 9999, 9999, 9999, 9999, 9999],\n",
       "   [9999, 9999, 9999, 9999, 69, 9999, 9999, 9999, 9999, 9999, 9999],\n",
       "   [9999, 9999, 9999, 9999, 9999, 9999, 9999, 9999, 21, 9999, 9999],\n",
       "   [9999, 9999, 9999, 9999, 9999, 9999, 9999, 49, 9999, 9999, 9999],\n",
       "   [9999, 9999, 9999, 9999, 9999, 9999, 9999, 9999, 9999, 72, 9999],\n",
       "   [9999, 9999, 9999, 9999, 9999, 9999, 53, 9999, 9999, 9999, 9999]],\n",
       "  [[9999, 9999, 84, 9999, 9999, 9999, 9999, 9999, 9999, 9999, 9999],\n",
       "   [9999, 2, 9999, 9999, 9999, 9999, 9999, 9999, 9999, 9999, 9999],\n",
       "   [9999, 9999, 9999, 9999, 9999, 52, 9999, 9999, 9999, 9999, 9999],\n",
       "   [9999, 9999, 9999, 95, 9999, 9999, 9999, 9999, 9999, 9999, 9999],\n",
       "   [9999, 9999, 9999, 9999, 9999, 9999, 9999, 9999, 48, 9999, 9999],\n",
       "   [9999, 9999, 9999, 9999, 9999, 9999, 9999, 9999, 9999, 72, 9999],\n",
       "   [47, 9999, 9999, 9999, 9999, 9999, 9999, 9999, 9999, 9999, 47],\n",
       "   [9999, 9999, 9999, 9999, 9999, 9999, 65, 9999, 9999, 9999, 9999],\n",
       "   [9999, 9999, 9999, 9999, 6, 9999, 9999, 9999, 9999, 9999, 9999],\n",
       "   [9999, 9999, 9999, 9999, 9999, 9999, 9999, 25, 9999, 9999, 9999]],\n",
       "  [[9999, 46, 9999, 9999, 9999, 9999, 9999, 9999, 9999, 9999, 9999],\n",
       "   [37, 9999, 9999, 9999, 9999, 9999, 9999, 9999, 9999, 9999, 37],\n",
       "   [9999, 9999, 9999, 61, 9999, 9999, 9999, 9999, 9999, 9999, 9999],\n",
       "   [9999, 9999, 13, 9999, 9999, 9999, 9999, 9999, 9999, 9999, 9999],\n",
       "   [9999, 9999, 9999, 9999, 9999, 9999, 32, 9999, 9999, 9999, 9999],\n",
       "   [9999, 9999, 9999, 9999, 9999, 21, 9999, 9999, 9999, 9999, 9999],\n",
       "   [9999, 9999, 9999, 9999, 9999, 9999, 9999, 9999, 9999, 32, 9999],\n",
       "   [9999, 9999, 9999, 9999, 9999, 9999, 9999, 9999, 89, 9999, 9999],\n",
       "   [9999, 9999, 9999, 9999, 9999, 9999, 9999, 30, 9999, 9999, 9999],\n",
       "   [9999, 9999, 9999, 9999, 55, 9999, 9999, 9999, 9999, 9999, 9999]],\n",
       "  [[9999, 9999, 31, 9999, 9999, 9999, 9999, 9999, 9999, 9999, 9999],\n",
       "   [86, 9999, 9999, 9999, 9999, 9999, 9999, 9999, 9999, 9999, 86],\n",
       "   [9999, 46, 9999, 9999, 9999, 9999, 9999, 9999, 9999, 9999, 9999],\n",
       "   [9999, 9999, 9999, 9999, 9999, 74, 9999, 9999, 9999, 9999, 9999],\n",
       "   [9999, 9999, 9999, 9999, 32, 9999, 9999, 9999, 9999, 9999, 9999],\n",
       "   [9999, 9999, 9999, 9999, 9999, 9999, 88, 9999, 9999, 9999, 9999],\n",
       "   [9999, 9999, 9999, 9999, 9999, 9999, 9999, 9999, 19, 9999, 9999],\n",
       "   [9999, 9999, 9999, 9999, 9999, 9999, 9999, 9999, 9999, 48, 9999],\n",
       "   [9999, 9999, 9999, 9999, 9999, 9999, 9999, 36, 9999, 9999, 9999],\n",
       "   [9999, 9999, 9999, 79, 9999, 9999, 9999, 9999, 9999, 9999, 9999]],\n",
       "  [[76, 9999, 9999, 9999, 9999, 9999, 9999, 9999, 9999, 9999, 76],\n",
       "   [9999, 69, 9999, 9999, 9999, 9999, 9999, 9999, 9999, 9999, 9999],\n",
       "   [9999, 9999, 9999, 76, 9999, 9999, 9999, 9999, 9999, 9999, 9999],\n",
       "   [9999, 9999, 9999, 9999, 9999, 51, 9999, 9999, 9999, 9999, 9999],\n",
       "   [9999, 9999, 85, 9999, 9999, 9999, 9999, 9999, 9999, 9999, 9999],\n",
       "   [9999, 9999, 9999, 9999, 9999, 9999, 9999, 9999, 9999, 11, 9999],\n",
       "   [9999, 9999, 9999, 9999, 9999, 9999, 40, 9999, 9999, 9999, 9999],\n",
       "   [9999, 9999, 9999, 9999, 9999, 9999, 9999, 89, 9999, 9999, 9999],\n",
       "   [9999, 9999, 9999, 9999, 26, 9999, 9999, 9999, 9999, 9999, 9999],\n",
       "   [9999, 9999, 9999, 9999, 9999, 9999, 9999, 9999, 74, 9999, 9999]],\n",
       "  [[9999, 85, 9999, 9999, 9999, 9999, 9999, 9999, 9999, 9999, 9999],\n",
       "   [13, 9999, 9999, 9999, 9999, 9999, 9999, 9999, 9999, 9999, 13],\n",
       "   [9999, 9999, 61, 9999, 9999, 9999, 9999, 9999, 9999, 9999, 9999],\n",
       "   [9999, 9999, 9999, 9999, 9999, 9999, 7, 9999, 9999, 9999, 9999],\n",
       "   [9999, 9999, 9999, 9999, 9999, 9999, 9999, 9999, 64, 9999, 9999],\n",
       "   [9999, 9999, 9999, 9999, 9999, 9999, 9999, 9999, 9999, 76, 9999],\n",
       "   [9999, 9999, 9999, 9999, 9999, 47, 9999, 9999, 9999, 9999, 9999],\n",
       "   [9999, 9999, 9999, 52, 9999, 9999, 9999, 9999, 9999, 9999, 9999],\n",
       "   [9999, 9999, 9999, 9999, 90, 9999, 9999, 9999, 9999, 9999, 9999],\n",
       "   [9999, 9999, 9999, 9999, 9999, 9999, 9999, 45, 9999, 9999, 9999]]],\n",
       " {1: 10, 2: 10, 3: 10, 4: 10, 5: 10, 6: 10, 7: 10, 8: 10, 9: 10, 10: 10},\n",
       " 11,\n",
       " 10,\n",
       " 100)"
      ]
     },
     "execution_count": 32,
     "metadata": {},
     "output_type": "execute_result"
    }
   ],
   "source": [
    "initialize(\"instance3.txt\")"
   ]
  }
 ],
 "metadata": {
  "kernelspec": {
   "display_name": "Python 3.9.13 64-bit",
   "language": "python",
   "name": "python3"
  },
  "language_info": {
   "codemirror_mode": {
    "name": "ipython",
    "version": 3
   },
   "file_extension": ".py",
   "mimetype": "text/x-python",
   "name": "python",
   "nbconvert_exporter": "python",
   "pygments_lexer": "ipython3",
   "version": "3.9.13"
  },
  "orig_nbformat": 4,
  "vscode": {
   "interpreter": {
    "hash": "aee8b7b246df8f9039afb4144a1f6fd8d2ca17a180786b69acc140d282b71a49"
   }
  }
 },
 "nbformat": 4,
 "nbformat_minor": 2
}