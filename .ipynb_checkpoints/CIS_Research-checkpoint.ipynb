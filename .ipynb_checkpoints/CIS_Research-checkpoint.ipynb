{
  "cells": [
    {
      "cell_type": "markdown",
      "metadata": {
        "colab_type": "text",
        "id": "view-in-github"
      },
      "source": [
        "<a href=\"https://colab.research.google.com/github/MZhouke/RL-Research-2022-Summer/blob/main/CIS_Research.ipynb\" target=\"_parent\"><img src=\"https://colab.research.google.com/assets/colab-badge.svg\" alt=\"Open In Colab\"/></a>"
      ]
    },
    {
      "cell_type": "markdown",
      "metadata": {
        "id": "NkOrWvckx2hq"
      },
      "source": [
        "# RL Research 2022 Summer"
      ]
    },
    {
      "cell_type": "markdown",
      "metadata": {
        "id": "OC_H6BnpyBMx"
      },
      "source": [
        "## Abstract"
      ]
    },
    {
      "cell_type": "markdown",
      "metadata": {
        "id": "joOPL7gXyVQs"
      },
      "source": [
        "## Learning Problem"
      ]
    },
    {
      "cell_type": "markdown",
      "metadata": {
        "id": "fIW0Pt4xyd1-"
      },
      "source": [
        "## Environement Initialization"
      ]
    },
    {
      "cell_type": "markdown",
      "metadata": {
        "id": "CYrZr-L6yhTu"
      },
      "source": [
        "## RL"
      ]
    },
    {
      "cell_type": "markdown",
      "metadata": {
        "id": "qHptNH02yvBI"
      },
      "source": [
        "## Result Visualization"
      ]
    },
    {
      "cell_type": "markdown",
      "metadata": {
        "id": "s_R1LuCJyxZA"
      },
      "source": [
        "## Result"
      ]
    },
    {
      "cell_type": "markdown",
      "metadata": {},
      "source": [
        "## Open AI Gym Demo"
      ]
    },
    {
      "cell_type": "code",
      "execution_count": null,
      "metadata": {},
      "outputs": [
        {
          "ename": "",
          "evalue": "",
          "output_type": "error",
          "traceback": [
            "\u001b[1;31mFailed to start the Kernel. \n",
            "Traceback (most recent call last):\n",
            "  File \"/Users/michaelzhou/.vscode/extensions/ms-toolsai.jupyter-2022.6.1201981810/pythonFiles/vscode_datascience_helpers/jupyter_daemon.py\", line 158, in _start_notebook\n",
            "    from notebook import notebookapp as app\n",
            "  File \"/Users/michaelzhou/.pyenv/versions/3.7.5/lib/python3.7/site-packages/notebook/notebookapp.py\", line 66, in <module>\n",
            "    from tornado import httpserver\n",
            "  File \"/Users/michaelzhou/.pyenv/versions/3.7.5/lib/python3.7/site-packages/tornado/httpserver.py\", line 29, in <module>\n",
            "    import ssl\n",
            "  File \"/Users/michaelzhou/.pyenv/versions/3.7.5/lib/python3.7/ssl.py\", line 98, in <module>\n",
            "    import _ssl             # if we can't import it, let the error propagate\n",
            "ImportError: dlopen(/Users/michaelzhou/.pyenv/versions/3.7.5/lib/python3.7/lib-dynload/_ssl.cpython-37m-darwin.so, 0x0002): Library not loaded: /usr/local/opt/openssl@1.1/lib/libssl.1.1.dylib\n",
            "  Referenced from: /Users/michaelzhou/.pyenv/versions/3.7.5/lib/python3.7/lib-dynload/_ssl.cpython-37m-darwin.so\n",
            "  Reason: tried: '/usr/local/opt/openssl@1.1/lib/libssl.1.1.dylib' (no such file), '/usr/local/lib/libssl.1.1.dylib' (no such file), '/usr/lib/libssl.1.1.dylib' (no such file)\n",
            "\n",
            "During handling of the above exception, another exception occurred:\n",
            "\n",
            "Traceback (most recent call last):\n",
            "  File \"/Users/michaelzhou/.vscode/extensions/ms-toolsai.jupyter-2022.6.1201981810/pythonFiles/vscode_datascience_helpers/daemon/daemon_python.py\", line 54, in _decorator\n",
            "    return func(self, *args, **kwargs)\n",
            "  File \"/Users/michaelzhou/.vscode/extensions/ms-toolsai.jupyter-2022.6.1201981810/pythonFiles/vscode_datascience_helpers/jupyter_daemon.py\", line 111, in m_exec_module_observable\n",
            "    self._start_notebook(args, cwd, env)\n",
            "  File \"/Users/michaelzhou/.vscode/extensions/ms-toolsai.jupyter-2022.6.1201981810/pythonFiles/vscode_datascience_helpers/jupyter_daemon.py\", line 160, in _start_notebook\n",
            "    from notebook import app as app\n",
            "ImportError: cannot import name 'app' from 'notebook' (/Users/michaelzhou/.pyenv/versions/3.7.5/lib/python3.7/site-packages/notebook/__init__.py)\n",
            "\n",
            "Failed to run jupyter as observable with args notebook --no-browser --notebook-dir=\"/Users/michaelzhou/Desktop/Personal Storage/OneDrive/CIS Research/RL-Research-2022-Summer/RL-Research-2022-Summer\" --config=/var/folders/vm/t4fqqxnn2jvf9n8f558g886h0000gn/T/455459ad-de13-4d4a-b810-2ed66fd2c96d/jupyter_notebook_config.py --NotebookApp.iopub_data_rate_limit=10000000000.0. \n",
            "View Jupyter <a href='command:jupyter.viewOutput'>log</a> for further details."
          ]
        }
      ],
      "source": [
        "import gym\n",
        "env = gym.make('Acrobot-v1')"
      ]
    },
    {
      "cell_type": "code",
      "execution_count": null,
      "metadata": {},
      "outputs": [],
      "source": []
    }
  ],
  "metadata": {
    "colab": {
      "authorship_tag": "ABX9TyNVPSofagOz2wJDM5XbVAYS",
      "collapsed_sections": [],
      "include_colab_link": true,
      "name": "CIS-Research",
      "provenance": [],
      "toc_visible": true
    },
    "kernelspec": {
      "display_name": "Python 3.7.5 64-bit ('3.7.5')",
      "language": "python",
      "name": "python3"
    },
    "language_info": {
      "name": "python",
      "version": "3.7.5"
    },
    "vscode": {
      "interpreter": {
        "hash": "0b3a01ff024561dea57aab6ef87d156b9a70972a2660c96d8010bdfd28b7e2d9"
      }
    }
  },
  "nbformat": 4,
  "nbformat_minor": 0
}
