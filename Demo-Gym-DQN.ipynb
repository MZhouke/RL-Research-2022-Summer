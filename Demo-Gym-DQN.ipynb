{
 "cells": [
  {
   "cell_type": "code",
   "execution_count": 1,
   "metadata": {
    "pycharm": {
     "name": "#%%\n"
    },
    "tags": []
   },
   "outputs": [
    {
     "ename": "ImportError",
     "evalue": "\n\nIMPORTANT: PLEASE READ THIS FOR ADVICE ON HOW TO SOLVE THIS ISSUE!\n\nImporting the numpy C-extensions failed. This error can happen for\nmany reasons, often due to issues with your setup or how NumPy was\ninstalled.\n\nWe have compiled some common reasons and troubleshooting tips at:\n\n    https://numpy.org/devdocs/user/troubleshooting-importerror.html\n\nPlease note and check the following:\n\n  * The Python version is: Python3.8 from \"/Library/Frameworks/Python.framework/Versions/3.8/bin/python3.8\"\n  * The NumPy version is: \"1.23.1\"\n\nand make sure that they are the versions you expect.\nPlease carefully study the documentation linked above for further help.\n\nOriginal error was: dlopen(/Users/michaelzhou/Library/Python/3.8/lib/python/site-packages/numpy/core/_multiarray_umath.cpython-38-darwin.so, 0x0002): tried: '/Users/michaelzhou/Library/Python/3.8/lib/python/site-packages/numpy/core/_multiarray_umath.cpython-38-darwin.so' (mach-o file, but is an incompatible architecture (have 'arm64', need 'x86_64')), '/usr/lib/_multiarray_umath.cpython-38-darwin.so' (no such file)\n",
     "output_type": "error",
     "traceback": [
      "\u001b[0;31m---------------------------------------------------------------------------\u001b[0m",
      "\u001b[0;31mImportError\u001b[0m                               Traceback (most recent call last)",
      "File \u001b[0;32m~/Library/Python/3.8/lib/python/site-packages/numpy/core/__init__.py:23\u001b[0m, in \u001b[0;36m<module>\u001b[0;34m\u001b[0m\n\u001b[1;32m     22\u001b[0m \u001b[38;5;28;01mtry\u001b[39;00m:\n\u001b[0;32m---> 23\u001b[0m     \u001b[38;5;28;01mfrom\u001b[39;00m \u001b[38;5;21;01m.\u001b[39;00m \u001b[38;5;28;01mimport\u001b[39;00m multiarray\n\u001b[1;32m     24\u001b[0m \u001b[38;5;28;01mexcept\u001b[39;00m \u001b[38;5;167;01mImportError\u001b[39;00m \u001b[38;5;28;01mas\u001b[39;00m exc:\n",
      "File \u001b[0;32m~/Library/Python/3.8/lib/python/site-packages/numpy/core/multiarray.py:10\u001b[0m, in \u001b[0;36m<module>\u001b[0;34m\u001b[0m\n\u001b[1;32m      9\u001b[0m \u001b[38;5;28;01mimport\u001b[39;00m \u001b[38;5;21;01mfunctools\u001b[39;00m\n\u001b[0;32m---> 10\u001b[0m \u001b[38;5;28;01mfrom\u001b[39;00m \u001b[38;5;21;01m.\u001b[39;00m \u001b[38;5;28;01mimport\u001b[39;00m overrides\n\u001b[1;32m     11\u001b[0m \u001b[38;5;28;01mfrom\u001b[39;00m \u001b[38;5;21;01m.\u001b[39;00m \u001b[38;5;28;01mimport\u001b[39;00m _multiarray_umath\n",
      "File \u001b[0;32m~/Library/Python/3.8/lib/python/site-packages/numpy/core/overrides.py:6\u001b[0m, in \u001b[0;36m<module>\u001b[0;34m\u001b[0m\n\u001b[1;32m      4\u001b[0m \u001b[38;5;28;01mimport\u001b[39;00m \u001b[38;5;21;01mos\u001b[39;00m\n\u001b[0;32m----> 6\u001b[0m \u001b[38;5;28;01mfrom\u001b[39;00m \u001b[38;5;21;01mnumpy\u001b[39;00m\u001b[38;5;21;01m.\u001b[39;00m\u001b[38;5;21;01mcore\u001b[39;00m\u001b[38;5;21;01m.\u001b[39;00m\u001b[38;5;21;01m_multiarray_umath\u001b[39;00m \u001b[38;5;28;01mimport\u001b[39;00m (\n\u001b[1;32m      7\u001b[0m     add_docstring, implement_array_function, _get_implementing_args)\n\u001b[1;32m      8\u001b[0m \u001b[38;5;28;01mfrom\u001b[39;00m \u001b[38;5;21;01mnumpy\u001b[39;00m\u001b[38;5;21;01m.\u001b[39;00m\u001b[38;5;21;01mcompat\u001b[39;00m\u001b[38;5;21;01m.\u001b[39;00m\u001b[38;5;21;01m_inspect\u001b[39;00m \u001b[38;5;28;01mimport\u001b[39;00m getargspec\n",
      "\u001b[0;31mImportError\u001b[0m: dlopen(/Users/michaelzhou/Library/Python/3.8/lib/python/site-packages/numpy/core/_multiarray_umath.cpython-38-darwin.so, 0x0002): tried: '/Users/michaelzhou/Library/Python/3.8/lib/python/site-packages/numpy/core/_multiarray_umath.cpython-38-darwin.so' (mach-o file, but is an incompatible architecture (have 'arm64', need 'x86_64')), '/usr/lib/_multiarray_umath.cpython-38-darwin.so' (no such file)",
      "\nDuring handling of the above exception, another exception occurred:\n",
      "\u001b[0;31mImportError\u001b[0m                               Traceback (most recent call last)",
      "Input \u001b[0;32mIn [1]\u001b[0m, in \u001b[0;36m<cell line: 1>\u001b[0;34m()\u001b[0m\n\u001b[0;32m----> 1\u001b[0m \u001b[38;5;28;01mimport\u001b[39;00m \u001b[38;5;21;01mgym\u001b[39;00m\n\u001b[1;32m      2\u001b[0m \u001b[38;5;28;01mimport\u001b[39;00m \u001b[38;5;21;01mrandom\u001b[39;00m\n\u001b[1;32m      3\u001b[0m \u001b[38;5;28;01mimport\u001b[39;00m \u001b[38;5;21;01mnumpy\u001b[39;00m \u001b[38;5;28;01mas\u001b[39;00m \u001b[38;5;21;01mnp\u001b[39;00m\n",
      "File \u001b[0;32m~/Library/Python/3.8/lib/python/site-packages/gym/__init__.py:7\u001b[0m, in \u001b[0;36m<module>\u001b[0;34m\u001b[0m\n\u001b[1;32m      4\u001b[0m \u001b[38;5;28;01mfrom\u001b[39;00m \u001b[38;5;21;01mgym\u001b[39;00m \u001b[38;5;28;01mimport\u001b[39;00m error\n\u001b[1;32m      5\u001b[0m \u001b[38;5;28;01mfrom\u001b[39;00m \u001b[38;5;21;01mgym\u001b[39;00m\u001b[38;5;21;01m.\u001b[39;00m\u001b[38;5;21;01mversion\u001b[39;00m \u001b[38;5;28;01mimport\u001b[39;00m VERSION \u001b[38;5;28;01mas\u001b[39;00m __version__\n\u001b[0;32m----> 7\u001b[0m \u001b[38;5;28;01mfrom\u001b[39;00m \u001b[38;5;21;01mgym\u001b[39;00m\u001b[38;5;21;01m.\u001b[39;00m\u001b[38;5;21;01mcore\u001b[39;00m \u001b[38;5;28;01mimport\u001b[39;00m (\n\u001b[1;32m      8\u001b[0m     Env,\n\u001b[1;32m      9\u001b[0m     Wrapper,\n\u001b[1;32m     10\u001b[0m     ObservationWrapper,\n\u001b[1;32m     11\u001b[0m     ActionWrapper,\n\u001b[1;32m     12\u001b[0m     RewardWrapper,\n\u001b[1;32m     13\u001b[0m )\n\u001b[1;32m     14\u001b[0m \u001b[38;5;28;01mfrom\u001b[39;00m \u001b[38;5;21;01mgym\u001b[39;00m\u001b[38;5;21;01m.\u001b[39;00m\u001b[38;5;21;01mspaces\u001b[39;00m \u001b[38;5;28;01mimport\u001b[39;00m Space\n\u001b[1;32m     15\u001b[0m \u001b[38;5;28;01mfrom\u001b[39;00m \u001b[38;5;21;01mgym\u001b[39;00m\u001b[38;5;21;01m.\u001b[39;00m\u001b[38;5;21;01menvs\u001b[39;00m \u001b[38;5;28;01mimport\u001b[39;00m make, spec, register\n",
      "File \u001b[0;32m~/Library/Python/3.8/lib/python/site-packages/gym/core.py:16\u001b[0m, in \u001b[0;36m<module>\u001b[0;34m\u001b[0m\n\u001b[1;32m      2\u001b[0m \u001b[38;5;28;01mimport\u001b[39;00m \u001b[38;5;21;01msys\u001b[39;00m\n\u001b[1;32m      3\u001b[0m \u001b[38;5;28;01mfrom\u001b[39;00m \u001b[38;5;21;01mtyping\u001b[39;00m \u001b[38;5;28;01mimport\u001b[39;00m (\n\u001b[1;32m      4\u001b[0m     TYPE_CHECKING,\n\u001b[1;32m      5\u001b[0m     Any,\n\u001b[0;32m   (...)\u001b[0m\n\u001b[1;32m     13\u001b[0m     Union,\n\u001b[1;32m     14\u001b[0m )\n\u001b[0;32m---> 16\u001b[0m \u001b[38;5;28;01mfrom\u001b[39;00m \u001b[38;5;21;01mgym\u001b[39;00m \u001b[38;5;28;01mimport\u001b[39;00m spaces\n\u001b[1;32m     17\u001b[0m \u001b[38;5;28;01mfrom\u001b[39;00m \u001b[38;5;21;01mgym\u001b[39;00m\u001b[38;5;21;01m.\u001b[39;00m\u001b[38;5;21;01mlogger\u001b[39;00m \u001b[38;5;28;01mimport\u001b[39;00m deprecation, warn\n\u001b[1;32m     18\u001b[0m \u001b[38;5;28;01mfrom\u001b[39;00m \u001b[38;5;21;01mgym\u001b[39;00m\u001b[38;5;21;01m.\u001b[39;00m\u001b[38;5;21;01mutils\u001b[39;00m \u001b[38;5;28;01mimport\u001b[39;00m seeding\n",
      "File \u001b[0;32m~/Library/Python/3.8/lib/python/site-packages/gym/spaces/__init__.py:11\u001b[0m, in \u001b[0;36m<module>\u001b[0;34m\u001b[0m\n\u001b[1;32m      1\u001b[0m \u001b[38;5;124;03m\"\"\"This module implements various spaces.\u001b[39;00m\n\u001b[1;32m      2\u001b[0m \n\u001b[1;32m      3\u001b[0m \u001b[38;5;124;03mSpaces describe mathematical sets and are used in Gym to specify valid actions and observations.\u001b[39;00m\n\u001b[0;32m   (...)\u001b[0m\n\u001b[1;32m      9\u001b[0m \u001b[38;5;124;03m    self.observation_space = spaces.Box(0, 1, shape=(2,))\u001b[39;00m\n\u001b[1;32m     10\u001b[0m \u001b[38;5;124;03m\"\"\"\u001b[39;00m\n\u001b[0;32m---> 11\u001b[0m \u001b[38;5;28;01mfrom\u001b[39;00m \u001b[38;5;21;01mgym\u001b[39;00m\u001b[38;5;21;01m.\u001b[39;00m\u001b[38;5;21;01mspaces\u001b[39;00m\u001b[38;5;21;01m.\u001b[39;00m\u001b[38;5;21;01mbox\u001b[39;00m \u001b[38;5;28;01mimport\u001b[39;00m Box\n\u001b[1;32m     12\u001b[0m \u001b[38;5;28;01mfrom\u001b[39;00m \u001b[38;5;21;01mgym\u001b[39;00m\u001b[38;5;21;01m.\u001b[39;00m\u001b[38;5;21;01mspaces\u001b[39;00m\u001b[38;5;21;01m.\u001b[39;00m\u001b[38;5;21;01mdict\u001b[39;00m \u001b[38;5;28;01mimport\u001b[39;00m Dict\n\u001b[1;32m     13\u001b[0m \u001b[38;5;28;01mfrom\u001b[39;00m \u001b[38;5;21;01mgym\u001b[39;00m\u001b[38;5;21;01m.\u001b[39;00m\u001b[38;5;21;01mspaces\u001b[39;00m\u001b[38;5;21;01m.\u001b[39;00m\u001b[38;5;21;01mdiscrete\u001b[39;00m \u001b[38;5;28;01mimport\u001b[39;00m Discrete\n",
      "File \u001b[0;32m~/Library/Python/3.8/lib/python/site-packages/gym/spaces/box.py:4\u001b[0m, in \u001b[0;36m<module>\u001b[0;34m\u001b[0m\n\u001b[1;32m      1\u001b[0m \u001b[38;5;124;03m\"\"\"Implementation of a space that represents closed boxes in euclidean space.\"\"\"\u001b[39;00m\n\u001b[1;32m      2\u001b[0m \u001b[38;5;28;01mfrom\u001b[39;00m \u001b[38;5;21;01mtyping\u001b[39;00m \u001b[38;5;28;01mimport\u001b[39;00m Dict, List, Optional, Sequence, SupportsFloat, Tuple, Type, Union\n\u001b[0;32m----> 4\u001b[0m \u001b[38;5;28;01mimport\u001b[39;00m \u001b[38;5;21;01mnumpy\u001b[39;00m \u001b[38;5;28;01mas\u001b[39;00m \u001b[38;5;21;01mnp\u001b[39;00m\n\u001b[1;32m      6\u001b[0m \u001b[38;5;28;01mimport\u001b[39;00m \u001b[38;5;21;01mgym\u001b[39;00m\u001b[38;5;21;01m.\u001b[39;00m\u001b[38;5;21;01merror\u001b[39;00m\n\u001b[1;32m      7\u001b[0m \u001b[38;5;28;01mfrom\u001b[39;00m \u001b[38;5;21;01mgym\u001b[39;00m \u001b[38;5;28;01mimport\u001b[39;00m logger\n",
      "File \u001b[0;32m~/Library/Python/3.8/lib/python/site-packages/numpy/__init__.py:140\u001b[0m, in \u001b[0;36m<module>\u001b[0;34m\u001b[0m\n\u001b[1;32m    137\u001b[0m \u001b[38;5;66;03m# Allow distributors to run custom init code\u001b[39;00m\n\u001b[1;32m    138\u001b[0m \u001b[38;5;28;01mfrom\u001b[39;00m \u001b[38;5;21;01m.\u001b[39;00m \u001b[38;5;28;01mimport\u001b[39;00m _distributor_init\n\u001b[0;32m--> 140\u001b[0m \u001b[38;5;28;01mfrom\u001b[39;00m \u001b[38;5;21;01m.\u001b[39;00m \u001b[38;5;28;01mimport\u001b[39;00m core\n\u001b[1;32m    141\u001b[0m \u001b[38;5;28;01mfrom\u001b[39;00m \u001b[38;5;21;01m.\u001b[39;00m\u001b[38;5;21;01mcore\u001b[39;00m \u001b[38;5;28;01mimport\u001b[39;00m \u001b[38;5;241m*\u001b[39m\n\u001b[1;32m    142\u001b[0m \u001b[38;5;28;01mfrom\u001b[39;00m \u001b[38;5;21;01m.\u001b[39;00m \u001b[38;5;28;01mimport\u001b[39;00m compat\n",
      "File \u001b[0;32m~/Library/Python/3.8/lib/python/site-packages/numpy/core/__init__.py:49\u001b[0m, in \u001b[0;36m<module>\u001b[0;34m\u001b[0m\n\u001b[1;32m     25\u001b[0m     \u001b[38;5;28;01mimport\u001b[39;00m \u001b[38;5;21;01msys\u001b[39;00m\n\u001b[1;32m     26\u001b[0m     msg \u001b[38;5;241m=\u001b[39m \u001b[38;5;124m\"\"\"\u001b[39m\n\u001b[1;32m     27\u001b[0m \n\u001b[1;32m     28\u001b[0m \u001b[38;5;124mIMPORTANT: PLEASE READ THIS FOR ADVICE ON HOW TO SOLVE THIS ISSUE!\u001b[39m\n\u001b[0;32m   (...)\u001b[0m\n\u001b[1;32m     47\u001b[0m \u001b[38;5;124m\"\"\"\u001b[39m \u001b[38;5;241m%\u001b[39m (sys\u001b[38;5;241m.\u001b[39mversion_info[\u001b[38;5;241m0\u001b[39m], sys\u001b[38;5;241m.\u001b[39mversion_info[\u001b[38;5;241m1\u001b[39m], sys\u001b[38;5;241m.\u001b[39mexecutable,\n\u001b[1;32m     48\u001b[0m         __version__, exc)\n\u001b[0;32m---> 49\u001b[0m     \u001b[38;5;28;01mraise\u001b[39;00m \u001b[38;5;167;01mImportError\u001b[39;00m(msg)\n\u001b[1;32m     50\u001b[0m \u001b[38;5;28;01mfinally\u001b[39;00m:\n\u001b[1;32m     51\u001b[0m     \u001b[38;5;28;01mfor\u001b[39;00m envkey \u001b[38;5;129;01min\u001b[39;00m env_added:\n",
      "\u001b[0;31mImportError\u001b[0m: \n\nIMPORTANT: PLEASE READ THIS FOR ADVICE ON HOW TO SOLVE THIS ISSUE!\n\nImporting the numpy C-extensions failed. This error can happen for\nmany reasons, often due to issues with your setup or how NumPy was\ninstalled.\n\nWe have compiled some common reasons and troubleshooting tips at:\n\n    https://numpy.org/devdocs/user/troubleshooting-importerror.html\n\nPlease note and check the following:\n\n  * The Python version is: Python3.8 from \"/Library/Frameworks/Python.framework/Versions/3.8/bin/python3.8\"\n  * The NumPy version is: \"1.23.1\"\n\nand make sure that they are the versions you expect.\nPlease carefully study the documentation linked above for further help.\n\nOriginal error was: dlopen(/Users/michaelzhou/Library/Python/3.8/lib/python/site-packages/numpy/core/_multiarray_umath.cpython-38-darwin.so, 0x0002): tried: '/Users/michaelzhou/Library/Python/3.8/lib/python/site-packages/numpy/core/_multiarray_umath.cpython-38-darwin.so' (mach-o file, but is an incompatible architecture (have 'arm64', need 'x86_64')), '/usr/lib/_multiarray_umath.cpython-38-darwin.so' (no such file)\n"
     ]
    }
   ],
   "source": [
    "import gym\n",
    "import random\n",
    "import numpy as np\n",
    "import tensorflow.compat.v1 as tf\n",
    "tf.disable_v2_behavior()\n",
    "from collections import deque\n",
    "print(\"Gym:\", gym.__version__)\n",
    "print(\"Tensorflow:\", tf.__version__)"
   ]
  },
  {
   "cell_type": "code",
   "execution_count": 21,
   "metadata": {
    "collapsed": false,
    "jupyter": {
     "outputs_hidden": false
    },
    "pycharm": {
     "name": "#%%\n"
    }
   },
   "outputs": [
    {
     "name": "stdout",
     "output_type": "stream",
     "text": [
      "Observation space: Box([-4.8000002e+00 -3.4028235e+38 -4.1887903e-01 -3.4028235e+38], [4.8000002e+00 3.4028235e+38 4.1887903e-01 3.4028235e+38], (4,), float32)\n",
      "Action space: Discrete(2)\n"
     ]
    }
   ],
   "source": [
    "env_name = \"CartPole-v0\"\n",
    "env = gym.make(env_name)\n",
    "print(\"Observation space:\", env.observation_space)\n",
    "print(\"Action space:\", env.action_space)"
   ]
  },
  {
   "cell_type": "code",
   "execution_count": 22,
   "metadata": {
    "collapsed": false,
    "jupyter": {
     "outputs_hidden": false
    },
    "pycharm": {
     "name": "#%%\n"
    }
   },
   "outputs": [],
   "source": [
    "class QNetwork():\n",
    "    def __init__(self, state_dim, action_size):\n",
    "        self.state_in = tf.placeholder(tf.float32, shape=[None, *state_dim])\n",
    "        self.action_in = tf.placeholder(tf.int32, shape=[None])\n",
    "        self.q_target_in = tf.placeholder(tf.float32, shape=[None])\n",
    "        action_one_hot = tf.one_hot(self.action_in, depth=action_size)\n",
    "\n",
    "        self.hidden1 = tf.layers.dense(self.state_in, 100, activation=tf.nn.relu)\n",
    "        self.q_state = tf.layers.dense(self.hidden1, action_size, activation=None)\n",
    "        self.q_state_action = tf.reduce_sum(tf.multiply(self.q_state, action_one_hot), axis=1)\n",
    "\n",
    "        self.loss = tf.reduce_mean(tf.square(self.q_state_action - self.q_target_in))\n",
    "        self.optimizer = tf.train.AdamOptimizer(learning_rate=0.001).minimize(self.loss)\n",
    "\n",
    "    def update_model(self, session, state, action, q_target):\n",
    "        feed = {self.state_in: state, self.action_in: action, self.q_target_in: q_target}\n",
    "        session.run(self.optimizer, feed_dict=feed)\n",
    "\n",
    "    def get_q_state(self, session, state):\n",
    "        q_state = session.run(self.q_state, feed_dict={self.state_in: state})\n",
    "        return q_state"
   ]
  },
  {
   "cell_type": "code",
   "execution_count": 23,
   "metadata": {
    "collapsed": false,
    "jupyter": {
     "outputs_hidden": false
    },
    "pycharm": {
     "name": "#%%\n"
    }
   },
   "outputs": [],
   "source": [
    "class ReplayBuffer():\n",
    "    def __init__(self, maxlen):\n",
    "        self.buffer = deque(maxlen=maxlen)\n",
    "\n",
    "    def add(self, experience):\n",
    "        self.buffer.append(experience)\n",
    "\n",
    "    def sample(self, batch_size):\n",
    "        sample_size = min(len(self.buffer), batch_size)\n",
    "        samples = random.choices(self.buffer, k=sample_size)\n",
    "        return map(list, zip(*samples))"
   ]
  },
  {
   "cell_type": "code",
   "execution_count": 24,
   "metadata": {
    "collapsed": false,
    "jupyter": {
     "outputs_hidden": false
    },
    "pycharm": {
     "name": "#%%\n"
    }
   },
   "outputs": [],
   "source": [
    "class DQNAgent():\n",
    "    def __init__(self, env):\n",
    "        self.state_dim = env.observation_space.shape\n",
    "        self.action_size = env.action_space.n\n",
    "        self.q_network = QNetwork(self.state_dim, self.action_size)\n",
    "        self.replay_buffer = ReplayBuffer(maxlen=10000)\n",
    "        self.gamma = 0.97\n",
    "        self.eps = 1.0\n",
    "\n",
    "        self.sess = tf.Session()\n",
    "        self.sess.run(tf.global_variables_initializer())\n",
    "\n",
    "    def get_action(self, state):\n",
    "        q_state = self.q_network.get_q_state(self.sess, [state])\n",
    "        action_greedy = np.argmax(q_state)\n",
    "        action_random = np.random.randint(self.action_size)\n",
    "        action = action_random if random.random() < self.eps else action_greedy\n",
    "        return action\n",
    "\n",
    "    def train(self, state, action, next_state, reward, done):\n",
    "        self.replay_buffer.add((state, action, next_state, reward, done))\n",
    "        states, actions, next_states, rewards, dones = self.replay_buffer.sample(50)\n",
    "        q_next_states = self.q_network.get_q_state(self.sess, next_states)\n",
    "        q_next_states[dones] = np.zeros([self.action_size])\n",
    "        q_targets = rewards + self.gamma * np.max(q_next_states, axis=1)\n",
    "        self.q_network.update_model(self.sess, states, actions, q_targets)\n",
    "\n",
    "        if done: self.eps = max(0.1, 0.99*self.eps)\n",
    "\n",
    "    def __del__(self):\n",
    "        self.sess.close()"
   ]
  },
  {
   "cell_type": "code",
   "execution_count": null,
   "metadata": {
    "collapsed": false,
    "jupyter": {
     "outputs_hidden": false
    },
    "pycharm": {
     "is_executing": true,
     "name": "#%%\n"
    }
   },
   "outputs": [
    {
     "name": "stderr",
     "output_type": "stream",
     "text": [
      "C:\\Users\\HongjianZhou\\AppData\\Local\\Temp\\ipykernel_7052\\269389735.py:8: UserWarning: `tf.layers.dense` is deprecated and will be removed in a future version. Please use `tf.keras.layers.Dense` instead.\n",
      "  self.hidden1 = tf.layers.dense(self.state_in, 100, activation=tf.nn.relu)\n",
      "C:\\Users\\HongjianZhou\\AppData\\Local\\Temp\\ipykernel_7052\\269389735.py:9: UserWarning: `tf.layers.dense` is deprecated and will be removed in a future version. Please use `tf.keras.layers.Dense` instead.\n",
      "  self.q_state = tf.layers.dense(self.hidden1, action_size, activation=None)\n"
     ]
    },
    {
     "name": "stdout",
     "output_type": "stream",
     "text": [
      "Episode: 0, total_reward: 17.00\n",
      "Episode: 1, total_reward: 19.00\n",
      "Episode: 2, total_reward: 30.00\n",
      "Episode: 3, total_reward: 13.00\n",
      "Episode: 4, total_reward: 18.00\n",
      "Episode: 5, total_reward: 12.00\n",
      "Episode: 6, total_reward: 40.00\n",
      "Episode: 7, total_reward: 15.00\n",
      "Episode: 8, total_reward: 12.00\n",
      "Episode: 9, total_reward: 56.00\n",
      "Episode: 10, total_reward: 12.00\n",
      "Episode: 11, total_reward: 17.00\n",
      "Episode: 12, total_reward: 54.00\n",
      "Episode: 13, total_reward: 52.00\n",
      "Episode: 14, total_reward: 29.00\n",
      "Episode: 15, total_reward: 16.00\n",
      "Episode: 16, total_reward: 11.00\n",
      "Episode: 17, total_reward: 19.00\n",
      "Episode: 18, total_reward: 17.00\n",
      "Episode: 19, total_reward: 38.00\n",
      "Episode: 20, total_reward: 21.00\n",
      "Episode: 21, total_reward: 27.00\n",
      "Episode: 22, total_reward: 20.00\n",
      "Episode: 23, total_reward: 38.00\n",
      "Episode: 24, total_reward: 30.00\n",
      "Episode: 25, total_reward: 16.00\n",
      "Episode: 26, total_reward: 18.00\n",
      "Episode: 27, total_reward: 34.00\n",
      "Episode: 28, total_reward: 49.00\n",
      "Episode: 29, total_reward: 21.00\n",
      "Episode: 30, total_reward: 63.00\n",
      "Episode: 31, total_reward: 53.00\n",
      "Episode: 32, total_reward: 31.00\n",
      "Episode: 33, total_reward: 70.00\n",
      "Episode: 34, total_reward: 14.00\n",
      "Episode: 35, total_reward: 18.00\n",
      "Episode: 36, total_reward: 22.00\n",
      "Episode: 37, total_reward: 31.00\n",
      "Episode: 38, total_reward: 33.00\n",
      "Episode: 39, total_reward: 37.00\n",
      "Episode: 40, total_reward: 35.00\n",
      "Episode: 41, total_reward: 97.00\n",
      "Episode: 42, total_reward: 49.00\n",
      "Episode: 43, total_reward: 45.00\n",
      "Episode: 44, total_reward: 25.00\n",
      "Episode: 45, total_reward: 18.00\n",
      "Episode: 46, total_reward: 23.00\n",
      "Episode: 47, total_reward: 56.00\n",
      "Episode: 48, total_reward: 117.00\n",
      "Episode: 49, total_reward: 47.00\n",
      "Episode: 50, total_reward: 24.00\n",
      "Episode: 51, total_reward: 64.00\n",
      "Episode: 52, total_reward: 50.00\n",
      "Episode: 53, total_reward: 60.00\n",
      "Episode: 54, total_reward: 10.00\n",
      "Episode: 55, total_reward: 96.00\n",
      "Episode: 56, total_reward: 26.00\n",
      "Episode: 57, total_reward: 36.00\n",
      "Episode: 58, total_reward: 147.00\n",
      "Episode: 59, total_reward: 23.00\n",
      "Episode: 60, total_reward: 109.00\n",
      "Episode: 61, total_reward: 55.00\n",
      "Episode: 62, total_reward: 96.00\n",
      "Episode: 63, total_reward: 154.00\n",
      "Episode: 64, total_reward: 23.00\n",
      "Episode: 65, total_reward: 69.00\n",
      "Episode: 66, total_reward: 126.00\n",
      "Episode: 67, total_reward: 114.00\n",
      "Episode: 68, total_reward: 121.00\n",
      "Episode: 69, total_reward: 200.00\n",
      "Episode: 70, total_reward: 97.00\n",
      "Episode: 71, total_reward: 57.00\n",
      "Episode: 72, total_reward: 16.00\n",
      "Episode: 73, total_reward: 200.00\n",
      "Episode: 74, total_reward: 200.00\n",
      "Episode: 75, total_reward: 143.00\n",
      "Episode: 76, total_reward: 192.00\n",
      "Episode: 77, total_reward: 139.00\n",
      "Episode: 78, total_reward: 109.00\n",
      "Episode: 79, total_reward: 200.00\n",
      "Episode: 80, total_reward: 200.00\n",
      "Episode: 81, total_reward: 53.00\n",
      "Episode: 82, total_reward: 200.00\n",
      "Episode: 83, total_reward: 200.00\n",
      "Episode: 84, total_reward: 81.00\n",
      "Episode: 85, total_reward: 200.00\n",
      "Episode: 86, total_reward: 134.00\n",
      "Episode: 87, total_reward: 176.00\n",
      "Episode: 88, total_reward: 11.00\n",
      "Episode: 89, total_reward: 200.00\n",
      "Episode: 90, total_reward: 180.00\n",
      "Episode: 91, total_reward: 200.00\n",
      "Episode: 92, total_reward: 191.00\n",
      "Episode: 93, total_reward: 200.00\n",
      "Episode: 94, total_reward: 200.00\n",
      "Episode: 95, total_reward: 99.00\n",
      "Episode: 96, total_reward: 200.00\n",
      "Episode: 97, total_reward: 184.00\n",
      "Episode: 98, total_reward: 200.00\n",
      "Episode: 99, total_reward: 200.00\n",
      "Episode: 100, total_reward: 200.00\n",
      "Episode: 101, total_reward: 200.00\n",
      "Episode: 102, total_reward: 200.00\n",
      "Episode: 103, total_reward: 200.00\n",
      "Episode: 104, total_reward: 200.00\n",
      "Episode: 105, total_reward: 200.00\n",
      "Episode: 106, total_reward: 200.00\n",
      "Episode: 107, total_reward: 200.00\n",
      "Episode: 108, total_reward: 200.00\n",
      "Episode: 109, total_reward: 200.00\n",
      "Episode: 110, total_reward: 200.00\n",
      "Episode: 111, total_reward: 139.00\n",
      "Episode: 112, total_reward: 200.00\n",
      "Episode: 113, total_reward: 35.00\n",
      "Episode: 114, total_reward: 200.00\n",
      "Episode: 115, total_reward: 200.00\n",
      "Episode: 116, total_reward: 200.00\n",
      "Episode: 117, total_reward: 200.00\n",
      "Episode: 118, total_reward: 200.00\n",
      "Episode: 119, total_reward: 119.00\n",
      "Episode: 120, total_reward: 200.00\n",
      "Episode: 121, total_reward: 181.00\n",
      "Episode: 122, total_reward: 200.00\n",
      "Episode: 123, total_reward: 200.00\n",
      "Episode: 124, total_reward: 200.00\n",
      "Episode: 125, total_reward: 193.00\n",
      "Episode: 126, total_reward: 186.00\n",
      "Episode: 127, total_reward: 200.00\n",
      "Episode: 128, total_reward: 200.00\n",
      "Episode: 129, total_reward: 200.00\n",
      "Episode: 130, total_reward: 200.00\n",
      "Episode: 131, total_reward: 200.00\n",
      "Episode: 132, total_reward: 200.00\n",
      "Episode: 133, total_reward: 200.00\n",
      "Episode: 134, total_reward: 200.00\n",
      "Episode: 135, total_reward: 200.00\n",
      "Episode: 136, total_reward: 200.00\n",
      "Episode: 137, total_reward: 200.00\n",
      "Episode: 138, total_reward: 200.00\n",
      "Episode: 139, total_reward: 200.00\n",
      "Episode: 140, total_reward: 200.00\n",
      "Episode: 141, total_reward: 200.00\n",
      "Episode: 142, total_reward: 200.00\n",
      "Episode: 143, total_reward: 200.00\n",
      "Episode: 144, total_reward: 30.00\n",
      "Episode: 145, total_reward: 200.00\n",
      "Episode: 146, total_reward: 200.00\n",
      "Episode: 147, total_reward: 200.00\n",
      "Episode: 148, total_reward: 200.00\n",
      "Episode: 149, total_reward: 200.00\n",
      "Episode: 150, total_reward: 200.00\n",
      "Episode: 151, total_reward: 200.00\n"
     ]
    }
   ],
   "source": [
    "agent = DQNAgent(env)\n",
    "num_episodes = 400\n",
    "\n",
    "for ep in range(num_episodes):\n",
    "    state = env.reset()\n",
    "    total_reward = 0\n",
    "    done = False\n",
    "    while not done:\n",
    "        action = agent.get_action(state)\n",
    "        next_state, reward, done, info = env.step(action)\n",
    "        agent.train(state, action, next_state, reward, done)\n",
    "        env.render()\n",
    "        total_reward += reward\n",
    "        state = next_state\n",
    "\n",
    "    print(\"Episode: {}, total_reward: {:.2f}\".format(ep, total_reward))"
   ]
  },
  {
   "cell_type": "code",
   "execution_count": 2,
   "metadata": {
    "collapsed": false,
    "jupyter": {
     "outputs_hidden": false
    },
    "pycharm": {
     "name": "#%%\n"
    }
   },
   "outputs": [
    {
     "name": "stdout",
     "output_type": "stream",
     "text": [
      "3.8.9 (default, Apr 13 2022, 08:48:06) \n",
      "[Clang 13.1.6 (clang-1316.0.21.2.5)]\n"
     ]
    }
   ],
   "source": [
    "import sys\n",
    "print(sys.version)"
   ]
  },
  {
   "cell_type": "code",
   "execution_count": null,
   "metadata": {},
   "outputs": [],
   "source": []
  },
  {
   "cell_type": "code",
   "execution_count": null,
   "metadata": {},
   "outputs": [],
   "source": []
  }
 ],
 "metadata": {
  "kernelspec": {
   "display_name": "Python 3 (ipykernel)",
   "language": "python",
   "name": "python3"
  },
  "language_info": {
   "codemirror_mode": {
    "name": "ipython",
    "version": 3
   },
   "file_extension": ".py",
   "mimetype": "text/x-python",
   "name": "python",
   "nbconvert_exporter": "python",
   "pygments_lexer": "ipython3",
   "version": "3.8.6"
  }
 },
 "nbformat": 4,
 "nbformat_minor": 4
}
