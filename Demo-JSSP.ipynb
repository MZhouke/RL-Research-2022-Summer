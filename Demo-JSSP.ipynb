{
 "cells": [
  {
   "cell_type": "code",
   "execution_count": 52,
   "outputs": [],
   "source": [
    "import JSSP\n",
    "import gym\n",
    "import time\n",
    "import numpy as np\n",
    "import random"
   ],
   "metadata": {
    "collapsed": false,
    "pycharm": {
     "name": "#%%\n"
    }
   }
  },
  {
   "cell_type": "markdown",
   "source": [
    "# Environment Initialization"
   ],
   "metadata": {
    "collapsed": false,
    "pycharm": {
     "name": "#%% md\n"
    }
   }
  },
  {
   "cell_type": "code",
   "execution_count": 53,
   "outputs": [],
   "source": [
    "def create_env(instance_path):\n",
    "    env_name = \"JSSP-v0\"\n",
    "    env = gym.make(env_name, instance_path = instance_path)\n",
    "    print(\"Environment Created for: \", instance_path)\n",
    "    print(\"Observation space: \\n\", env.observation_space)\n",
    "    print(\"Action space: \\n\", env.action_space)\n",
    "    return env"
   ],
   "metadata": {
    "collapsed": false,
    "pycharm": {
     "name": "#%%\n"
    }
   }
  },
  {
   "cell_type": "code",
   "execution_count": null,
   "outputs": [],
   "source": [
    "env1 = create_env(\"instance1.txt\")\n",
    "env3 = create_env(\"instance3.txt\")\n",
    "env4 = create_env(\"instance4.txt\")"
   ],
   "metadata": {
    "collapsed": false,
    "pycharm": {
     "name": "#%%\n"
    }
   }
  },
  {
   "cell_type": "markdown",
   "source": [
    "# Baselines"
   ],
   "metadata": {
    "collapsed": false,
    "pycharm": {
     "name": "#%% md\n"
    }
   }
  },
  {
   "cell_type": "markdown",
   "source": [
    "## 1. Random Sampling"
   ],
   "metadata": {
    "collapsed": false,
    "pycharm": {
     "name": "#%% md\n"
    }
   }
  },
  {
   "cell_type": "code",
   "execution_count": 62,
   "outputs": [
    {
     "name": "stdout",
     "output_type": "stream",
     "text": [
      "Episode:1 Total_reward:-66\n",
      "Episode:2 Total_reward:-65\n",
      "Episode:3 Total_reward:-76\n",
      "Episode:4 Total_reward:-59\n",
      "Episode:5 Total_reward:-75\n",
      "Episode:6 Total_reward:-75\n",
      "Episode:7 Total_reward:-65\n",
      "Episode:8 Total_reward:-59\n",
      "Episode:9 Total_reward:-60\n",
      "Episode:10 Total_reward:-64\n",
      "Episode:11 Total_reward:-60\n",
      "Episode:12 Total_reward:-74\n",
      "Episode:13 Total_reward:-50\n",
      "Episode:14 Total_reward:-68\n",
      "Episode:15 Total_reward:-68\n",
      "Episode:16 Total_reward:-49\n",
      "Episode:17 Total_reward:-75\n",
      "Episode:18 Total_reward:-66\n",
      "Episode:19 Total_reward:-65\n",
      "Episode:20 Total_reward:-60\n",
      "Episode:21 Total_reward:-78\n",
      "Episode:22 Total_reward:-61\n",
      "Episode:23 Total_reward:-65\n",
      "Episode:24 Total_reward:-79\n",
      "Episode:25 Total_reward:-67\n",
      "Episode:26 Total_reward:-47\n",
      "Episode:27 Total_reward:-60\n",
      "Episode:28 Total_reward:-74\n",
      "Episode:29 Total_reward:-50\n",
      "Episode:30 Total_reward:-74\n",
      "Episode:31 Total_reward:-50\n",
      "Episode:32 Total_reward:-66\n",
      "Episode:33 Total_reward:-76\n",
      "Episode:34 Total_reward:-67\n",
      "Episode:35 Total_reward:-65\n",
      "Episode:36 Total_reward:-74\n",
      "Episode:37 Total_reward:-74\n",
      "Episode:38 Total_reward:-53\n",
      "Episode:39 Total_reward:-65\n",
      "Episode:40 Total_reward:-52\n",
      "Episode:41 Total_reward:-50\n",
      "Episode:42 Total_reward:-66\n",
      "Episode:43 Total_reward:-69\n",
      "Episode:44 Total_reward:-65\n",
      "Episode:45 Total_reward:-68\n",
      "Episode:46 Total_reward:-51\n",
      "Episode:47 Total_reward:-64\n",
      "Episode:48 Total_reward:-75\n",
      "Episode:49 Total_reward:-53\n",
      "Episode:50 Total_reward:-75\n",
      "From 26th Episode best policy has reward -47\n",
      "The allocation chose at time 0 is [1 0]\n",
      "The allocation chose at time 15 is [2 1]\n",
      "The allocation chose at time 33 is [-1  1]\n"
     ]
    }
   ],
   "source": [
    "def random_sampling(env):\n",
    "    env.reset()\n",
    "    episodes = 50\n",
    "    max_score = -100000\n",
    "    max_episode = -1\n",
    "    max_action_list = []\n",
    "    max_time_list = []\n",
    "    for episode in range(1, episodes+1):\n",
    "        env.reset()\n",
    "        done = False\n",
    "        score = 0\n",
    "        action_list = []\n",
    "        time_list = []\n",
    "        while not done:\n",
    "            #env.render()\n",
    "            action = env.action_space.sample()\n",
    "            if action != env.action_space.n -1:\n",
    "                action_list.append(env.legal_allocation_list[action])\n",
    "                time_list.append(env.time)\n",
    "                # print('Episode:{} Allocation:{} Time:{}'.format(episode, env.legal_allocation_list[action], env.time))\n",
    "            n_state, reward, done, info = env.step(action)\n",
    "            score+=reward\n",
    "        print('Episode:{} Total_reward:{}'.format(episode, score))\n",
    "        if score >= max_score:\n",
    "            max_score = score\n",
    "            max_episode = episode\n",
    "            max_action_list = action_list\n",
    "            max_time_list = time_list\n",
    "\n",
    "\n",
    "    print('From {}th Episode best policy has reward {}'.format(max_episode, max_score))\n",
    "    for i in range(len(max_action_list)):\n",
    "        print('The allocation chose at time {} is {}'.format(max_time_list[i], max_action_list[i]))\n",
    "\n",
    "random_sampling(env1)"
   ],
   "metadata": {
    "collapsed": false,
    "pycharm": {
     "name": "#%%\n"
    }
   }
  },
  {
   "cell_type": "markdown",
   "source": [
    "## 2. Q-Learning"
   ],
   "metadata": {
    "collapsed": false,
    "pycharm": {
     "name": "#%% md\n"
    }
   }
  },
  {
   "cell_type": "code",
   "execution_count": null,
   "outputs": [],
   "source": [
    "def update(Q, s_key, s_next_key, action, r, eta, gma):\n",
    "\n",
    "    if s_key not in Q.keys():\n",
    "        Q[s_key] = {}\n",
    "\n",
    "    if s_next_key not in Q.keys() or Q[s_next_key] == {}:\n",
    "        max_next_s_Q = 0\n",
    "    else:\n",
    "        max_next_s_Q = max(Q[s_next_key].values())\n",
    "\n",
    "    if action not in Q[s_key].keys():\n",
    "        Q[s_key][action] = 0\n",
    "    Q[s_key][action] = Q[s_key][action] + eta * (r + gma * max_next_s_Q - Q[s_key][action])\n",
    "\n",
    "    return Q"
   ],
   "metadata": {
    "collapsed": false,
    "pycharm": {
     "name": "#%%\n"
    }
   }
  },
  {
   "cell_type": "code",
   "execution_count": null,
   "outputs": [],
   "source": [
    "def q_learning(env, epis):\n",
    "    # 1. Load Environment and Q-table structure\n",
    "    Q = {}\n",
    "    # 2. Parameters of Q-learning\n",
    "    eta = .628\n",
    "    gamma = .9\n",
    "    epsilon = .1\n",
    "    rev_list = [] # rewards per episode calculate\n",
    "    # 3. Q-learning Algorithm\n",
    "    for i in range(epis):\n",
    "        # Reset environment\n",
    "        s = env.reset()\n",
    "        rAll = 0\n",
    "        d = False\n",
    "        # The Q-Table learning algorithm\n",
    "        while not d:\n",
    "            # env.render()\n",
    "            # Choose action from Q table\n",
    "            s_key = tuple(np.concatenate((s[1], s[0])))\n",
    "            if s_key not in Q.keys() or Q[s_key] == {} or random.uniform(0, 1) < epsilon:\n",
    "                a = env.action_space.sample()\n",
    "            else:\n",
    "                a = max(Q[s_key], key = Q[s_key].get)\n",
    "            #Get new state & reward from environment\n",
    "            s_next, r, d, _ = env.step(a)\n",
    "            #Update Q-Table with new knowledge\n",
    "            s_next_key = tuple(np.concatenate((s_next[1], s_next[0])))\n",
    "            Q = update(Q, s_key, s_next_key, a, r, eta, gamma)\n",
    "            rAll += r\n",
    "            s = s_next\n",
    "        rev_list.append(rAll)\n",
    "        print(\"Episode: \" + str(i) + \" has reward \" + str(rAll))\n",
    "        # env.render()\n",
    "    # Code will stop at d == True, and render one state before it\n",
    "    print(\"Reward Sum on all episodes \" + str(sum(rev_list)/epis))\n",
    "    print(\"Final Values Q-Table\")\n",
    "    print(Q)"
   ],
   "metadata": {
    "collapsed": false,
    "pycharm": {
     "name": "#%%\n"
    }
   }
  },
  {
   "cell_type": "code",
   "execution_count": null,
   "outputs": [],
   "source": [
    "import matplotlib.pyplot as plt\n",
    "plt.plot(rev_list)\n",
    "plt.show"
   ],
   "metadata": {
    "collapsed": false,
    "pycharm": {
     "name": "#%%\n"
    }
   }
  },
  {
   "cell_type": "code",
   "execution_count": null,
   "outputs": [],
   "source": [
    "plt.plot(rev_list)\n",
    "plt.show"
   ],
   "metadata": {
    "collapsed": false,
    "pycharm": {
     "name": "#%%\n"
    }
   }
  },
  {
   "cell_type": "code",
   "execution_count": null,
   "outputs": [],
   "source": [],
   "metadata": {
    "collapsed": false,
    "pycharm": {
     "name": "#%%\n"
    }
   }
  },
  {
   "cell_type": "code",
   "execution_count": null,
   "outputs": [],
   "source": [
    "# 1. Load Environment and Q-table structure\n",
    "env_name = \"JSSP-v0\"\n",
    "env = gym.make(env_name, instance_path = \"instance1.txt\")\n",
    "Q = {}\n",
    "# 2. Parameters of Q-learning\n",
    "eta = .628\n",
    "gma = .9\n",
    "epis = 50\n",
    "rev_list = [] # rewards per episode calculate\n",
    "# 3. Q-learning Algorithm\n",
    "for i in range(epis):\n",
    "    # Reset environment\n",
    "    s = env.reset()\n",
    "    rAll = 0\n",
    "    d = False\n",
    "    # The Q-Table learning algorithm\n",
    "    while not d:\n",
    "        # env.render()\n",
    "        # Choose action from Q table\n",
    "        a = np.argmax(Q[s,:] + np.random.randn(1,env.action_space.n)*(1./(i+1)))\n",
    "        #Get new state & reward from environment\n",
    "        s1,r,d,_ = env.step(a)\n",
    "        #Update Q-Table with new knowledge\n",
    "        Q[s,a] = Q[s,a] + eta*(r + gma*np.max(Q[s1,:]) - Q[s,a])\n",
    "        rAll += r\n",
    "        s = s1\n",
    "    rev_list.append(rAll)\n",
    "    print(\"Episode: \" + str(i) + \" has reward \" + str(rAll))\n",
    "    # env.render()\n",
    "# Code will stop at d == True, and render one state before it\n",
    "print(\"Reward Sum on all episodes \" + str(sum(rev_list)/epis))\n",
    "print(\"Final Values Q-Table\")\n",
    "print(Q)"
   ],
   "metadata": {
    "collapsed": false,
    "pycharm": {
     "name": "#%%\n"
    }
   }
  },
  {
   "cell_type": "markdown",
   "source": [
    "# Baselines"
   ],
   "metadata": {
    "collapsed": false,
    "pycharm": {
     "name": "#%% md\n"
    }
   }
  },
  {
   "cell_type": "markdown",
   "source": [
    "## 1. Random Sampling"
   ],
   "metadata": {
    "collapsed": false,
    "pycharm": {
     "name": "#%% md\n"
    }
   }
  },
  {
   "cell_type": "code",
   "execution_count": null,
   "outputs": [],
   "source": [
    "state = env.reset()\n",
    "episodes = 50\n",
    "max_score = -100000\n",
    "for episode in range(1, episodes+1):\n",
    "    state = env.reset()\n",
    "    done = False\n",
    "    score = 0\n",
    "\n",
    "    while not done:\n",
    "        #env.render()\n",
    "        action = get_legal_action(env)\n",
    "        # if not (np.all(action == -1)):\n",
    "        #     print('Episode:{} Action:{} Time:{}'.format(episode, action, env.time))\n",
    "        n_state, reward, done, info = env.step(action)\n",
    "        score+=reward\n",
    "    print('Episode:{} Total_reward:{}'.format(episode, score))\n",
    "    max_score = max(max_score, score)\n",
    "print('From {} Episodes best policy has reward {}'.format(episodes, max_score))"
   ],
   "metadata": {
    "collapsed": false,
    "pycharm": {
     "name": "#%%\n"
    }
   }
  },
  {
   "cell_type": "markdown",
   "source": [
    "## 2. Q-Learning"
   ],
   "metadata": {
    "collapsed": false,
    "pycharm": {
     "name": "#%% md\n"
    }
   }
  },
  {
   "cell_type": "code",
   "execution_count": null,
   "outputs": [],
   "source": [
    "# 1. Load Environment and Q-table structure\n",
    "env_name = \"JSSP-v0\"\n",
    "env = gym.make(env_name, instance_path = \"instance1.txt\")\n",
    "Q = {}\n",
    "# 2. Parameters of Q-learning\n",
    "eta = .628\n",
    "gma = .9\n",
    "epis = 50\n",
    "rev_list = [] # rewards per episode calculate\n",
    "# 3. Q-learning Algorithm\n",
    "for i in range(epis):\n",
    "    # Reset environment\n",
    "    s = env.reset()\n",
    "    rAll = 0\n",
    "    d = False\n",
    "    # The Q-Table learning algorithm\n",
    "    while not d:\n",
    "        # env.render()\n",
    "        # Choose action from Q table\n",
    "        a = np.argmax(Q[s,:] + np.random.randn(1,env.action_space.n)*(1./(i+1)))\n",
    "        #Get new state & reward from environment\n",
    "        s1,r,d,_ = env.step(a)\n",
    "        #Update Q-Table with new knowledge\n",
    "        Q[s,a] = Q[s,a] + eta*(r + gma*np.max(Q[s1,:]) - Q[s,a])\n",
    "        rAll += r\n",
    "        s = s1\n",
    "    rev_list.append(rAll)\n",
    "    print(\"Episode: \" + str(i) + \" has reward \" + str(rAll))\n",
    "    # env.render()\n",
    "# Code will stop at d == True, and render one state before it\n",
    "print(\"Reward Sum on all episodes \" + str(sum(rev_list)/epis))\n",
    "print(\"Final Values Q-Table\")\n",
    "print(Q)"
   ],
   "metadata": {
    "collapsed": false,
    "pycharm": {
     "name": "#%%\n"
    }
   }
  },
  {
   "cell_type": "code",
   "execution_count": null,
   "outputs": [],
   "source": [],
   "metadata": {
    "collapsed": false,
    "pycharm": {
     "name": "#%%\n"
    }
   }
  }
 ],
 "metadata": {
  "kernelspec": {
   "display_name": "Python 3.7.4 64-bit",
   "language": "python",
   "name": "python3"
  },
  "language_info": {
   "codemirror_mode": {
    "name": "ipython",
    "version": 3
   },
   "file_extension": ".py",
   "mimetype": "text/x-python",
   "name": "python",
   "nbconvert_exporter": "python",
   "pygments_lexer": "ipython3",
   "version": "3.7.4"
  },
  "vscode": {
   "interpreter": {
    "hash": "aee8b7b246df8f9039afb4144a1f6fd8d2ca17a180786b69acc140d282b71a49"
   }
  }
 },
 "nbformat": 4,
 "nbformat_minor": 0
}