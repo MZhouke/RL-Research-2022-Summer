{
 "cells": [
  {
   "cell_type": "code",
   "execution_count": 36,
   "metadata": {
    "collapsed": false,
    "pycharm": {
     "name": "#%%\n"
    }
   },
   "outputs": [],
   "source": [
    "import JSSP\n",
    "import time\n",
    "import numpy as np\n",
    "import random\n",
    "import gym\n",
    "import itertools\n",
    "import numpy as np\n",
    "import matplotlib\n",
    "import matplotlib.style\n",
    "import pandas as pd\n",
    "import sys\n",
    "\n",
    "\n",
    "from collections import defaultdict\n",
    "#import plotting"
   ]
  },
  {
   "cell_type": "markdown",
   "metadata": {
    "collapsed": false,
    "pycharm": {
     "name": "#%% md\n"
    }
   },
   "source": [
    "# Environment Initialization"
   ]
  },
  {
   "cell_type": "code",
   "execution_count": 37,
   "metadata": {
    "collapsed": false,
    "pycharm": {
     "name": "#%%\n"
    }
   },
   "outputs": [],
   "source": [
    "def create_env(instance_path):\n",
    "    env_name = \"JSSP-v0\"\n",
    "    env = gym.make(env_name, instance_path = instance_path)\n",
    "    print(\"Environment Created for: \", instance_path)\n",
    "    print(\"Observation space: \\n\", env.observation_space)\n",
    "    print(\"Action space: \\n\", env.action_space)\n",
    "    return env"
   ]
  },
  {
   "cell_type": "code",
   "execution_count": 38,
   "metadata": {
    "collapsed": false,
    "pycharm": {
     "name": "#%%\n"
    }
   },
   "outputs": [
    {
     "name": "stdout",
     "output_type": "stream",
     "text": [
      "Environment Created for:  instance1.txt\n",
      "Observation space: \n",
      " Box([-2 -2  0  0], [2 2 2 2], (4,), int64)\n",
      "Action space: \n",
      " Discrete(8)\n",
      "Environment Created for:  instance3.txt\n",
      "Observation space: \n",
      " Box([-2 -2 -2 -2 -2 -2 -2 -2 -2 -2  0  0  0  0  0  0  0  0  0  0], [10 10 10 10 10 10 10 10 10 10  9  9  9  9  9  9  9  9  9  9], (20,), int64)\n",
      "Action space: \n",
      " Discrete(260)\n",
      "Environment Created for:  instance4.txt\n",
      "Observation space: \n",
      " Box([-2 -2 -2 -2 -2 -2 -2 -2 -2 -2  0  0  0  0  0  0  0  0  0  0], [5 5 5 5 5 5 5 5 5 5 5 5 5 5 5 5 5 5 5 5], (20,), int64)\n",
      "Action space: \n",
      " Discrete(756)\n"
     ]
    }
   ],
   "source": [
    "env1 = create_env(\"instance1.txt\")\n",
    "env3 = create_env(\"instance3.txt\")\n",
    "env4 = create_env(\"instance4.txt\")"
   ]
  },
  {
   "cell_type": "markdown",
   "metadata": {
    "collapsed": false,
    "pycharm": {
     "name": "#%% md\n"
    }
   },
   "source": [
    "# Baselines"
   ]
  },
  {
   "cell_type": "markdown",
   "metadata": {
    "collapsed": false,
    "pycharm": {
     "name": "#%% md\n"
    }
   },
   "source": [
    "## 1. Random Sampling"
   ]
  },
  {
   "cell_type": "code",
   "execution_count": 42,
   "metadata": {
    "collapsed": false,
    "pycharm": {
     "name": "#%%\n"
    }
   },
   "outputs": [
    {
     "name": "stdout",
     "output_type": "stream",
     "text": [
      "Episode:1 Total_reward:-72\n",
      "Episode:2 Total_reward:-77\n",
      "Episode:3 Total_reward:-73\n",
      "Episode:4 Total_reward:-61\n",
      "Episode:5 Total_reward:-62\n",
      "Episode:6 Total_reward:-66\n",
      "Episode:7 Total_reward:-67\n",
      "Episode:8 Total_reward:-76\n",
      "Episode:9 Total_reward:-66\n",
      "Episode:10 Total_reward:-71\n",
      "Episode:11 Total_reward:-80\n",
      "Episode:12 Total_reward:-74\n",
      "Episode:13 Total_reward:-59\n",
      "Episode:14 Total_reward:-70\n",
      "Episode:15 Total_reward:-55\n",
      "Episode:16 Total_reward:-70\n",
      "Episode:17 Total_reward:-78\n",
      "Episode:18 Total_reward:-75\n",
      "Episode:19 Total_reward:-65\n",
      "Episode:20 Total_reward:-76\n",
      "Episode:21 Total_reward:-59\n",
      "Episode:22 Total_reward:-76\n",
      "Episode:23 Total_reward:-66\n",
      "Episode:24 Total_reward:-65\n",
      "Episode:25 Total_reward:-71\n",
      "Episode:26 Total_reward:-73\n",
      "Episode:27 Total_reward:-77\n",
      "Episode:28 Total_reward:-75\n",
      "Episode:29 Total_reward:-65\n",
      "Episode:30 Total_reward:-75\n",
      "Episode:31 Total_reward:-76\n",
      "Episode:32 Total_reward:-66\n",
      "Episode:33 Total_reward:-62\n",
      "Episode:34 Total_reward:-64\n",
      "Episode:35 Total_reward:-53\n",
      "Episode:36 Total_reward:-71\n",
      "Episode:37 Total_reward:-60\n",
      "Episode:38 Total_reward:-67\n",
      "Episode:39 Total_reward:-60\n",
      "Episode:40 Total_reward:-77\n",
      "Episode:41 Total_reward:-76\n",
      "Episode:42 Total_reward:-71\n",
      "Episode:43 Total_reward:-65\n",
      "Episode:44 Total_reward:-77\n",
      "Episode:45 Total_reward:-72\n",
      "Episode:46 Total_reward:-60\n",
      "Episode:47 Total_reward:-78\n",
      "Episode:48 Total_reward:-59\n",
      "Episode:49 Total_reward:-61\n",
      "Episode:50 Total_reward:-65\n",
      "Episode:51 Total_reward:-79\n",
      "Episode:52 Total_reward:-77\n",
      "Episode:53 Total_reward:-77\n",
      "Episode:54 Total_reward:-55\n",
      "Episode:55 Total_reward:-75\n",
      "Episode:56 Total_reward:-75\n",
      "Episode:57 Total_reward:-75\n",
      "Episode:58 Total_reward:-71\n",
      "Episode:59 Total_reward:-65\n",
      "Episode:60 Total_reward:-55\n",
      "Episode:61 Total_reward:-60\n",
      "Episode:62 Total_reward:-68\n",
      "Episode:63 Total_reward:-76\n",
      "Episode:64 Total_reward:-63\n",
      "Episode:65 Total_reward:-65\n",
      "Episode:66 Total_reward:-80\n",
      "Episode:67 Total_reward:-71\n",
      "Episode:68 Total_reward:-65\n",
      "Episode:69 Total_reward:-71\n",
      "Episode:70 Total_reward:-77\n",
      "Episode:71 Total_reward:-60\n",
      "Episode:72 Total_reward:-60\n",
      "Episode:73 Total_reward:-69\n",
      "Episode:74 Total_reward:-73\n",
      "Episode:75 Total_reward:-70\n",
      "Episode:76 Total_reward:-66\n",
      "Episode:77 Total_reward:-72\n",
      "Episode:78 Total_reward:-68\n",
      "Episode:79 Total_reward:-60\n",
      "Episode:80 Total_reward:-68\n",
      "Episode:81 Total_reward:-77\n",
      "Episode:82 Total_reward:-60\n",
      "Episode:83 Total_reward:-67\n",
      "Episode:84 Total_reward:-74\n",
      "Episode:85 Total_reward:-64\n",
      "Episode:86 Total_reward:-67\n",
      "Episode:87 Total_reward:-84\n",
      "Episode:88 Total_reward:-65\n",
      "Episode:89 Total_reward:-78\n",
      "Episode:90 Total_reward:-60\n",
      "Episode:91 Total_reward:-77\n",
      "Episode:92 Total_reward:-69\n",
      "Episode:93 Total_reward:-71\n",
      "Episode:94 Total_reward:-74\n",
      "Episode:95 Total_reward:-66\n",
      "Episode:96 Total_reward:-71\n",
      "Episode:97 Total_reward:-76\n",
      "Episode:98 Total_reward:-63\n",
      "Episode:99 Total_reward:-64\n",
      "Episode:100 Total_reward:-67\n",
      "From 35th Episode best policy has reward -53\n",
      "The allocation chose at time 0 is [1 0]\n",
      "The allocation chose at time 15 is [ 2 -1]\n",
      "The allocation chose at time 20 is [-1  1]\n",
      "The allocation chose at time 38 is [-1  1]\n"
     ]
    }
   ],
   "source": [
    "def random_sampling(env, episodes):\n",
    "    env.reset()\n",
    "    max_score = -100000\n",
    "    max_episode = -1\n",
    "    max_action_list = []\n",
    "    max_time_list = []\n",
    "    for episode in range(1, episodes+1):\n",
    "        env.reset()\n",
    "        done = False\n",
    "        score = 0\n",
    "        action_list = []\n",
    "        time_list = []\n",
    "        while not done:\n",
    "            #env.render()\n",
    "            action = env.action_space.sample()\n",
    "            if action != env.action_space.n -1:\n",
    "                action_list.append(env.legal_allocation_list[action])\n",
    "                time_list.append(env.time)\n",
    "                # print('Episode:{} Allocation:{} Time:{}'.format(episode, env.legal_allocation_list[action], env.time))\n",
    "            n_state, reward, done, info = env.step(action)\n",
    "            score+=reward\n",
    "        print('Episode:{} Total_reward:{}'.format(episode, score))\n",
    "        if score >= max_score:\n",
    "            max_score = score\n",
    "            max_episode = episode\n",
    "            max_action_list = action_list\n",
    "            max_time_list = time_list\n",
    "    print('From {}th Episode best policy has reward {}'.format(max_episode, max_score))\n",
    "    for i in range(len(max_action_list)):\n",
    "        print('The allocation chose at time {} is {}'.format(max_time_list[i], max_action_list[i]))\n",
    "\n",
    "random_sampling(env1, 100)"
   ]
  },
  {
   "cell_type": "markdown",
   "metadata": {
    "collapsed": false,
    "pycharm": {
     "name": "#%% md\n"
    }
   },
   "source": [
    "## 2. Q-Learning"
   ]
  },
  {
   "cell_type": "code",
   "execution_count": 43,
   "outputs": [],
   "source": [
    "# def createEpsilonGreedyPolicy(Q, epsilon, num_actions):\n",
    "# \t\"\"\"\n",
    "# \tCreates an epsilon-greedy policy based\n",
    "# \ton a given Q-function and epsilon.\n",
    "#\n",
    "# \tReturns a function that takes the state\n",
    "# \tas an input and returns the probabilities\n",
    "# \tfor each action in the form of a numpy array\n",
    "# \tof length of the action space(set of possible actions).\n",
    "# \t\"\"\"\n",
    "def policy(state, Q, epsilon, num_actions):\n",
    "\n",
    "    if state in Q:\n",
    "        best_action = np.argmax(Q[state])\n",
    "        Action_probabilities = np.ones(num_actions, dtype = float) * epsilon / num_actions\n",
    "        Action_probabilities[best_action] += (1.0 - epsilon)\n",
    "        return Action_probabilities\n",
    "\n",
    "    Action_probabilities = np.ones(num_actions, dtype = float) / num_actions\n",
    "    return Action_probabilities"
   ],
   "metadata": {
    "collapsed": false,
    "pycharm": {
     "name": "#%%\n"
    }
   }
  },
  {
   "cell_type": "code",
   "execution_count": 44,
   "outputs": [],
   "source": [
    "def update(Q, state, next_state, action, reward, eta, gamma):\n",
    "\n",
    "    if next_state not in Q:\n",
    "        Q_next_state_max = -1\n",
    "    else:\n",
    "        Q_next_state_max = max(Q[next_state])\n",
    "\n",
    "    Q[state][action] = Q[state][action] + eta * (reward + gamma * Q_next_state_max - Q[state][action])\n",
    "\n",
    "    return Q"
   ],
   "metadata": {
    "collapsed": false,
    "pycharm": {
     "name": "#%%\n"
    }
   }
  },
  {
   "cell_type": "code",
   "execution_count": 47,
   "outputs": [
    {
     "name": "stdout",
     "output_type": "stream",
     "text": [
      "\n",
      "Episode: 0 has time 60\n",
      "Episode: 1 has time 75\n",
      "Episode: 2 has time 83\n",
      "Episode: 3 has time 66\n",
      "Episode: 4 has time 71\n",
      "Episode: 5 has time 70\n",
      "Episode: 6 has time 62\n",
      "Episode: 7 has time 61\n",
      "Episode: 8 has time 60\n",
      "Episode: 9 has time 75\n",
      "Episode: 10 has time 101\n",
      "Episode: 11 has time 60\n",
      "Episode: 12 has time 75\n",
      "Episode: 13 has time 66\n",
      "Episode: 14 has time 65\n",
      "Episode: 15 has time 60\n",
      "Episode: 16 has time 60\n",
      "Episode: 17 has time 71\n",
      "Episode: 18 has time 70\n",
      "Episode: 19 has time 62\n",
      "Episode: 20 has time 62\n",
      "Episode: 21 has time 66\n",
      "Episode: 22 has time 58\n",
      "Episode: 23 has time 63\n",
      "Episode: 24 has time 73\n",
      "Episode: 25 has time 64\n",
      "Episode: 26 has time 75\n",
      "Episode: 27 has time 64\n",
      "Episode: 28 has time 69\n",
      "Episode: 29 has time 67\n",
      "Episode: 30 has time 58\n",
      "Episode: 31 has time 84\n",
      "Episode: 32 has time 64\n",
      "Episode: 33 has time 65\n",
      "Episode: 34 has time 78\n",
      "Episode: 35 has time 69\n",
      "Episode: 36 has time 63\n",
      "Episode: 37 has time 70\n",
      "Episode: 38 has time 72\n",
      "Episode: 39 has time 89\n",
      "Episode: 40 has time 84\n",
      "Episode: 41 has time 86\n",
      "Episode: 42 has time 69\n",
      "Episode: 43 has time 130\n",
      "Episode: 44 has time 85\n",
      "Episode: 45 has time 98\n",
      "Episode: 46 has time 63\n",
      "Episode: 47 has time 96\n",
      "Episode: 48 has time 80\n",
      "Episode: 49 has time 70\n",
      "Episode: 50 has time 69\n",
      "Episode: 51 has time 81\n",
      "Episode: 52 has time 81\n",
      "Episode: 53 has time 72\n",
      "Episode: 54 has time 64\n",
      "Episode: 55 has time 86\n",
      "Episode: 56 has time 71\n",
      "Episode: 57 has time 73\n",
      "Episode: 58 has time 67\n",
      "Episode: 59 has time 54\n",
      "Episode: 60 has time 67\n",
      "Episode: 61 has time 61\n",
      "Episode: 62 has time 74\n",
      "Episode: 63 has time 70\n",
      "Episode: 64 has time 64\n",
      "Episode: 65 has time 75\n",
      "Episode: 66 has time 85\n",
      "Episode: 67 has time 53\n",
      "Episode: 68 has time 56\n",
      "Episode: 69 has time 72\n",
      "Episode: 70 has time 78\n",
      "Episode: 71 has time 80\n",
      "Episode: 72 has time 70\n",
      "Episode: 73 has time 101\n",
      "Episode: 74 has time 83\n",
      "Episode: 75 has time 73\n",
      "Episode: 76 has time 73\n",
      "Episode: 77 has time 73\n",
      "Episode: 78 has time 82\n",
      "Episode: 79 has time 63\n",
      "Episode: 80 has time 70\n",
      "Episode: 81 has time 82\n",
      "Episode: 82 has time 77\n",
      "Episode: 83 has time 91\n",
      "Episode: 84 has time 79\n",
      "Episode: 85 has time 69\n",
      "Episode: 86 has time 75\n",
      "Episode: 87 has time 85\n",
      "Episode: 88 has time 83\n",
      "Episode: 89 has time 77\n",
      "Episode: 90 has time 67\n",
      "Episode: 91 has time 62\n",
      "Episode: 92 has time 60\n",
      "Episode: 93 has time 72\n",
      "Episode: 94 has time 65\n",
      "Episode: 95 has time 73\n",
      "Episode: 96 has time 70\n",
      "Episode: 97 has time 65\n",
      "Episode: 98 has time 69\n",
      "Episode: 99 has time 71\n",
      "From 68th Episode best policy has reward -53\n",
      "The allocation chose at time 0 is [-1  0]\n",
      "The allocation chose at time 20 is [-1  1]\n",
      "The allocation chose at time 21 is [ 0 -1]\n",
      "The allocation chose at time 31 is [ 2 -1]\n",
      "The allocation chose at time 38 is [-1  1]\n"
     ]
    }
   ],
   "source": [
    "def q_learning(env, epis):\n",
    "\n",
    "    max_score = -100000\n",
    "    max_episode = -1\n",
    "    max_action_list = []\n",
    "    max_time_list = []\n",
    "\n",
    "    # 1. Load Environment and Q-table structure\n",
    "    Q_table = {}\n",
    "    # 2. Parameters of Q-learning\n",
    "    eta = .628\n",
    "    gamma = 1\n",
    "    epsilon = .1\n",
    "    decay_rate = .0001\n",
    "    total_reward_list = [] # rewards per episode calculate\n",
    "    # 3. Q-learning Algorithm\n",
    "    for episode in range(epis):\n",
    "        # Reset environment\n",
    "        state = env.reset()\n",
    "        total_reward = 0\n",
    "        done = False\n",
    "        action_list = []\n",
    "        time_list = []\n",
    "\n",
    "        # The Q-Table learning algorithm\n",
    "        while not done:\n",
    "            if epsilon >= decay_rate:\n",
    "                epsilon -= decay_rate\n",
    "            if state not in Q_table:\n",
    "                Q_table[state] = np.zeros(env.action_space.n)\n",
    "            action_probabilities = policy(state, Q_table, epsilon, env.action_space.n)\n",
    "            action = np.random.choice(np.arange(len(action_probabilities)), p = action_probabilities)\n",
    "            if action != env.action_space.n -1:\n",
    "                action_list.append(env.legal_allocation_list[action])\n",
    "                time_list.append(env.time)\n",
    "                #print('Episode:{} Allocation:{} Time:{}'.format(episode, env.legal_allocation_list[action], env.time))\n",
    "            #Get new state & reward from environment\n",
    "            next_state, reward, done, _ = env.step(action)\n",
    "            #Update Q-Table with new knowledge\n",
    "            Q_table = update(Q_table, state, next_state, action, reward, eta, gamma)\n",
    "            if eta > .01:\n",
    "                eta -= decay_rate\n",
    "            total_reward += reward\n",
    "            state = next_state\n",
    "        total_reward_list.append(total_reward)\n",
    "        if total_reward >= max_score:\n",
    "            max_score = total_reward\n",
    "            max_episode = episode\n",
    "            max_action_list = action_list\n",
    "            max_time_list = time_list\n",
    "        print(\"Episode: \" + str(episode) + \" has time \" + str(env.time))\n",
    "\n",
    "    print('From {}th Episode best policy has reward {}'.format(max_episode + 1, max_score))\n",
    "    for i in range(len(max_action_list)):\n",
    "        print('The allocation chose at time {} is {}'.format(max_time_list[i], max_action_list[i]))\n",
    "\n",
    "    return total_reward_list, Q_table\n",
    "\n",
    "print()\n",
    "total_reward_list, Q_table = q_learning(env1, 100)"
   ],
   "metadata": {
    "collapsed": false,
    "pycharm": {
     "name": "#%%\n"
    }
   }
  },
  {
   "cell_type": "code",
   "execution_count": 35,
   "outputs": [
    {
     "data": {
      "text/plain": "<function matplotlib.pyplot.show(close=None, block=None)>"
     },
     "execution_count": 35,
     "metadata": {},
     "output_type": "execute_result"
    },
    {
     "data": {
      "text/plain": "<Figure size 432x288 with 1 Axes>",
      "image/png": "[encoded data removed]"
     },
     "metadata": {
      "needs_background": "light"
     },
     "output_type": "display_data"
    }
   ],
   "source": [
    "import matplotlib.pyplot as plt\n",
    "plt.plot(total_reward_list)\n",
    "plt.show\n"
   ],
   "metadata": {
    "collapsed": false,
    "pycharm": {
     "name": "#%%\n"
    }
   }
  },
  {
   "cell_type": "code",
   "execution_count": null,
   "outputs": [],
   "source": [
    "plt.plot(total_reward_list)\n",
    "plt.show"
   ],
   "metadata": {
    "collapsed": false,
    "pycharm": {
     "name": "#%%\n"
    }
   }
  },
  {
   "cell_type": "code",
   "execution_count": null,
   "outputs": [],
   "source": [
    "print(Q_table)"
   ],
   "metadata": {
    "collapsed": false,
    "pycharm": {
     "name": "#%%\n"
    }
   }
  },
  {
   "cell_type": "markdown",
   "source": [
    "## DQN"
   ],
   "metadata": {
    "collapsed": false,
    "pycharm": {
     "name": "#%% md\n"
    }
   }
  },
  {
   "cell_type": "code",
   "execution_count": null,
   "outputs": [],
   "source": [
    "from stable_baselines3 import DQN\n",
    "\n",
    "model = DQN(\"MlpPolicy\", env1, verbose=1)\n",
    "model.learn(total_timesteps=10000, log_interval=4)\n",
    "model.save(\"dqn_cartpole\")\n",
    "\n",
    "del model # remove to demonstrate saving and loading\n",
    "\n",
    "model = DQN.load(\"dqn_cartpole\")\n",
    "\n",
    "obs = env1.reset()\n",
    "for episode in range(500):\n",
    "    env1.reset()\n",
    "    total_reward = 0\n",
    "    while not done:\n",
    "        action, _states = model.predict(obs, deterministic=True)\n",
    "        obs, reward, done, info = env1.step(action)\n",
    "        total_reward += reward\n",
    "    print(\"Episode: \" + str(episode) + \" has reward \" + str(total_reward))\n",
    "        # env.render()"
   ],
   "metadata": {
    "collapsed": false,
    "pycharm": {
     "name": "#%%\n"
    }
   }
  },
  {
   "cell_type": "markdown",
   "source": [
    "## Q Learning from web"
   ],
   "metadata": {
    "collapsed": false,
    "pycharm": {
     "name": "#%% md\n"
    }
   }
  },
  {
   "cell_type": "code",
   "execution_count": null,
   "outputs": [],
   "source": [
    "def createEpsilonGreedyPolicy(Q, epsilon, num_actions, env):\n",
    "\t\"\"\"\n",
    "\tCreates an epsilon-greedy policy based\n",
    "\ton a given Q-function and epsilon.\n",
    "\n",
    "\tReturns a function that takes the state\n",
    "\tas an input and returns the probabilities\n",
    "\tfor each action in the form of a numpy array\n",
    "\tof length of the action space(set of possible actions).\n",
    "\t\"\"\"\n",
    "\tdef policyFunction(state):\n",
    "\n",
    "\t\tAction_probabilities = np.ones(num_actions,\n",
    "\t\t\t\tdtype = float) * epsilon / num_actions\n",
    "\n",
    "\t\tbest_action = np.argmax(Q[state])\n",
    "\t\tAction_probabilities[best_action] += (1.0 - epsilon)\n",
    "\t\treturn Action_probabilities\n",
    "\n",
    "\treturn policyFunction"
   ],
   "metadata": {
    "collapsed": false,
    "pycharm": {
     "name": "#%%\n"
    }
   }
  },
  {
   "cell_type": "code",
   "execution_count": null,
   "outputs": [],
   "source": [
    "def qLearning(env, num_episodes, discount_factor = 1.0,\n",
    "\t\t\t\t\t\t\talpha = 0.6, epsilon = 0.1):\n",
    "\t\"\"\"\n",
    "\tQ-Learning algorithm: Off-policy TD control.\n",
    "\tFinds the optimal greedy policy while improving\n",
    "\tfollowing an epsilon-greedy policy\"\"\"\n",
    "\n",
    "\t# Action value function\n",
    "\t# A nested dictionary that maps\n",
    "\t# state -> (action -> action-value).\n",
    "\tQ = defaultdict(lambda: np.zeros(env.action_space.n))\n",
    "\n",
    "\t# Keeps track of useful statistics\n",
    "\tstats = {\n",
    "            \"episode_lengths\" : np.zeros(num_episodes),\n",
    "\t\t    \"episode_rewards\" : np.zeros(num_episodes)}\n",
    "\n",
    "\t# Create an epsilon greedy policy function\n",
    "\t# appropriately for environment action space\n",
    "\tpolicy = createEpsilonGreedyPolicy(Q, epsilon, env.action_space.n, env)\n",
    "\n",
    "\t# For every episode\n",
    "\tfor ith_episode in range(num_episodes):\n",
    "\n",
    "\t\t# Reset the environment and pick the first action\n",
    "\t\tstate = env.reset()\n",
    "\n",
    "\t\tfor t in itertools.count():\n",
    "\n",
    "\t\t\t# get probabilities of all actions from current state\n",
    "\t\t\taction_probabilities = policy(state)\n",
    "\n",
    "\t\t\t# choose action according to\n",
    "\t\t\t# the probability distribution\n",
    "\t\t\taction = np.random.choice(np.arange(\n",
    "\t\t\t\t\tlen(action_probabilities)),\n",
    "\t\t\t\t\tp = action_probabilities)\n",
    "\n",
    "\t\t\t# take action and get reward, transit to next state\n",
    "\t\t\tnext_state, reward, done, _ = env.step(action)\n",
    "\n",
    "\t\t\t# Update statistics\n",
    "\t\t\tstats[\"episode_rewards\"][ith_episode] += reward\n",
    "\t\t\tstats[\"episode_lengths\"][ith_episode] = t\n",
    "\n",
    "\t\t\t# TD Update\n",
    "\t\t\tbest_next_action = np.argmax(Q[next_state])\n",
    "\t\t\ttd_target = reward + discount_factor * Q[next_state][best_next_action]\n",
    "\t\t\ttd_delta = td_target - Q[state][action]\n",
    "\t\t\tQ[state][action] += alpha * td_delta\n",
    "\n",
    "\t\t\t# done is True if episode terminated\n",
    "\t\t\tif done:\n",
    "\t\t\t\tbreak\n",
    "\n",
    "\t\t\tstate = next_state\n",
    "\n",
    "\treturn Q, stats"
   ],
   "metadata": {
    "collapsed": false,
    "pycharm": {
     "name": "#%%\n"
    }
   }
  }
 ],
 "metadata": {
  "kernelspec": {
   "display_name": "Python 3.7.4 64-bit",
   "language": "python",
   "name": "python3"
  },
  "language_info": {
   "codemirror_mode": {
    "name": "ipython",
    "version": 3
   },
   "file_extension": ".py",
   "mimetype": "text/x-python",
   "name": "python",
   "nbconvert_exporter": "python",
   "pygments_lexer": "ipython3",
   "version": "3.7.4"
  },
  "vscode": {
   "interpreter": {
    "hash": "aee8b7b246df8f9039afb4144a1f6fd8d2ca17a180786b69acc140d282b71a49"
   }
  }
 },
 "nbformat": 4,
 "nbformat_minor": 0
}