{
 "cells": [
  {
   "cell_type": "code",
   "execution_count": 29,
   "outputs": [],
   "source": [
    "import JSSP\n",
    "import gym\n",
    "import time\n",
    "import numpy as np"
   ],
   "metadata": {
    "collapsed": false,
    "pycharm": {
     "name": "#%%\n"
    }
   }
  },
  {
   "cell_type": "markdown",
   "source": [
    "# Environment Initialization"
   ],
   "metadata": {
    "collapsed": false,
    "pycharm": {
     "name": "#%% md\n"
    }
   }
  },
  {
   "cell_type": "code",
   "execution_count": 30,
   "outputs": [
    {
     "name": "stdout",
     "output_type": "stream",
     "text": [
      "Observation space: Dict(0:Box([0 0], [2 2], (2,), int64), 1:Box([-2 -2], [2 2], (2,), int64))\n",
      "Action space: Box([-1 -1], [2 2], (2,), int64)\n"
     ]
    }
   ],
   "source": [
    "env_name = \"JSSP-v0\"\n",
    "env = gym.make(env_name, instance_path = \"instance1.txt\")\n",
    "print(\"Observation space:\", env.observation_space)\n",
    "print(\"Action space:\", env.action_space)"
   ],
   "metadata": {
    "collapsed": false,
    "pycharm": {
     "name": "#%%\n"
    }
   }
  },
  {
   "cell_type": "markdown",
   "source": [
    "# Action Choosing"
   ],
   "metadata": {
    "collapsed": false,
    "pycharm": {
     "name": "#%% md\n"
    }
   }
  },
  {
   "cell_type": "code",
   "execution_count": 31,
   "outputs": [],
   "source": [
    "def get_legal_action(jsp_env):\n",
    "    is_legal = False\n",
    "    while not is_legal:\n",
    "        Chosen_action = jsp_env.action_space.sample()\n",
    "        is_legal = jsp_env.is_legal(Chosen_action)\n",
    "    return Chosen_action"
   ],
   "metadata": {
    "collapsed": false,
    "pycharm": {
     "name": "#%%\n"
    }
   }
  },
  {
   "cell_type": "markdown",
   "source": [
    "# Baselines"
   ],
   "metadata": {
    "collapsed": false,
    "pycharm": {
     "name": "#%% md\n"
    }
   }
  },
  {
   "cell_type": "markdown",
   "source": [
    "## 1. Random Sampling"
   ],
   "metadata": {
    "collapsed": false,
    "pycharm": {
     "name": "#%% md\n"
    }
   }
  },
  {
   "cell_type": "code",
   "execution_count": 43,
   "outputs": [
    {
     "name": "stdout",
     "output_type": "stream",
     "text": [
      "Episode:1 Total_reward:-77\n",
      "Episode:2 Total_reward:-64\n",
      "Episode:3 Total_reward:-77\n",
      "Episode:4 Total_reward:-69\n",
      "Episode:5 Total_reward:-65\n",
      "Episode:6 Total_reward:-73\n",
      "Episode:7 Total_reward:-65\n",
      "Episode:8 Total_reward:-74\n",
      "Episode:9 Total_reward:-83\n",
      "Episode:10 Total_reward:-64\n",
      "Episode:11 Total_reward:-76\n",
      "Episode:12 Total_reward:-76\n",
      "Episode:13 Total_reward:-65\n",
      "Episode:14 Total_reward:-76\n",
      "Episode:15 Total_reward:-70\n",
      "Episode:16 Total_reward:-64\n",
      "Episode:17 Total_reward:-58\n",
      "Episode:18 Total_reward:-65\n",
      "Episode:19 Total_reward:-65\n",
      "Episode:20 Total_reward:-60\n",
      "Episode:21 Total_reward:-78\n",
      "Episode:22 Total_reward:-62\n",
      "Episode:23 Total_reward:-65\n",
      "Episode:24 Total_reward:-43\n",
      "Episode:25 Total_reward:-50\n",
      "Episode:26 Total_reward:-58\n",
      "Episode:27 Total_reward:-75\n",
      "Episode:28 Total_reward:-68\n",
      "Episode:29 Total_reward:-71\n",
      "Episode:30 Total_reward:-75\n",
      "Episode:31 Total_reward:-52\n",
      "Episode:32 Total_reward:-76\n",
      "Episode:33 Total_reward:-74\n",
      "Episode:34 Total_reward:-59\n",
      "Episode:35 Total_reward:-51\n",
      "Episode:36 Total_reward:-50\n",
      "Episode:37 Total_reward:-61\n",
      "Episode:38 Total_reward:-57\n",
      "Episode:39 Total_reward:-50\n",
      "Episode:40 Total_reward:-67\n",
      "Episode:41 Total_reward:-63\n",
      "Episode:42 Total_reward:-74\n",
      "Episode:43 Total_reward:-63\n",
      "Episode:44 Total_reward:-68\n",
      "Episode:45 Total_reward:-76\n",
      "Episode:46 Total_reward:-66\n",
      "Episode:47 Total_reward:-69\n",
      "Episode:48 Total_reward:-76\n",
      "Episode:49 Total_reward:-74\n",
      "Episode:50 Total_reward:-60\n",
      "From 50 Episodes best policy has reward -43\n"
     ]
    }
   ],
   "source": [
    "state = env.reset()\n",
    "episodes = 50\n",
    "max_score = -100000\n",
    "for episode in range(1, episodes+1):\n",
    "    state = env.reset()\n",
    "    done = False\n",
    "    score = 0\n",
    "\n",
    "    while not done:\n",
    "        #env.render()\n",
    "        action = get_legal_action(env)\n",
    "        # if not (np.all(action == -1)):\n",
    "        #     print('Episode:{} Action:{} Time:{}'.format(episode, action, env.time))\n",
    "        n_state, reward, done, info = env.step(action)\n",
    "        score+=reward\n",
    "    print('Episode:{} Total_reward:{}'.format(episode, score))\n",
    "    max_score = max(max_score, score)\n",
    "print('From {} Episodes best policy has reward {}'.format(episodes, max_score))"
   ],
   "metadata": {
    "collapsed": false,
    "pycharm": {
     "name": "#%%\n"
    }
   }
  },
  {
   "cell_type": "markdown",
   "source": [
    "## 2. Q-Learning"
   ],
   "metadata": {
    "collapsed": false,
    "pycharm": {
     "name": "#%% md\n"
    }
   }
  },
  {
   "cell_type": "code",
   "execution_count": null,
   "outputs": [],
   "source": [
    "# 1. Load Environment and Q-table structure\n",
    "env_name = \"JSSP-v0\"\n",
    "env = gym.make(env_name, instance_path = \"instance1.txt\")\n",
    "Q = {}\n",
    "# 2. Parameters of Q-learning\n",
    "eta = .628\n",
    "gma = .9\n",
    "epis = 50\n",
    "rev_list = [] # rewards per episode calculate\n",
    "# 3. Q-learning Algorithm\n",
    "for i in range(epis):\n",
    "    # Reset environment\n",
    "    s = env.reset()\n",
    "    rAll = 0\n",
    "    d = False\n",
    "    # The Q-Table learning algorithm\n",
    "    while not d:\n",
    "        # env.render()\n",
    "        # Choose action from Q table\n",
    "        a = np.argmax(Q[s,:] + np.random.randn(1,env.action_space.n)*(1./(i+1)))\n",
    "        #Get new state & reward from environment\n",
    "        s1,r,d,_ = env.step(a)\n",
    "        #Update Q-Table with new knowledge\n",
    "        Q[s,a] = Q[s,a] + eta*(r + gma*np.max(Q[s1,:]) - Q[s,a])\n",
    "        rAll += r\n",
    "        s = s1\n",
    "    rev_list.append(rAll)\n",
    "    print(\"Episode: \" + str(i) + \" has reward \" + str(rAll))\n",
    "    # env.render()\n",
    "# Code will stop at d == True, and render one state before it\n",
    "print(\"Reward Sum on all episodes \" + str(sum(rev_list)/epis))\n",
    "print(\"Final Values Q-Table\")\n",
    "print(Q)"
   ],
   "metadata": {
    "collapsed": false,
    "pycharm": {
     "name": "#%%\n"
    }
   }
  },
  {
   "cell_type": "code",
   "execution_count": 15,
   "outputs": [],
   "source": [],
   "metadata": {
    "collapsed": false,
    "pycharm": {
     "name": "#%%\n"
    }
   }
  }
 ],
 "metadata": {
  "kernelspec": {
   "display_name": "Python 3.7.4 64-bit",
   "language": "python",
   "name": "python3"
  },
  "language_info": {
   "codemirror_mode": {
    "name": "ipython",
    "version": 3
   },
   "file_extension": ".py",
   "mimetype": "text/x-python",
   "name": "python",
   "nbconvert_exporter": "python",
   "pygments_lexer": "ipython3",
   "version": "3.7.4"
  },
  "vscode": {
   "interpreter": {
    "hash": "aee8b7b246df8f9039afb4144a1f6fd8d2ca17a180786b69acc140d282b71a49"
   }
  }
 },
 "nbformat": 4,
 "nbformat_minor": 0
}