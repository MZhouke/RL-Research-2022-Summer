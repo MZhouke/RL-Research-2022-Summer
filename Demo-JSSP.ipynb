{
 "cells": [
  {
   "cell_type": "code",
   "execution_count": null,
   "outputs": [],
   "source": [
    "import JSSP\n",
    "import gym\n",
    "import time\n",
    "import numpy as np\n",
    "import random"
   ],
   "metadata": {
    "collapsed": false,
    "pycharm": {
     "name": "#%%\n"
    }
   }
  },
  {
   "cell_type": "markdown",
   "source": [
    "# Environment Initialization"
   ],
   "metadata": {
    "collapsed": false,
    "pycharm": {
     "name": "#%% md\n"
    }
   }
  },
  {
   "cell_type": "code",
   "execution_count": null,
   "outputs": [],
   "source": [
    "env_name = \"JSSP-v0\"\n",
    "env = gym.make(env_name, instance_path = \"instance3.txt\")\n",
    "print(\"Observation space:\", env.observation_space)\n",
    "print(\"Action space:\", env.action_space)"
   ],
   "metadata": {
    "collapsed": false,
    "pycharm": {
     "name": "#%%\n"
    }
   }
  },
  {
   "cell_type": "markdown",
   "source": [
    "# Action Choosing"
   ],
   "metadata": {
    "collapsed": false,
    "pycharm": {
     "name": "#%% md\n"
    }
   }
  },
  {
   "cell_type": "code",
   "execution_count": null,
   "outputs": [],
   "source": [
    "def get_legal_action(env):\n",
    "    legal_actions = env.get_legal_actions()\n",
    "    legal_action = []\n",
    "    for job in range(len(legal_actions)):\n",
    "        if len(legal_actions[job]) == 0:\n",
    "            legal_action.append(-1)\n",
    "        else:\n",
    "            legal_job_actions = [machine for machine in legal_actions[job] if machine not in legal_action]\n",
    "            legal_job_actions.append(-1)\n",
    "            legal_action.append(np.random.choice(legal_job_actions))\n",
    "    return np.array(legal_action)"
   ],
   "metadata": {
    "collapsed": false,
    "pycharm": {
     "name": "#%%\n"
    }
   }
  },
  {
   "cell_type": "code",
   "execution_count": null,
   "outputs": [],
   "source": [
    "def get_efficient_legal_action(env):\n",
    "    legal_actions = env.get_legal_actions()\n",
    "    legal_action = []\n",
    "    for job in range(len(legal_actions)):\n",
    "        if len(legal_actions[job]) == 0:\n",
    "            legal_action.append(-1)\n",
    "        else:\n",
    "            legal_job_actions = [machine for machine in legal_actions[job] if machine not in legal_action]\n",
    "            if len(legal_job_actions) == 0:\n",
    "                legal_action.append(-1)\n",
    "            else:\n",
    "                legal_action.append(np.random.choice(legal_job_actions))\n",
    "    return np.array(legal_action)\n"
   ],
   "metadata": {
    "collapsed": false,
    "pycharm": {
     "name": "#%%\n"
    }
   }
  },
  {
   "cell_type": "markdown",
   "source": [
    "# Baselines"
   ],
   "metadata": {
    "collapsed": false,
    "pycharm": {
     "name": "#%% md\n"
    }
   }
  },
  {
   "cell_type": "markdown",
   "source": [
    "## 1. Random Sampling"
   ],
   "metadata": {
    "collapsed": false,
    "pycharm": {
     "name": "#%% md\n"
    }
   }
  },
  {
   "cell_type": "code",
   "execution_count": null,
   "outputs": [],
   "source": [
    "state = env.reset()\n",
    "episodes = 50\n",
    "max_score = -100000\n",
    "for episode in range(1, episodes+1):\n",
    "    state = env.reset()\n",
    "    done = False\n",
    "    score = 0\n",
    "\n",
    "    while not done:\n",
    "        #env.render()\n",
    "        action = get_legal_action(env)\n",
    "        # if not (np.all(action == -1)):\n",
    "        #     print('Episode:{} Action:{} Time:{}'.format(episode, action, env.time))\n",
    "        n_state, reward, done, info = env.step(action)\n",
    "        score+=reward\n",
    "    print('Episode:{} Total_reward:{}'.format(episode, score))\n",
    "    max_score = max(max_score, score)\n",
    "print('From {} Episodes best policy has reward {}'.format(episodes, max_score))"
   ],
   "metadata": {
    "collapsed": false,
    "pycharm": {
     "name": "#%%\n"
    }
   }
  },
  {
   "cell_type": "code",
   "execution_count": null,
   "outputs": [],
   "source": [
    "state = env.reset()\n",
    "episodes = 50\n",
    "max_score = -100000\n",
    "for episode in range(1, episodes+1):\n",
    "    state = env.reset()\n",
    "    done = False\n",
    "    score = 0\n",
    "\n",
    "    while not done:\n",
    "        #env.render()\n",
    "        action = get_efficient_legal_action(env)\n",
    "        # if not (np.all(action == -1)):\n",
    "        #     print('Episode:{} Action:{} Time:{}'.format(episode, action, env.time))\n",
    "        n_state, reward, done, info = env.step(action)\n",
    "        score+=reward\n",
    "    print('Episode:{} Total_reward:{}'.format(episode, score))\n",
    "    max_score = max(max_score, score)\n",
    "print('From {} Episodes best policy has reward {}'.format(episodes, max_score))"
   ],
   "metadata": {
    "collapsed": false,
    "pycharm": {
     "name": "#%%\n"
    }
   }
  },
  {
   "cell_type": "markdown",
   "source": [
    "## 2. Q-Learning"
   ],
   "metadata": {
    "collapsed": false,
    "pycharm": {
     "name": "#%% md\n"
    }
   }
  },
  {
   "cell_type": "code",
   "execution_count": null,
   "outputs": [],
   "source": [
    "def update(Q, s_key, s_next_key, a_key, r, eta, gma):\n",
    "\n",
    "    if s_key not in Q.keys():\n",
    "        Q[s_key] = {}\n",
    "\n",
    "    if s_next_key not in Q.keys() or Q[s_next_key] == {}:\n",
    "        max_next_s_Q = 0\n",
    "    else:\n",
    "        max_next_s_Q = max(Q[s_next_key].values())\n",
    "\n",
    "    if a_key not in Q[s_key].keys():\n",
    "        Q[s_key][a_key] = 0\n",
    "    Q[s_key][a_key] = Q[s_key][a_key] + eta * (r + gma * max_next_s_Q - Q[s_key][a_key])\n",
    "\n",
    "    return Q"
   ],
   "metadata": {
    "collapsed": false,
    "pycharm": {
     "name": "#%%\n"
    }
   }
  },
  {
   "cell_type": "code",
   "execution_count": null,
   "outputs": [],
   "source": [
    "# 1. Load Environment and Q-table structure\n",
    "env_name = \"JSSP-v0\"\n",
    "env = gym.make(env_name, instance_path = \"instance3.txt\")\n",
    "Q = {}\n",
    "# 2. Parameters of Q-learning\n",
    "eta = .628\n",
    "gamma = .9\n",
    "epis = 500\n",
    "epsilon = .1\n",
    "rev_list = [] # rewards per episode calculate\n",
    "# 3. Q-learning Algorithm\n",
    "for i in range(epis):\n",
    "    # Reset environment\n",
    "    s = env.reset()\n",
    "    rAll = 0\n",
    "    d = False\n",
    "    # The Q-Table learning algorithm\n",
    "    while not d:\n",
    "        # env.render()\n",
    "        # Choose action from Q table\n",
    "        s_key = tuple(np.concatenate((s[1], s[0])))\n",
    "        if s_key not in Q.keys() or Q[s_key] == {} or random.uniform(0, 1) < epsilon:\n",
    "            a = get_legal_action(env)\n",
    "        else:\n",
    "            a = max(Q[s_key], key = Q[s_key].get)\n",
    "        #Get new state & reward from environment\n",
    "        s_next, r, d, _ = env.step(a)\n",
    "        #Update Q-Table with new knowledge\n",
    "        s_next_key = tuple(np.concatenate((s_next[1], s_next[0])))\n",
    "        a_key = tuple(a)\n",
    "        Q = update(Q, s_key, s_next_key, a_key, r, eta, gamma)\n",
    "        rAll += r\n",
    "        s = s_next\n",
    "    rev_list.append(rAll)\n",
    "    print(\"Episode: \" + str(i) + \" has reward \" + str(rAll))\n",
    "    # env.render()\n",
    "# Code will stop at d == True, and render one state before it\n",
    "print(\"Reward Sum on all episodes \" + str(sum(rev_list)/epis))\n",
    "print(\"Final Values Q-Table\")\n",
    "print(Q)"
   ],
   "metadata": {
    "collapsed": false,
    "pycharm": {
     "name": "#%%\n"
    }
   }
  },
  {
   "cell_type": "code",
   "execution_count": null,
   "outputs": [],
   "source": [
    "import matplotlib.pyplot as plt\n",
    "plt.plot(rev_list)\n",
    "plt.show"
   ],
   "metadata": {
    "collapsed": false,
    "pycharm": {
     "name": "#%%\n"
    }
   }
  },
  {
   "cell_type": "code",
   "execution_count": null,
   "outputs": [],
   "source": [
    "plt.plot(rev_list)\n",
    "plt.show"
   ],
   "metadata": {
    "collapsed": false,
    "pycharm": {
     "name": "#%%\n"
    }
   }
  },
  {
   "cell_type": "code",
   "execution_count": null,
   "outputs": [],
   "source": [],
   "metadata": {
    "collapsed": false,
    "pycharm": {
     "name": "#%%\n"
    }
   }
  },
  {
   "cell_type": "code",
   "execution_count": null,
   "outputs": [],
   "source": [
    "state = env.reset()\n",
    "episodes = 50\n",
    "max_score = -100000\n",
    "for episode in range(1, episodes+1):\n",
    "    state = env.reset()\n",
    "    done = False\n",
    "    score = 0\n",
    "\n",
    "    while not done:\n",
    "        #env.render()\n",
    "        action = get_legal_action(env)\n",
    "        # if not (np.all(action == -1)):\n",
    "        #     print('Episode:{} Action:{} Time:{}'.format(episode, action, env.time))\n",
    "        n_state, reward, done, info = env.step(action)\n",
    "        score+=reward\n",
    "    print('Episode:{} Total_reward:{}'.format(episode, score))\n",
    "    max_score = max(max_score, score)\n",
    "print('From {} Episodes best policy has reward {}'.format(episodes, max_score))"
   ],
   "metadata": {
    "collapsed": false,
    "pycharm": {
     "name": "#%%\n"
    }
   }
  },
  {
   "cell_type": "markdown",
   "source": [
    "## 2. Q-Learning"
   ],
   "metadata": {
    "collapsed": false,
    "pycharm": {
     "name": "#%% md\n"
    }
   }
  },
  {
   "cell_type": "code",
   "execution_count": null,
   "outputs": [],
   "source": [
    "# 1. Load Environment and Q-table structure\n",
    "env_name = \"JSSP-v0\"\n",
    "env = gym.make(env_name, instance_path = \"instance1.txt\")\n",
    "Q = {}\n",
    "# 2. Parameters of Q-learning\n",
    "eta = .628\n",
    "gma = .9\n",
    "epis = 50\n",
    "rev_list = [] # rewards per episode calculate\n",
    "# 3. Q-learning Algorithm\n",
    "for i in range(epis):\n",
    "    # Reset environment\n",
    "    s = env.reset()\n",
    "    rAll = 0\n",
    "    d = False\n",
    "    # The Q-Table learning algorithm\n",
    "    while not d:\n",
    "        # env.render()\n",
    "        # Choose action from Q table\n",
    "        a = np.argmax(Q[s,:] + np.random.randn(1,env.action_space.n)*(1./(i+1)))\n",
    "        #Get new state & reward from environment\n",
    "        s1,r,d,_ = env.step(a)\n",
    "        #Update Q-Table with new knowledge\n",
    "        Q[s,a] = Q[s,a] + eta*(r + gma*np.max(Q[s1,:]) - Q[s,a])\n",
    "        rAll += r\n",
    "        s = s1\n",
    "    rev_list.append(rAll)\n",
    "    print(\"Episode: \" + str(i) + \" has reward \" + str(rAll))\n",
    "    # env.render()\n",
    "# Code will stop at d == True, and render one state before it\n",
    "print(\"Reward Sum on all episodes \" + str(sum(rev_list)/epis))\n",
    "print(\"Final Values Q-Table\")\n",
    "print(Q)"
   ],
   "metadata": {
    "collapsed": false,
    "pycharm": {
     "name": "#%%\n"
    }
   }
  },
  {
   "cell_type": "markdown",
   "source": [
    "# Baselines"
   ],
   "metadata": {
    "collapsed": false,
    "pycharm": {
     "name": "#%% md\n"
    }
   }
  },
  {
   "cell_type": "markdown",
   "source": [
    "## 1. Random Sampling"
   ],
   "metadata": {
    "collapsed": false,
    "pycharm": {
     "name": "#%% md\n"
    }
   }
  },
  {
   "cell_type": "code",
   "execution_count": null,
   "outputs": [],
   "source": [
    "state = env.reset()\n",
    "episodes = 50\n",
    "max_score = -100000\n",
    "for episode in range(1, episodes+1):\n",
    "    state = env.reset()\n",
    "    done = False\n",
    "    score = 0\n",
    "\n",
    "    while not done:\n",
    "        #env.render()\n",
    "        action = get_legal_action(env)\n",
    "        # if not (np.all(action == -1)):\n",
    "        #     print('Episode:{} Action:{} Time:{}'.format(episode, action, env.time))\n",
    "        n_state, reward, done, info = env.step(action)\n",
    "        score+=reward\n",
    "    print('Episode:{} Total_reward:{}'.format(episode, score))\n",
    "    max_score = max(max_score, score)\n",
    "print('From {} Episodes best policy has reward {}'.format(episodes, max_score))"
   ],
   "metadata": {
    "collapsed": false,
    "pycharm": {
     "name": "#%%\n"
    }
   }
  },
  {
   "cell_type": "markdown",
   "source": [
    "## 2. Q-Learning"
   ],
   "metadata": {
    "collapsed": false,
    "pycharm": {
     "name": "#%% md\n"
    }
   }
  },
  {
   "cell_type": "code",
   "execution_count": null,
   "outputs": [],
   "source": [
    "# 1. Load Environment and Q-table structure\n",
    "env_name = \"JSSP-v0\"\n",
    "env = gym.make(env_name, instance_path = \"instance1.txt\")\n",
    "Q = {}\n",
    "# 2. Parameters of Q-learning\n",
    "eta = .628\n",
    "gma = .9\n",
    "epis = 50\n",
    "rev_list = [] # rewards per episode calculate\n",
    "# 3. Q-learning Algorithm\n",
    "for i in range(epis):\n",
    "    # Reset environment\n",
    "    s = env.reset()\n",
    "    rAll = 0\n",
    "    d = False\n",
    "    # The Q-Table learning algorithm\n",
    "    while not d:\n",
    "        # env.render()\n",
    "        # Choose action from Q table\n",
    "        a = np.argmax(Q[s,:] + np.random.randn(1,env.action_space.n)*(1./(i+1)))\n",
    "        #Get new state & reward from environment\n",
    "        s1,r,d,_ = env.step(a)\n",
    "        #Update Q-Table with new knowledge\n",
    "        Q[s,a] = Q[s,a] + eta*(r + gma*np.max(Q[s1,:]) - Q[s,a])\n",
    "        rAll += r\n",
    "        s = s1\n",
    "    rev_list.append(rAll)\n",
    "    print(\"Episode: \" + str(i) + \" has reward \" + str(rAll))\n",
    "    # env.render()\n",
    "# Code will stop at d == True, and render one state before it\n",
    "print(\"Reward Sum on all episodes \" + str(sum(rev_list)/epis))\n",
    "print(\"Final Values Q-Table\")\n",
    "print(Q)"
   ],
   "metadata": {
    "collapsed": false,
    "pycharm": {
     "name": "#%%\n"
    }
   }
  },
  {
   "cell_type": "code",
   "execution_count": null,
   "outputs": [],
   "source": [],
   "metadata": {
    "collapsed": false,
    "pycharm": {
     "name": "#%%\n"
    }
   }
  },
  {
   "cell_type": "code",
   "execution_count": null,
   "outputs": [],
   "source": [
    "# 1. Load Environment and Q-table structure\n",
    "env_name = \"JSSP-v0\"\n",
    "env = gym.make(env_name, instance_path = \"instance1.txt\")\n",
    "Q = {}\n",
    "# 2. Parameters of Q-learning\n",
    "eta = .628\n",
    "gma = .9\n",
    "epis = 50\n",
    "rev_list = [] # rewards per episode calculate\n",
    "# 3. Q-learning Algorithm\n",
    "for i in range(epis):\n",
    "    # Reset environment\n",
    "    s = env.reset()\n",
    "    rAll = 0\n",
    "    d = False\n",
    "    # The Q-Table learning algorithm\n",
    "    while not d:\n",
    "        # env.render()\n",
    "        # Choose action from Q table\n",
    "        a = np.argmax(Q[s,:] + np.random.randn(1,env.action_space.n)*(1./(i+1)))\n",
    "        #Get new state & reward from environment\n",
    "        s1,r,d,_ = env.step(a)\n",
    "        #Update Q-Table with new knowledge\n",
    "        Q[s,a] = Q[s,a] + eta*(r + gma*np.max(Q[s1,:]) - Q[s,a])\n",
    "        rAll += r\n",
    "        s = s1\n",
    "    rev_list.append(rAll)\n",
    "    print(\"Episode: \" + str(i) + \" has reward \" + str(rAll))\n",
    "    # env.render()\n",
    "# Code will stop at d == True, and render one state before it\n",
    "print(\"Reward Sum on all episodes \" + str(sum(rev_list)/epis))\n",
    "print(\"Final Values Q-Table\")\n",
    "print(Q)"
   ],
   "metadata": {
    "collapsed": false,
    "pycharm": {
     "name": "#%%\n"
    }
   }
  },
  {
   "cell_type": "markdown",
   "source": [
    "# Baselines"
   ],
   "metadata": {
    "collapsed": false,
    "pycharm": {
     "name": "#%% md\n"
    }
   }
  },
  {
   "cell_type": "markdown",
   "source": [
    "## 1. Random Sampling"
   ],
   "metadata": {
    "collapsed": false,
    "pycharm": {
     "name": "#%% md\n"
    }
   }
  },
  {
   "cell_type": "code",
   "execution_count": null,
   "outputs": [],
   "source": [
    "state = env.reset()\n",
    "episodes = 50\n",
    "max_score = -100000\n",
    "for episode in range(1, episodes+1):\n",
    "    state = env.reset()\n",
    "    done = False\n",
    "    score = 0\n",
    "\n",
    "    while not done:\n",
    "        #env.render()\n",
    "        action = get_legal_action(env)\n",
    "        # if not (np.all(action == -1)):\n",
    "        #     print('Episode:{} Action:{} Time:{}'.format(episode, action, env.time))\n",
    "        n_state, reward, done, info = env.step(action)\n",
    "        score+=reward\n",
    "    print('Episode:{} Total_reward:{}'.format(episode, score))\n",
    "    max_score = max(max_score, score)\n",
    "print('From {} Episodes best policy has reward {}'.format(episodes, max_score))"
   ],
   "metadata": {
    "collapsed": false,
    "pycharm": {
     "name": "#%%\n"
    }
   }
  },
  {
   "cell_type": "markdown",
   "source": [
    "## 2. Q-Learning"
   ],
   "metadata": {
    "collapsed": false,
    "pycharm": {
     "name": "#%% md\n"
    }
   }
  },
  {
   "cell_type": "code",
   "execution_count": null,
   "outputs": [],
   "source": [
    "# 1. Load Environment and Q-table structure\n",
    "env_name = \"JSSP-v0\"\n",
    "env = gym.make(env_name, instance_path = \"instance1.txt\")\n",
    "Q = {}\n",
    "# 2. Parameters of Q-learning\n",
    "eta = .628\n",
    "gma = .9\n",
    "epis = 50\n",
    "rev_list = [] # rewards per episode calculate\n",
    "# 3. Q-learning Algorithm\n",
    "for i in range(epis):\n",
    "    # Reset environment\n",
    "    s = env.reset()\n",
    "    rAll = 0\n",
    "    d = False\n",
    "    # The Q-Table learning algorithm\n",
    "    while not d:\n",
    "        # env.render()\n",
    "        # Choose action from Q table\n",
    "        a = np.argmax(Q[s,:] + np.random.randn(1,env.action_space.n)*(1./(i+1)))\n",
    "        #Get new state & reward from environment\n",
    "        s1,r,d,_ = env.step(a)\n",
    "        #Update Q-Table with new knowledge\n",
    "        Q[s,a] = Q[s,a] + eta*(r + gma*np.max(Q[s1,:]) - Q[s,a])\n",
    "        rAll += r\n",
    "        s = s1\n",
    "    rev_list.append(rAll)\n",
    "    print(\"Episode: \" + str(i) + \" has reward \" + str(rAll))\n",
    "    # env.render()\n",
    "# Code will stop at d == True, and render one state before it\n",
    "print(\"Reward Sum on all episodes \" + str(sum(rev_list)/epis))\n",
    "print(\"Final Values Q-Table\")\n",
    "print(Q)"
   ],
   "metadata": {
    "collapsed": false,
    "pycharm": {
     "name": "#%%\n"
    }
   }
  },
  {
   "cell_type": "code",
   "execution_count": null,
   "outputs": [],
   "source": [],
   "metadata": {
    "collapsed": false,
    "pycharm": {
     "name": "#%%\n"
    }
   }
  }
 ],
 "metadata": {
  "kernelspec": {
   "display_name": "Python 3.7.4 64-bit",
   "language": "python",
   "name": "python3"
  },
  "language_info": {
   "codemirror_mode": {
    "name": "ipython",
    "version": 3
   },
   "file_extension": ".py",
   "mimetype": "text/x-python",
   "name": "python",
   "nbconvert_exporter": "python",
   "pygments_lexer": "ipython3",
   "version": "3.7.4"
  },
  "vscode": {
   "interpreter": {
    "hash": "aee8b7b246df8f9039afb4144a1f6fd8d2ca17a180786b69acc140d282b71a49"
   }
  }
 },
 "nbformat": 4,
 "nbformat_minor": 0
}