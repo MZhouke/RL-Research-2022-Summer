{
 "cells": [
  {
   "cell_type": "code",
   "execution_count": 1,
   "outputs": [],
   "source": [
    "import JSSP\n",
    "import gym\n",
    "import time"
   ],
   "metadata": {
    "collapsed": false,
    "pycharm": {
     "name": "#%%\n"
    }
   }
  },
  {
   "cell_type": "code",
   "execution_count": null,
   "outputs": [],
   "source": [
    "\n",
    "env_name = \"JSSP-v0\"\n",
    "data = [[2,2],[2,1,0,5,1,1,10],[2,1,1,3,1,0,1]]\n",
    "env = gym.make(env_name, env_data = data)\n",
    "print(\"Observation space:\", env.observation_space)\n",
    "print(\"Action space:\", env.action_space)"
   ],
   "metadata": {
    "collapsed": false,
    "pycharm": {
     "name": "#%%\n"
    }
   }
  },
  {
   "cell_type": "code",
   "execution_count": null,
   "outputs": [],
   "source": [
    "state = env.reset()\n",
    "env.render(mode=\"human\")\n",
    "time.sleep(20)\n",
    "\n",
    "# episodes = 10\n",
    "# for episode in range(1, episodes+1):\n",
    "#     state = env.reset()\n",
    "#     done = False\n",
    "#     score = 0 \n",
    "    \n",
    "#     while not done:\n",
    "#         #env.render()\n",
    "#         action = env.action_space.sample()\n",
    "#         n_state, reward, done, info = env.step(action)\n",
    "#         score+=reward\n",
    "#     print('Episode:{} Score:{}'.format(episode, score))"
   ],
   "metadata": {
    "collapsed": false,
    "pycharm": {
     "name": "#%%\n"
    }
   }
  },
  {
   "cell_type": "code",
   "execution_count": 12,
   "outputs": [],
   "source": [
    "import numpy as np\n",
    "\n",
    "\n",
    "def initialize(instance_path):\n",
    "    # input instance description for environment initialization\n",
    "    instance_path = instance_path\n",
    "    file_handle = open(instance_path, 'r')\n",
    "    lines_list = file_handle.readlines()\n",
    "    # first line consists of # of jobs in total, # of machines in total\n",
    "    job_total, machine_total = [int(x) for x in lines_list[0].split()]\n",
    "    # env_data = [[int(val) for val in line.split()] for line in lines_list[1:]]\n",
    "    # read through each job description\n",
    "    for job_index in range(len(lines_list) - 1):\n",
    "        job_description = [int(val) for val in lines_list[job_index+1].split()]\n",
    "        job_operation_map[job_index] = {}\n",
    "        # initialize job_operation_map\n",
    "            # ex. job_operation_map[1][2][3] = time it takes for 3rd machine to execute 2nd operation of 1st job\n",
    "            # time = -1 iff the machine is not capable of executing the operation based on instance description\n",
    "        for operation_index in range(job_description[0]):\n",
    "            job_operation_map[job_index][operation_index] = np.negative(np.ones(machine_total))\n",
    "        # populate job_description_map\n",
    "        populate_job_description_map(job_description, job_index)\n",
    "\n",
    "# Given an job description, populate the corresponding fields in job_description_map\n",
    "def populate_job_description_map(job_description, job_index):\n",
    "    # read job description from left to right\n",
    "    description_pivot = 1\n",
    "    operation_index = 0\n",
    "    # operation_index\n",
    "    while description_pivot < len(job_description):\n",
    "        # operation_description length = 2 * # of machines capable of executing current operation at the pivot\n",
    "        operation_description_end = 2 * job_description[description_pivot] + description_pivot\n",
    "        # read the current description of operation\n",
    "        description_pivot += 1\n",
    "        while description_pivot <= operation_description_end:\n",
    "            # Following the format of operation description:\n",
    "            # machine index , time it takes for the current operation\n",
    "            machine_index = job_description[description_pivot]\n",
    "            operation_duration = job_description[description_pivot + 1]\n",
    "            job_operation_map[job_index][operation_index][machine_index - 1] = operation_duration\n",
    "            description_pivot += 2\n",
    "        operation_index += 1"
   ],
   "metadata": {
    "collapsed": false,
    "pycharm": {
     "name": "#%%\n"
    }
   }
  },
  {
   "cell_type": "code",
   "execution_count": 13,
   "outputs": [
    {
     "name": "stdout",
     "output_type": "stream",
     "text": [
      "{0: {0: array([10., 15., -1.]), 1: array([-1., 12., 18.])}, 1: {0: array([10., -1., 25.]), 1: array([25., 18., -1.]), 2: array([-1., 15., 25.])}}\n",
      "[-1. 12. 18.]\n"
     ]
    }
   ],
   "source": [
    "\n",
    "job_operation_map = {}\n",
    "initialize('instance1.txt')\n",
    "print(job_operation_map)\n",
    "\n",
    "# first job second operation\n",
    "print(job_operation_map[0][1])"
   ],
   "metadata": {
    "collapsed": false,
    "pycharm": {
     "name": "#%%\n"
    }
   }
  },
  {
   "cell_type": "code",
   "execution_count": 15,
   "outputs": [],
   "source": [],
   "metadata": {
    "collapsed": false,
    "pycharm": {
     "name": "#%%\n"
    }
   }
  }
 ],
 "metadata": {
  "kernelspec": {
   "display_name": "Python 3.7.4 64-bit",
   "language": "python",
   "name": "python3"
  },
  "language_info": {
   "codemirror_mode": {
    "name": "ipython",
    "version": 3
   },
   "file_extension": ".py",
   "mimetype": "text/x-python",
   "name": "python",
   "nbconvert_exporter": "python",
   "pygments_lexer": "ipython3",
   "version": "3.7.4"
  },
  "vscode": {
   "interpreter": {
    "hash": "aee8b7b246df8f9039afb4144a1f6fd8d2ca17a180786b69acc140d282b71a49"
   }
  }
 },
 "nbformat": 4,
 "nbformat_minor": 0
}