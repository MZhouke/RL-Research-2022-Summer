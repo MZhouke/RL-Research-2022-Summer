{
 "cells": [
  {
   "cell_type": "code",
   "execution_count": 1,
   "outputs": [],
   "source": [
    "import JSSP\n",
    "import gym\n",
    "import time\n",
    "import numpy as np\n",
    "import random"
   ],
   "metadata": {
    "collapsed": false,
    "pycharm": {
     "name": "#%%\n"
    }
   }
  },
  {
   "cell_type": "markdown",
   "source": [
    "# Environment Initialization"
   ],
   "metadata": {
    "collapsed": false,
    "pycharm": {
     "name": "#%% md\n"
    }
   }
  },
  {
   "cell_type": "code",
   "execution_count": 15,
   "outputs": [
    {
     "name": "stdout",
     "output_type": "stream",
     "text": [
      "Observation space: Dict(0: Box(0, 9, (10,), int64), 1: Box(-2, 10, (10,), int64))\n",
      "Action space: Box(-1, 10, (10,), int64)\n"
     ]
    },
    {
     "name": "stderr",
     "output_type": "stream",
     "text": [
      "/Users/boyanggu/RL-Research-2022-Summer/JSSP/envs/JSSP_env.py:119: DeprecationWarning: `np.int` is a deprecated alias for the builtin `int`. To silence this warning, use `int` by itself. Doing this will not modify any behavior and is safe. When replacing `np.int`, you may wish to use e.g. `np.int64` or `np.int32` to specify the precision. If you wish to review your current use, check the release note link for additional information.\n",
      "Deprecated in NumPy 1.20; for more details and guidance: https://numpy.org/devdocs/release/1.20.0-notes.html#deprecations\n",
      "  dtype=np.int)\n",
      "/Library/Frameworks/Python.framework/Versions/3.7/lib/python3.7/site-packages/gym/core.py:330: DeprecationWarning: \u001B[33mWARN: Initializing wrapper in old step API which returns one bool instead of two. It is recommended to set `new_step_api=True` to use new step API. This will be the default behaviour in future.\u001B[0m\n",
      "  \"Initializing wrapper in old step API which returns one bool instead of two. It is recommended to set `new_step_api=True` to use new step API. This will be the default behaviour in future.\"\n",
      "/Library/Frameworks/Python.framework/Versions/3.7/lib/python3.7/site-packages/gym/wrappers/step_api_compatibility.py:40: DeprecationWarning: \u001B[33mWARN: Initializing environment in old step API which returns one bool instead of two. It is recommended to set `new_step_api=True` to use new step API. This will be the default behaviour in future.\u001B[0m\n",
      "  \"Initializing environment in old step API which returns one bool instead of two. It is recommended to set `new_step_api=True` to use new step API. This will be the default behaviour in future.\"\n"
     ]
    }
   ],
   "source": [
    "env_name = \"JSSP-v0\"\n",
    "env = gym.make(env_name, instance_path = \"instance3.txt\")\n",
    "print(\"Observation space:\", env.observation_space)\n",
    "print(\"Action space:\", env.action_space)"
   ],
   "metadata": {
    "collapsed": false,
    "pycharm": {
     "name": "#%%\n"
    }
   }
  },
  {
   "cell_type": "markdown",
   "source": [
    "# Action Choosing"
   ],
   "metadata": {
    "collapsed": false,
    "pycharm": {
     "name": "#%% md\n"
    }
   }
  },
  {
   "cell_type": "code",
   "execution_count": 3,
   "outputs": [],
   "source": [
    "def get_legal_action(env):\n",
    "    legal_actions = env.get_legal_actions()\n",
    "    legal_action = []\n",
    "    for job in range(len(legal_actions)):\n",
    "        if len(legal_actions[job]) == 0:\n",
    "            legal_action.append(-1)\n",
    "        else:\n",
    "            legal_job_actions = [machine for machine in legal_actions[job] if machine not in legal_action]\n",
    "            legal_job_actions.append(-1)\n",
    "            legal_action.append(np.random.choice(legal_job_actions))\n",
    "    return np.array(legal_action)"
   ],
   "metadata": {
    "collapsed": false,
    "pycharm": {
     "name": "#%%\n"
    }
   }
  },
  {
   "cell_type": "code",
   "execution_count": 4,
   "outputs": [],
   "source": [
    "def get_efficient_legal_action(env):\n",
    "    legal_actions = env.get_legal_actions()\n",
    "    legal_action = []\n",
    "    for job in range(len(legal_actions)):\n",
    "        if len(legal_actions[job]) == 0:\n",
    "            legal_action.append(-1)\n",
    "        else:\n",
    "            legal_job_actions = [machine for machine in legal_actions[job] if machine not in legal_action]\n",
    "            if len(legal_job_actions) == 0:\n",
    "                legal_action.append(-1)\n",
    "            else:\n",
    "                legal_action.append(np.random.choice(legal_job_actions))\n",
    "    return np.array(legal_action)\n"
   ],
   "metadata": {
    "collapsed": false,
    "pycharm": {
     "name": "#%%\n"
    }
   }
  },
  {
   "cell_type": "markdown",
   "source": [
    "# Baselines"
   ],
   "metadata": {
    "collapsed": false,
    "pycharm": {
     "name": "#%% md\n"
    }
   }
  },
  {
   "cell_type": "markdown",
   "source": [
    "## 1. Random Sampling"
   ],
   "metadata": {
    "collapsed": false,
    "pycharm": {
     "name": "#%% md\n"
    }
   }
  },
  {
   "cell_type": "code",
   "execution_count": 5,
   "outputs": [
    {
     "name": "stdout",
     "output_type": "stream",
     "text": [
      "Episode:1 Total_reward:-57\n",
      "Episode:2 Total_reward:-59\n",
      "Episode:3 Total_reward:-65\n",
      "Episode:4 Total_reward:-68\n",
      "Episode:5 Total_reward:-74\n",
      "Episode:6 Total_reward:-67\n",
      "Episode:7 Total_reward:-62\n",
      "Episode:8 Total_reward:-50\n",
      "Episode:9 Total_reward:-75\n",
      "Episode:10 Total_reward:-65\n",
      "Episode:11 Total_reward:-50\n",
      "Episode:12 Total_reward:-77\n",
      "Episode:13 Total_reward:-59\n"
     ]
    },
    {
     "name": "stderr",
     "output_type": "stream",
     "text": [
      "/Library/Frameworks/Python.framework/Versions/3.7/lib/python3.7/site-packages/gym/utils/passive_env_checker.py:175: UserWarning: \u001B[33mWARN: Future gym versions will require that `Env.reset` can be passed a `seed` instead of using `Env.seed` for resetting the environment random number generator.\u001B[0m\n",
      "  \"Future gym versions will require that `Env.reset` can be passed a `seed` instead of using `Env.seed` for resetting the environment random number generator.\"\n",
      "/Library/Frameworks/Python.framework/Versions/3.7/lib/python3.7/site-packages/gym/utils/passive_env_checker.py:191: UserWarning: \u001B[33mWARN: Future gym versions will require that `Env.reset` can be passed `return_info` to return information from the environment resetting.\u001B[0m\n",
      "  \"Future gym versions will require that `Env.reset` can be passed `return_info` to return information from the environment resetting.\"\n",
      "/Library/Frameworks/Python.framework/Versions/3.7/lib/python3.7/site-packages/gym/utils/passive_env_checker.py:196: UserWarning: \u001B[33mWARN: Future gym versions will require that `Env.reset` can be passed `options` to allow the environment initialisation to be passed additional information.\u001B[0m\n",
      "  \"Future gym versions will require that `Env.reset` can be passed `options` to allow the environment initialisation to be passed additional information.\"\n",
      "/Library/Frameworks/Python.framework/Versions/3.7/lib/python3.7/site-packages/gym/utils/passive_env_checker.py:142: UserWarning: \u001B[33mWARN: The obs returned by the `reset()` method was expecting numpy array dtype to be int64, actual type: float64\u001B[0m\n",
      "  f\"{pre} was expecting numpy array dtype to be {observation_space.dtype}, actual type: {obs.dtype}\"\n",
      "/Library/Frameworks/Python.framework/Versions/3.7/lib/python3.7/site-packages/gym/utils/passive_env_checker.py:165: UserWarning: \u001B[33mWARN: The obs returned by the `reset()` method is not within the observation space.\u001B[0m\n",
      "  logger.warn(f\"{pre} is not within the observation space.\")\n",
      "/Library/Frameworks/Python.framework/Versions/3.7/lib/python3.7/site-packages/gym/utils/passive_env_checker.py:228: DeprecationWarning: \u001B[33mWARN: Core environment is written in old step API which returns one bool instead of two. It is recommended to rewrite the environment with new step API. \u001B[0m\n",
      "  \"Core environment is written in old step API which returns one bool instead of two. \"\n",
      "/Library/Frameworks/Python.framework/Versions/3.7/lib/python3.7/site-packages/gym/utils/passive_env_checker.py:142: UserWarning: \u001B[33mWARN: The obs returned by the `step()` method was expecting numpy array dtype to be int64, actual type: float64\u001B[0m\n",
      "  f\"{pre} was expecting numpy array dtype to be {observation_space.dtype}, actual type: {obs.dtype}\"\n",
      "/Library/Frameworks/Python.framework/Versions/3.7/lib/python3.7/site-packages/gym/utils/passive_env_checker.py:165: UserWarning: \u001B[33mWARN: The obs returned by the `step()` method is not within the observation space.\u001B[0m\n",
      "  logger.warn(f\"{pre} is not within the observation space.\")\n"
     ]
    },
    {
     "name": "stdout",
     "output_type": "stream",
     "text": [
      "Episode:14 Total_reward:-68\n",
      "Episode:15 Total_reward:-69\n",
      "Episode:16 Total_reward:-49\n",
      "Episode:17 Total_reward:-59\n",
      "Episode:18 Total_reward:-60\n",
      "Episode:19 Total_reward:-61\n",
      "Episode:20 Total_reward:-76\n",
      "Episode:21 Total_reward:-67\n",
      "Episode:22 Total_reward:-61\n",
      "Episode:23 Total_reward:-51\n",
      "Episode:24 Total_reward:-50\n",
      "Episode:25 Total_reward:-66\n",
      "Episode:26 Total_reward:-71\n",
      "Episode:27 Total_reward:-52\n",
      "Episode:28 Total_reward:-59\n",
      "Episode:29 Total_reward:-66\n",
      "Episode:30 Total_reward:-60\n",
      "Episode:31 Total_reward:-52\n",
      "Episode:32 Total_reward:-60\n",
      "Episode:33 Total_reward:-76\n",
      "Episode:34 Total_reward:-68\n",
      "Episode:35 Total_reward:-52\n",
      "Episode:36 Total_reward:-62\n",
      "Episode:37 Total_reward:-69\n",
      "Episode:38 Total_reward:-61\n",
      "Episode:39 Total_reward:-61\n",
      "Episode:40 Total_reward:-77\n",
      "Episode:41 Total_reward:-50\n",
      "Episode:42 Total_reward:-76\n",
      "Episode:43 Total_reward:-75\n",
      "Episode:44 Total_reward:-49\n",
      "Episode:45 Total_reward:-67\n",
      "Episode:46 Total_reward:-67\n",
      "Episode:47 Total_reward:-64\n",
      "Episode:48 Total_reward:-65\n",
      "Episode:49 Total_reward:-61\n",
      "Episode:50 Total_reward:-74\n",
      "From 50 Episodes best policy has reward -49\n"
     ]
    }
   ],
   "source": [
    "state = env.reset()\n",
    "episodes = 50\n",
    "max_score = -100000\n",
    "for episode in range(1, episodes+1):\n",
    "    state = env.reset()\n",
    "    done = False\n",
    "    score = 0\n",
    "\n",
    "    while not done:\n",
    "        #env.render()\n",
    "        action = get_legal_action(env)\n",
    "        # if not (np.all(action == -1)):\n",
    "        #     print('Episode:{} Action:{} Time:{}'.format(episode, action, env.time))\n",
    "        n_state, reward, done, info = env.step(action)\n",
    "        score+=reward\n",
    "    print('Episode:{} Total_reward:{}'.format(episode, score))\n",
    "    max_score = max(max_score, score)\n",
    "print('From {} Episodes best policy has reward {}'.format(episodes, max_score))"
   ],
   "metadata": {
    "collapsed": false,
    "pycharm": {
     "name": "#%%\n"
    }
   }
  },
  {
   "cell_type": "code",
   "execution_count": 6,
   "outputs": [
    {
     "name": "stdout",
     "output_type": "stream",
     "text": [
      "Episode:1 Total_reward:-57\n",
      "Episode:2 Total_reward:-67\n",
      "Episode:3 Total_reward:-64\n",
      "Episode:4 Total_reward:-67\n",
      "Episode:5 Total_reward:-64\n",
      "Episode:6 Total_reward:-64\n",
      "Episode:7 Total_reward:-64\n",
      "Episode:8 Total_reward:-64\n",
      "Episode:9 Total_reward:-67\n",
      "Episode:10 Total_reward:-64\n",
      "Episode:11 Total_reward:-64\n",
      "Episode:12 Total_reward:-57\n",
      "Episode:13 Total_reward:-67\n",
      "Episode:14 Total_reward:-59\n",
      "Episode:15 Total_reward:-49\n",
      "Episode:16 Total_reward:-57\n",
      "Episode:17 Total_reward:-59\n",
      "Episode:18 Total_reward:-67\n",
      "Episode:19 Total_reward:-49\n",
      "Episode:20 Total_reward:-64\n",
      "Episode:21 Total_reward:-74\n",
      "Episode:22 Total_reward:-74\n",
      "Episode:23 Total_reward:-49\n",
      "Episode:24 Total_reward:-59\n",
      "Episode:25 Total_reward:-74\n",
      "Episode:26 Total_reward:-59\n",
      "Episode:27 Total_reward:-67\n",
      "Episode:28 Total_reward:-74\n",
      "Episode:29 Total_reward:-74\n",
      "Episode:30 Total_reward:-49\n",
      "Episode:31 Total_reward:-57\n",
      "Episode:32 Total_reward:-49\n",
      "Episode:33 Total_reward:-74\n",
      "Episode:34 Total_reward:-67\n",
      "Episode:35 Total_reward:-57\n",
      "Episode:36 Total_reward:-67\n",
      "Episode:37 Total_reward:-59\n",
      "Episode:38 Total_reward:-64\n",
      "Episode:39 Total_reward:-59\n",
      "Episode:40 Total_reward:-74\n",
      "Episode:41 Total_reward:-64\n",
      "Episode:42 Total_reward:-64\n",
      "Episode:43 Total_reward:-49\n",
      "Episode:44 Total_reward:-67\n",
      "Episode:45 Total_reward:-57\n",
      "Episode:46 Total_reward:-64\n",
      "Episode:47 Total_reward:-64\n",
      "Episode:48 Total_reward:-64\n",
      "Episode:49 Total_reward:-64\n",
      "Episode:50 Total_reward:-59\n",
      "From 50 Episodes best policy has reward -49\n"
     ]
    }
   ],
   "source": [
    "state = env.reset()\n",
    "episodes = 50\n",
    "max_score = -100000\n",
    "for episode in range(1, episodes+1):\n",
    "    state = env.reset()\n",
    "    done = False\n",
    "    score = 0\n",
    "\n",
    "    while not done:\n",
    "        #env.render()\n",
    "        action = get_efficient_legal_action(env)\n",
    "        # if not (np.all(action == -1)):\n",
    "        #     print('Episode:{} Action:{} Time:{}'.format(episode, action, env.time))\n",
    "        n_state, reward, done, info = env.step(action)\n",
    "        score+=reward\n",
    "    print('Episode:{} Total_reward:{}'.format(episode, score))\n",
    "    max_score = max(max_score, score)\n",
    "print('From {} Episodes best policy has reward {}'.format(episodes, max_score))"
   ],
   "metadata": {
    "collapsed": false,
    "pycharm": {
     "name": "#%%\n"
    }
   }
  },
  {
   "cell_type": "markdown",
   "source": [
    "## 2. Q-Learning"
   ],
   "metadata": {
    "collapsed": false,
    "pycharm": {
     "name": "#%% md\n"
    }
   }
  },
  {
   "cell_type": "code",
   "execution_count": 7,
   "outputs": [],
   "source": [
    "def update(Q, s_key, s_next_key, a_key, r, eta, gma):\n",
    "\n",
    "    if s_key not in Q.keys():\n",
    "        Q[s_key] = {}\n",
    "\n",
    "    if s_next_key not in Q.keys() or Q[s_next_key] == {}:\n",
    "        max_next_s_Q = 0\n",
    "    else:\n",
    "        max_next_s_Q = max(Q[s_next_key].values())\n",
    "\n",
    "    if a_key not in Q[s_key].keys():\n",
    "        Q[s_key][a_key] = 0\n",
    "    Q[s_key][a_key] = Q[s_key][a_key] + eta * (r + gma * max_next_s_Q - Q[s_key][a_key])\n",
    "\n",
    "    return Q"
   ],
   "metadata": {
    "collapsed": false,
    "pycharm": {
     "name": "#%%\n"
    }
   }
  },
  {
   "cell_type": "code",
   "execution_count": 17,
   "outputs": [
    {
     "name": "stderr",
     "output_type": "stream",
     "text": [
      "/Users/boyanggu/RL-Research-2022-Summer/JSSP/envs/JSSP_env.py:119: DeprecationWarning: `np.int` is a deprecated alias for the builtin `int`. To silence this warning, use `int` by itself. Doing this will not modify any behavior and is safe. When replacing `np.int`, you may wish to use e.g. `np.int64` or `np.int32` to specify the precision. If you wish to review your current use, check the release note link for additional information.\n",
      "Deprecated in NumPy 1.20; for more details and guidance: https://numpy.org/devdocs/release/1.20.0-notes.html#deprecations\n",
      "  dtype=np.int)\n",
      "/Library/Frameworks/Python.framework/Versions/3.7/lib/python3.7/site-packages/gym/core.py:330: DeprecationWarning: \u001B[33mWARN: Initializing wrapper in old step API which returns one bool instead of two. It is recommended to set `new_step_api=True` to use new step API. This will be the default behaviour in future.\u001B[0m\n",
      "  \"Initializing wrapper in old step API which returns one bool instead of two. It is recommended to set `new_step_api=True` to use new step API. This will be the default behaviour in future.\"\n",
      "/Library/Frameworks/Python.framework/Versions/3.7/lib/python3.7/site-packages/gym/wrappers/step_api_compatibility.py:40: DeprecationWarning: \u001B[33mWARN: Initializing environment in old step API which returns one bool instead of two. It is recommended to set `new_step_api=True` to use new step API. This will be the default behaviour in future.\u001B[0m\n",
      "  \"Initializing environment in old step API which returns one bool instead of two. It is recommended to set `new_step_api=True` to use new step API. This will be the default behaviour in future.\"\n",
      "/Library/Frameworks/Python.framework/Versions/3.7/lib/python3.7/site-packages/gym/utils/passive_env_checker.py:175: UserWarning: \u001B[33mWARN: Future gym versions will require that `Env.reset` can be passed a `seed` instead of using `Env.seed` for resetting the environment random number generator.\u001B[0m\n",
      "  \"Future gym versions will require that `Env.reset` can be passed a `seed` instead of using `Env.seed` for resetting the environment random number generator.\"\n",
      "/Library/Frameworks/Python.framework/Versions/3.7/lib/python3.7/site-packages/gym/utils/passive_env_checker.py:191: UserWarning: \u001B[33mWARN: Future gym versions will require that `Env.reset` can be passed `return_info` to return information from the environment resetting.\u001B[0m\n",
      "  \"Future gym versions will require that `Env.reset` can be passed `return_info` to return information from the environment resetting.\"\n",
      "/Library/Frameworks/Python.framework/Versions/3.7/lib/python3.7/site-packages/gym/utils/passive_env_checker.py:196: UserWarning: \u001B[33mWARN: Future gym versions will require that `Env.reset` can be passed `options` to allow the environment initialisation to be passed additional information.\u001B[0m\n",
      "  \"Future gym versions will require that `Env.reset` can be passed `options` to allow the environment initialisation to be passed additional information.\"\n",
      "/Library/Frameworks/Python.framework/Versions/3.7/lib/python3.7/site-packages/gym/utils/passive_env_checker.py:142: UserWarning: \u001B[33mWARN: The obs returned by the `reset()` method was expecting numpy array dtype to be int64, actual type: float64\u001B[0m\n",
      "  f\"{pre} was expecting numpy array dtype to be {observation_space.dtype}, actual type: {obs.dtype}\"\n",
      "/Library/Frameworks/Python.framework/Versions/3.7/lib/python3.7/site-packages/gym/utils/passive_env_checker.py:165: UserWarning: \u001B[33mWARN: The obs returned by the `reset()` method is not within the observation space.\u001B[0m\n",
      "  logger.warn(f\"{pre} is not within the observation space.\")\n",
      "/Library/Frameworks/Python.framework/Versions/3.7/lib/python3.7/site-packages/gym/utils/passive_env_checker.py:228: DeprecationWarning: \u001B[33mWARN: Core environment is written in old step API which returns one bool instead of two. It is recommended to rewrite the environment with new step API. \u001B[0m\n",
      "  \"Core environment is written in old step API which returns one bool instead of two. \"\n",
      "/Library/Frameworks/Python.framework/Versions/3.7/lib/python3.7/site-packages/gym/utils/passive_env_checker.py:142: UserWarning: \u001B[33mWARN: The obs returned by the `step()` method was expecting numpy array dtype to be int64, actual type: float64\u001B[0m\n",
      "  f\"{pre} was expecting numpy array dtype to be {observation_space.dtype}, actual type: {obs.dtype}\"\n",
      "/Library/Frameworks/Python.framework/Versions/3.7/lib/python3.7/site-packages/gym/utils/passive_env_checker.py:165: UserWarning: \u001B[33mWARN: The obs returned by the `step()` method is not within the observation space.\u001B[0m\n",
      "  logger.warn(f\"{pre} is not within the observation space.\")\n"
     ]
    },
    {
     "name": "stdout",
     "output_type": "stream",
     "text": [
      "Episode: 0 has reward -1297\n",
      "Episode: 1 has reward -1327\n",
      "Episode: 2 has reward -1311\n",
      "Episode: 3 has reward -1164\n",
      "Episode: 4 has reward -1303\n",
      "Episode: 5 has reward -1214\n",
      "Episode: 6 has reward -1196\n",
      "Episode: 7 has reward -1202\n",
      "Episode: 8 has reward -1237\n",
      "Episode: 9 has reward -1317\n",
      "Episode: 10 has reward -1217\n",
      "Episode: 11 has reward -1348\n",
      "Episode: 12 has reward -1239\n",
      "Episode: 13 has reward -1308\n",
      "Episode: 14 has reward -1364\n",
      "Episode: 15 has reward -1436\n",
      "Episode: 16 has reward -1386\n",
      "Episode: 17 has reward -1336\n",
      "Episode: 18 has reward -1338\n",
      "Episode: 19 has reward -1426\n",
      "Episode: 20 has reward -1259\n",
      "Episode: 21 has reward -1267\n",
      "Episode: 22 has reward -1222\n",
      "Episode: 23 has reward -1246\n",
      "Episode: 24 has reward -1488\n",
      "Episode: 25 has reward -1336\n",
      "Episode: 26 has reward -1215\n",
      "Episode: 27 has reward -1233\n",
      "Episode: 28 has reward -1260\n",
      "Episode: 29 has reward -1166\n",
      "Episode: 30 has reward -1318\n",
      "Episode: 31 has reward -1299\n",
      "Episode: 32 has reward -1210\n",
      "Episode: 33 has reward -1204\n",
      "Episode: 34 has reward -1267\n",
      "Episode: 35 has reward -1258\n",
      "Episode: 36 has reward -1300\n",
      "Episode: 37 has reward -1331\n",
      "Episode: 38 has reward -1258\n",
      "Episode: 39 has reward -1169\n",
      "Episode: 40 has reward -1303\n",
      "Episode: 41 has reward -1248\n",
      "Episode: 42 has reward -1322\n",
      "Episode: 43 has reward -1280\n",
      "Episode: 44 has reward -1247\n",
      "Episode: 45 has reward -1336\n",
      "Episode: 46 has reward -1263\n",
      "Episode: 47 has reward -1388\n",
      "Episode: 48 has reward -1372\n",
      "Episode: 49 has reward -1295\n",
      "Episode: 50 has reward -1152\n",
      "Episode: 51 has reward -1221\n",
      "Episode: 52 has reward -1146\n",
      "Episode: 53 has reward -1353\n",
      "Episode: 54 has reward -1205\n",
      "Episode: 55 has reward -1346\n",
      "Episode: 56 has reward -1244\n",
      "Episode: 57 has reward -1203\n",
      "Episode: 58 has reward -1222\n",
      "Episode: 59 has reward -1288\n",
      "Episode: 60 has reward -1203\n",
      "Episode: 61 has reward -1260\n",
      "Episode: 62 has reward -1392\n",
      "Episode: 63 has reward -1227\n",
      "Episode: 64 has reward -1227\n",
      "Episode: 65 has reward -1249\n",
      "Episode: 66 has reward -1211\n",
      "Episode: 67 has reward -1154\n",
      "Episode: 68 has reward -1225\n",
      "Episode: 69 has reward -1220\n",
      "Episode: 70 has reward -1310\n",
      "Episode: 71 has reward -1310\n",
      "Episode: 72 has reward -1284\n",
      "Episode: 73 has reward -1254\n",
      "Episode: 74 has reward -1203\n",
      "Episode: 75 has reward -1258\n",
      "Episode: 76 has reward -1198\n",
      "Episode: 77 has reward -1250\n",
      "Episode: 78 has reward -1364\n",
      "Episode: 79 has reward -1390\n",
      "Episode: 80 has reward -1246\n",
      "Episode: 81 has reward -1316\n",
      "Episode: 82 has reward -1279\n",
      "Episode: 83 has reward -1284\n",
      "Episode: 84 has reward -1304\n",
      "Episode: 85 has reward -1371\n",
      "Episode: 86 has reward -1229\n",
      "Episode: 87 has reward -1244\n",
      "Episode: 88 has reward -1271\n",
      "Episode: 89 has reward -1401\n",
      "Episode: 90 has reward -1453\n",
      "Episode: 91 has reward -1232\n",
      "Episode: 92 has reward -1278\n",
      "Episode: 93 has reward -1392\n",
      "Episode: 94 has reward -1305\n",
      "Episode: 95 has reward -1263\n",
      "Episode: 96 has reward -1335\n",
      "Episode: 97 has reward -1326\n",
      "Episode: 98 has reward -1288\n",
      "Episode: 99 has reward -1321\n",
      "Episode: 100 has reward -1234\n",
      "Episode: 101 has reward -1268\n",
      "Episode: 102 has reward -1183\n",
      "Episode: 103 has reward -1371\n",
      "Episode: 104 has reward -1237\n",
      "Episode: 105 has reward -1270\n",
      "Episode: 106 has reward -1180\n",
      "Episode: 107 has reward -1382\n",
      "Episode: 108 has reward -1205\n",
      "Episode: 109 has reward -1227\n",
      "Episode: 110 has reward -1287\n",
      "Episode: 111 has reward -1289\n",
      "Episode: 112 has reward -1227\n",
      "Episode: 113 has reward -1154\n",
      "Episode: 114 has reward -1221\n",
      "Episode: 115 has reward -1202\n",
      "Episode: 116 has reward -1155\n",
      "Episode: 117 has reward -1273\n",
      "Episode: 118 has reward -1292\n",
      "Episode: 119 has reward -1243\n",
      "Episode: 120 has reward -1309\n",
      "Episode: 121 has reward -1218\n",
      "Episode: 122 has reward -1249\n",
      "Episode: 123 has reward -1336\n",
      "Episode: 124 has reward -1265\n",
      "Episode: 125 has reward -1289\n",
      "Episode: 126 has reward -1289\n",
      "Episode: 127 has reward -1237\n",
      "Episode: 128 has reward -1268\n",
      "Episode: 129 has reward -1154\n",
      "Episode: 130 has reward -1182\n",
      "Episode: 131 has reward -1244\n",
      "Episode: 132 has reward -1186\n",
      "Episode: 133 has reward -1157\n",
      "Episode: 134 has reward -1296\n",
      "Episode: 135 has reward -1124\n",
      "Episode: 136 has reward -1331\n",
      "Episode: 137 has reward -1200\n",
      "Episode: 138 has reward -1284\n",
      "Episode: 139 has reward -1278\n",
      "Episode: 140 has reward -1327\n",
      "Episode: 141 has reward -1300\n",
      "Episode: 142 has reward -1295\n",
      "Episode: 143 has reward -1281\n",
      "Episode: 144 has reward -1205\n",
      "Episode: 145 has reward -1275\n",
      "Episode: 146 has reward -1212\n",
      "Episode: 147 has reward -1258\n",
      "Episode: 148 has reward -1303\n",
      "Episode: 149 has reward -1350\n",
      "Episode: 150 has reward -1186\n",
      "Episode: 151 has reward -1284\n",
      "Episode: 152 has reward -1228\n",
      "Episode: 153 has reward -1148\n",
      "Episode: 154 has reward -1236\n",
      "Episode: 155 has reward -1240\n",
      "Episode: 156 has reward -1342\n",
      "Episode: 157 has reward -1460\n",
      "Episode: 158 has reward -1170\n",
      "Episode: 159 has reward -1333\n",
      "Episode: 160 has reward -1229\n",
      "Episode: 161 has reward -1236\n",
      "Episode: 162 has reward -1246\n",
      "Episode: 163 has reward -1286\n",
      "Episode: 164 has reward -1183\n",
      "Episode: 165 has reward -1206\n",
      "Episode: 166 has reward -1307\n",
      "Episode: 167 has reward -1212\n",
      "Episode: 168 has reward -1349\n",
      "Episode: 169 has reward -1212\n",
      "Episode: 170 has reward -1207\n",
      "Episode: 171 has reward -1381\n",
      "Episode: 172 has reward -1278\n",
      "Episode: 173 has reward -1215\n",
      "Episode: 174 has reward -1169\n",
      "Episode: 175 has reward -1323\n",
      "Episode: 176 has reward -1215\n",
      "Episode: 177 has reward -1196\n",
      "Episode: 178 has reward -1274\n",
      "Episode: 179 has reward -1191\n",
      "Episode: 180 has reward -1151\n",
      "Episode: 181 has reward -1295\n",
      "Episode: 182 has reward -1229\n",
      "Episode: 183 has reward -1216\n",
      "Episode: 184 has reward -1195\n",
      "Episode: 185 has reward -1285\n",
      "Episode: 186 has reward -1210\n",
      "Episode: 187 has reward -1354\n",
      "Episode: 188 has reward -1232\n",
      "Episode: 189 has reward -1315\n",
      "Episode: 190 has reward -1310\n",
      "Episode: 191 has reward -1404\n",
      "Episode: 192 has reward -1222\n",
      "Episode: 193 has reward -1250\n",
      "Episode: 194 has reward -1213\n",
      "Episode: 195 has reward -1251\n",
      "Episode: 196 has reward -1313\n",
      "Episode: 197 has reward -1200\n",
      "Episode: 198 has reward -1186\n",
      "Episode: 199 has reward -1337\n",
      "Episode: 200 has reward -1231\n",
      "Episode: 201 has reward -1303\n",
      "Episode: 202 has reward -1265\n",
      "Episode: 203 has reward -1445\n",
      "Episode: 204 has reward -1380\n",
      "Episode: 205 has reward -1253\n",
      "Episode: 206 has reward -1296\n",
      "Episode: 207 has reward -1386\n",
      "Episode: 208 has reward -1317\n",
      "Episode: 209 has reward -1348\n",
      "Episode: 210 has reward -1272\n",
      "Episode: 211 has reward -1237\n",
      "Episode: 212 has reward -1300\n",
      "Episode: 213 has reward -1355\n",
      "Episode: 214 has reward -1238\n",
      "Episode: 215 has reward -1163\n",
      "Episode: 216 has reward -1254\n",
      "Episode: 217 has reward -1276\n",
      "Episode: 218 has reward -1201\n",
      "Episode: 219 has reward -1270\n",
      "Episode: 220 has reward -1346\n",
      "Episode: 221 has reward -1279\n",
      "Episode: 222 has reward -1247\n",
      "Episode: 223 has reward -1258\n",
      "Episode: 224 has reward -1366\n",
      "Episode: 225 has reward -1237\n",
      "Episode: 226 has reward -1156\n",
      "Episode: 227 has reward -1659\n",
      "Episode: 228 has reward -1166\n",
      "Episode: 229 has reward -1149\n",
      "Episode: 230 has reward -1147\n",
      "Episode: 231 has reward -1331\n",
      "Episode: 232 has reward -1315\n",
      "Episode: 233 has reward -1244\n",
      "Episode: 234 has reward -1235\n",
      "Episode: 235 has reward -1165\n",
      "Episode: 236 has reward -1206\n",
      "Episode: 237 has reward -1358\n",
      "Episode: 238 has reward -1195\n",
      "Episode: 239 has reward -1362\n",
      "Episode: 240 has reward -1332\n",
      "Episode: 241 has reward -1166\n",
      "Episode: 242 has reward -1320\n",
      "Episode: 243 has reward -1347\n",
      "Episode: 244 has reward -1258\n",
      "Episode: 245 has reward -1246\n",
      "Episode: 246 has reward -1112\n",
      "Episode: 247 has reward -1239\n",
      "Episode: 248 has reward -1153\n",
      "Episode: 249 has reward -1244\n",
      "Episode: 250 has reward -1282\n",
      "Episode: 251 has reward -1385\n",
      "Episode: 252 has reward -1280\n",
      "Episode: 253 has reward -1204\n",
      "Episode: 254 has reward -1354\n",
      "Episode: 255 has reward -1276\n",
      "Episode: 256 has reward -1415\n",
      "Episode: 257 has reward -1186\n",
      "Episode: 258 has reward -1280\n",
      "Episode: 259 has reward -1160\n",
      "Episode: 260 has reward -1308\n",
      "Episode: 261 has reward -1206\n",
      "Episode: 262 has reward -1257\n",
      "Episode: 263 has reward -1223\n",
      "Episode: 264 has reward -1253\n",
      "Episode: 265 has reward -1439\n",
      "Episode: 266 has reward -1191\n",
      "Episode: 267 has reward -1306\n",
      "Episode: 268 has reward -1222\n",
      "Episode: 269 has reward -1247\n",
      "Episode: 270 has reward -1318\n",
      "Episode: 271 has reward -1325\n",
      "Episode: 272 has reward -1227\n",
      "Episode: 273 has reward -1421\n",
      "Episode: 274 has reward -1372\n",
      "Episode: 275 has reward -1187\n",
      "Episode: 276 has reward -1297\n",
      "Episode: 277 has reward -1306\n",
      "Episode: 278 has reward -1388\n",
      "Episode: 279 has reward -1219\n",
      "Episode: 280 has reward -1307\n",
      "Episode: 281 has reward -1154\n",
      "Episode: 282 has reward -1295\n",
      "Episode: 283 has reward -1305\n",
      "Episode: 284 has reward -1346\n",
      "Episode: 285 has reward -1231\n",
      "Episode: 286 has reward -1317\n",
      "Episode: 287 has reward -1414\n",
      "Episode: 288 has reward -1277\n",
      "Episode: 289 has reward -1346\n",
      "Episode: 290 has reward -1196\n",
      "Episode: 291 has reward -1314\n",
      "Episode: 292 has reward -1269\n",
      "Episode: 293 has reward -1342\n",
      "Episode: 294 has reward -1272\n",
      "Episode: 295 has reward -1387\n",
      "Episode: 296 has reward -1246\n",
      "Episode: 297 has reward -1259\n",
      "Episode: 298 has reward -1330\n",
      "Episode: 299 has reward -1292\n",
      "Episode: 300 has reward -1302\n",
      "Episode: 301 has reward -1308\n",
      "Episode: 302 has reward -1413\n",
      "Episode: 303 has reward -1356\n",
      "Episode: 304 has reward -1204\n",
      "Episode: 305 has reward -1273\n",
      "Episode: 306 has reward -1251\n",
      "Episode: 307 has reward -1261\n",
      "Episode: 308 has reward -1241\n",
      "Episode: 309 has reward -1342\n",
      "Episode: 310 has reward -1202\n",
      "Episode: 311 has reward -1394\n",
      "Episode: 312 has reward -1216\n",
      "Episode: 313 has reward -1295\n",
      "Episode: 314 has reward -1204\n",
      "Episode: 315 has reward -1290\n",
      "Episode: 316 has reward -1322\n",
      "Episode: 317 has reward -1429\n",
      "Episode: 318 has reward -1228\n",
      "Episode: 319 has reward -1306\n",
      "Episode: 320 has reward -1195\n",
      "Episode: 321 has reward -1234\n",
      "Episode: 322 has reward -1196\n",
      "Episode: 323 has reward -1197\n",
      "Episode: 324 has reward -1273\n",
      "Episode: 325 has reward -1194\n",
      "Episode: 326 has reward -1223\n",
      "Episode: 327 has reward -1352\n",
      "Episode: 328 has reward -1400\n",
      "Episode: 329 has reward -1319\n",
      "Episode: 330 has reward -1228\n",
      "Episode: 331 has reward -1188\n",
      "Episode: 332 has reward -1271\n",
      "Episode: 333 has reward -1234\n",
      "Episode: 334 has reward -1368\n",
      "Episode: 335 has reward -1341\n",
      "Episode: 336 has reward -1207\n",
      "Episode: 337 has reward -1250\n",
      "Episode: 338 has reward -1131\n",
      "Episode: 339 has reward -1349\n",
      "Episode: 340 has reward -1194\n",
      "Episode: 341 has reward -1218\n",
      "Episode: 342 has reward -1303\n",
      "Episode: 343 has reward -1165\n",
      "Episode: 344 has reward -1194\n",
      "Episode: 345 has reward -1240\n",
      "Episode: 346 has reward -1179\n",
      "Episode: 347 has reward -1242\n",
      "Episode: 348 has reward -1188\n",
      "Episode: 349 has reward -1220\n",
      "Episode: 350 has reward -1208\n",
      "Episode: 351 has reward -1225\n",
      "Episode: 352 has reward -1245\n",
      "Episode: 353 has reward -1091\n",
      "Episode: 354 has reward -1214\n",
      "Episode: 355 has reward -1213\n",
      "Episode: 356 has reward -1225\n",
      "Episode: 357 has reward -1340\n",
      "Episode: 358 has reward -1267\n",
      "Episode: 359 has reward -1209\n",
      "Episode: 360 has reward -1220\n",
      "Episode: 361 has reward -1283\n",
      "Episode: 362 has reward -1232\n",
      "Episode: 363 has reward -1304\n",
      "Episode: 364 has reward -1188\n",
      "Episode: 365 has reward -1146\n",
      "Episode: 366 has reward -1269\n",
      "Episode: 367 has reward -1251\n",
      "Episode: 368 has reward -1298\n",
      "Episode: 369 has reward -1167\n",
      "Episode: 370 has reward -1287\n",
      "Episode: 371 has reward -1306\n",
      "Episode: 372 has reward -1366\n",
      "Episode: 373 has reward -1301\n",
      "Episode: 374 has reward -1248\n",
      "Episode: 375 has reward -1221\n",
      "Episode: 376 has reward -1302\n",
      "Episode: 377 has reward -1262\n",
      "Episode: 378 has reward -1119\n",
      "Episode: 379 has reward -1260\n",
      "Episode: 380 has reward -1264\n",
      "Episode: 381 has reward -1327\n",
      "Episode: 382 has reward -1267\n",
      "Episode: 383 has reward -1293\n",
      "Episode: 384 has reward -1279\n",
      "Episode: 385 has reward -1266\n",
      "Episode: 386 has reward -1213\n",
      "Episode: 387 has reward -1201\n",
      "Episode: 388 has reward -1294\n",
      "Episode: 389 has reward -1256\n",
      "Episode: 390 has reward -1275\n",
      "Episode: 391 has reward -1214\n",
      "Episode: 392 has reward -1197\n",
      "Episode: 393 has reward -1293\n",
      "Episode: 394 has reward -1187\n",
      "Episode: 395 has reward -1308\n",
      "Episode: 396 has reward -1227\n",
      "Episode: 397 has reward -1175\n",
      "Episode: 398 has reward -1160\n",
      "Episode: 399 has reward -1186\n",
      "Episode: 400 has reward -1421\n",
      "Episode: 401 has reward -1167\n",
      "Episode: 402 has reward -1286\n",
      "Episode: 403 has reward -1244\n",
      "Episode: 404 has reward -1263\n",
      "Episode: 405 has reward -1196\n",
      "Episode: 406 has reward -1250\n",
      "Episode: 407 has reward -1261\n",
      "Episode: 408 has reward -1261\n",
      "Episode: 409 has reward -1303\n",
      "Episode: 410 has reward -1242\n",
      "Episode: 411 has reward -1299\n",
      "Episode: 412 has reward -1266\n",
      "Episode: 413 has reward -1277\n",
      "Episode: 414 has reward -1162\n",
      "Episode: 415 has reward -1289\n",
      "Episode: 416 has reward -1261\n",
      "Episode: 417 has reward -1203\n",
      "Episode: 418 has reward -1387\n",
      "Episode: 419 has reward -1271\n",
      "Episode: 420 has reward -1279\n",
      "Episode: 421 has reward -1160\n",
      "Episode: 422 has reward -1296\n",
      "Episode: 423 has reward -1491\n",
      "Episode: 424 has reward -1213\n",
      "Episode: 425 has reward -1242\n",
      "Episode: 426 has reward -1239\n",
      "Episode: 427 has reward -1201\n",
      "Episode: 428 has reward -1120\n",
      "Episode: 429 has reward -1243\n",
      "Episode: 430 has reward -1354\n",
      "Episode: 431 has reward -1378\n",
      "Episode: 432 has reward -1302\n",
      "Episode: 433 has reward -1226\n",
      "Episode: 434 has reward -1317\n",
      "Episode: 435 has reward -1278\n",
      "Episode: 436 has reward -1255\n",
      "Episode: 437 has reward -1337\n",
      "Episode: 438 has reward -1311\n",
      "Episode: 439 has reward -1337\n",
      "Episode: 440 has reward -1193\n",
      "Episode: 441 has reward -1313\n",
      "Episode: 442 has reward -1288\n",
      "Episode: 443 has reward -1283\n",
      "Episode: 444 has reward -1159\n",
      "Episode: 445 has reward -1381\n",
      "Episode: 446 has reward -1238\n",
      "Episode: 447 has reward -1427\n",
      "Episode: 448 has reward -1316\n",
      "Episode: 449 has reward -1282\n",
      "Episode: 450 has reward -1269\n",
      "Episode: 451 has reward -1318\n",
      "Episode: 452 has reward -1405\n",
      "Episode: 453 has reward -1162\n",
      "Episode: 454 has reward -1176\n",
      "Episode: 455 has reward -1252\n",
      "Episode: 456 has reward -1195\n",
      "Episode: 457 has reward -1183\n",
      "Episode: 458 has reward -1159\n",
      "Episode: 459 has reward -1229\n",
      "Episode: 460 has reward -1324\n",
      "Episode: 461 has reward -1209\n",
      "Episode: 462 has reward -1243\n",
      "Episode: 463 has reward -1216\n",
      "Episode: 464 has reward -1113\n",
      "Episode: 465 has reward -1172\n",
      "Episode: 466 has reward -1262\n",
      "Episode: 467 has reward -1279\n",
      "Episode: 468 has reward -1269\n",
      "Episode: 469 has reward -1387\n",
      "Episode: 470 has reward -1381\n",
      "Episode: 471 has reward -1252\n",
      "Episode: 472 has reward -1243\n",
      "Episode: 473 has reward -1249\n",
      "Episode: 474 has reward -1236\n",
      "Episode: 475 has reward -1232\n",
      "Episode: 476 has reward -1292\n",
      "Episode: 477 has reward -1237\n",
      "Episode: 478 has reward -1346\n",
      "Episode: 479 has reward -1239\n",
      "Episode: 480 has reward -1307\n",
      "Episode: 481 has reward -1228\n",
      "Episode: 482 has reward -1386\n",
      "Episode: 483 has reward -1262\n",
      "Episode: 484 has reward -1260\n",
      "Episode: 485 has reward -1252\n",
      "Episode: 486 has reward -1385\n",
      "Episode: 487 has reward -1312\n",
      "Episode: 488 has reward -1294\n",
      "Episode: 489 has reward -1280\n",
      "Episode: 490 has reward -1321\n",
      "Episode: 491 has reward -1150\n",
      "Episode: 492 has reward -1198\n",
      "Episode: 493 has reward -1261\n",
      "Episode: 494 has reward -1302\n",
      "Episode: 495 has reward -1337\n",
      "Episode: 496 has reward -1222\n",
      "Episode: 497 has reward -1352\n",
      "Episode: 498 has reward -1158\n"
     ]
    },
    {
     "name": "stderr",
     "output_type": "stream",
     "text": [
      "IOPub data rate exceeded.\n",
      "The notebook server will temporarily stop sending output\n",
      "to the client in order to avoid crashing it.\n",
      "To change this limit, set the config variable\n",
      "`--NotebookApp.iopub_data_rate_limit`.\n",
      "\n",
      "Current values:\n",
      "NotebookApp.iopub_data_rate_limit=1000000.0 (bytes/sec)\n",
      "NotebookApp.rate_limit_window=3.0 (secs)\n",
      "\n"
     ]
    }
   ],
   "source": [
    "# 1. Load Environment and Q-table structure\n",
    "env_name = \"JSSP-v0\"\n",
    "env = gym.make(env_name, instance_path = \"instance3.txt\")\n",
    "Q = {}\n",
    "# 2. Parameters of Q-learning\n",
    "eta = .628\n",
    "gamma = .9\n",
    "epis = 500\n",
    "epsilon = .1\n",
    "rev_list = [] # rewards per episode calculate\n",
    "# 3. Q-learning Algorithm\n",
    "for i in range(epis):\n",
    "    # Reset environment\n",
    "    s = env.reset()\n",
    "    rAll = 0\n",
    "    d = False\n",
    "    # The Q-Table learning algorithm\n",
    "    while not d:\n",
    "        # env.render()\n",
    "        # Choose action from Q table\n",
    "        s_key = tuple(np.concatenate((s[1], s[0])))\n",
    "        if s_key not in Q.keys() or Q[s_key] == {} or random.uniform(0, 1) < epsilon:\n",
    "            a = get_legal_action(env)\n",
    "        else:\n",
    "            a = max(Q[s_key], key = Q[s_key].get)\n",
    "        #Get new state & reward from environment\n",
    "        s_next, r, d, _ = env.step(a)\n",
    "        #Update Q-Table with new knowledge\n",
    "        s_next_key = tuple(np.concatenate((s_next[1], s_next[0])))\n",
    "        a_key = tuple(a)\n",
    "        Q = update(Q, s_key, s_next_key, a_key, r, eta, gamma)\n",
    "        rAll += r\n",
    "        s = s_next\n",
    "    rev_list.append(rAll)\n",
    "    print(\"Episode: \" + str(i) + \" has reward \" + str(rAll))\n",
    "    # env.render()\n",
    "# Code will stop at d == True, and render one state before it\n",
    "print(\"Reward Sum on all episodes \" + str(sum(rev_list)/epis))\n",
    "print(\"Final Values Q-Table\")\n",
    "print(Q)"
   ],
   "metadata": {
    "collapsed": false,
    "pycharm": {
     "name": "#%%\n"
    }
   }
  },
  {
   "cell_type": "code",
   "execution_count": 14,
   "outputs": [
    {
     "data": {
      "text/plain": "<function matplotlib.pyplot.show(close=None, block=None)>"
     },
     "execution_count": 14,
     "metadata": {},
     "output_type": "execute_result"
    },
    {
     "data": {
      "text/plain": "<Figure size 432x288 with 1 Axes>",
      "image/png": "[encoded data removed]"
     },
     "metadata": {
      "needs_background": "light"
     },
     "output_type": "display_data"
    }
   ],
   "source": [
    "import matplotlib.pyplot as plt\n",
    "plt.plot(rev_list)\n",
    "plt.show"
   ],
   "metadata": {
    "collapsed": false,
    "pycharm": {
     "name": "#%%\n"
    }
   }
  },
  {
   "cell_type": "code",
   "execution_count": 18,
   "outputs": [
    {
     "data": {
      "text/plain": "<function matplotlib.pyplot.show(close=None, block=None)>"
     },
     "execution_count": 18,
     "metadata": {},
     "output_type": "execute_result"
    },
    {
     "data": {
      "text/plain": "<Figure size 432x288 with 1 Axes>",
      "image/png": "[encoded data removed]"
     },
     "metadata": {
      "needs_background": "light"
     },
     "output_type": "display_data"
    }
   ],
   "source": [
    "plt.plot(rev_list)\n",
    "plt.show"
   ],
   "metadata": {
    "collapsed": false,
    "pycharm": {
     "name": "#%%\n"
    }
   }
  },
  {
   "cell_type": "code",
   "execution_count": null,
   "outputs": [],
   "source": [],
   "metadata": {
    "collapsed": false,
    "pycharm": {
     "name": "#%%\n"
    }
   }
  },
  {
   "cell_type": "code",
   "execution_count": null,
   "outputs": [],
   "source": [
    "state = env.reset()\n",
    "episodes = 50\n",
    "max_score = -100000\n",
    "for episode in range(1, episodes+1):\n",
    "    state = env.reset()\n",
    "    done = False\n",
    "    score = 0\n",
    "\n",
    "    while not done:\n",
    "        #env.render()\n",
    "        action = get_legal_action(env)\n",
    "        # if not (np.all(action == -1)):\n",
    "        #     print('Episode:{} Action:{} Time:{}'.format(episode, action, env.time))\n",
    "        n_state, reward, done, info = env.step(action)\n",
    "        score+=reward\n",
    "    print('Episode:{} Total_reward:{}'.format(episode, score))\n",
    "    max_score = max(max_score, score)\n",
    "print('From {} Episodes best policy has reward {}'.format(episodes, max_score))"
   ],
   "metadata": {
    "collapsed": false,
    "pycharm": {
     "name": "#%%\n"
    }
   }
  },
  {
   "cell_type": "markdown",
   "source": [
    "## 2. Q-Learning"
   ],
   "metadata": {
    "collapsed": false,
    "pycharm": {
     "name": "#%% md\n"
    }
   }
  },
  {
   "cell_type": "code",
   "execution_count": null,
   "outputs": [],
   "source": [
    "# 1. Load Environment and Q-table structure\n",
    "env_name = \"JSSP-v0\"\n",
    "env = gym.make(env_name, instance_path = \"instance1.txt\")\n",
    "Q = {}\n",
    "# 2. Parameters of Q-learning\n",
    "eta = .628\n",
    "gma = .9\n",
    "epis = 50\n",
    "rev_list = [] # rewards per episode calculate\n",
    "# 3. Q-learning Algorithm\n",
    "for i in range(epis):\n",
    "    # Reset environment\n",
    "    s = env.reset()\n",
    "    rAll = 0\n",
    "    d = False\n",
    "    # The Q-Table learning algorithm\n",
    "    while not d:\n",
    "        # env.render()\n",
    "        # Choose action from Q table\n",
    "        a = np.argmax(Q[s,:] + np.random.randn(1,env.action_space.n)*(1./(i+1)))\n",
    "        #Get new state & reward from environment\n",
    "        s1,r,d,_ = env.step(a)\n",
    "        #Update Q-Table with new knowledge\n",
    "        Q[s,a] = Q[s,a] + eta*(r + gma*np.max(Q[s1,:]) - Q[s,a])\n",
    "        rAll += r\n",
    "        s = s1\n",
    "    rev_list.append(rAll)\n",
    "    print(\"Episode: \" + str(i) + \" has reward \" + str(rAll))\n",
    "    # env.render()\n",
    "# Code will stop at d == True, and render one state before it\n",
    "print(\"Reward Sum on all episodes \" + str(sum(rev_list)/epis))\n",
    "print(\"Final Values Q-Table\")\n",
    "print(Q)"
   ],
   "metadata": {
    "collapsed": false,
    "pycharm": {
     "name": "#%%\n"
    }
   }
  },
  {
   "cell_type": "markdown",
   "source": [
    "# Baselines"
   ],
   "metadata": {
    "collapsed": false,
    "pycharm": {
     "name": "#%% md\n"
    }
   }
  },
  {
   "cell_type": "markdown",
   "source": [
    "## 1. Random Sampling"
   ],
   "metadata": {
    "collapsed": false,
    "pycharm": {
     "name": "#%% md\n"
    }
   }
  },
  {
   "cell_type": "code",
   "execution_count": null,
   "outputs": [],
   "source": [
    "state = env.reset()\n",
    "episodes = 50\n",
    "max_score = -100000\n",
    "for episode in range(1, episodes+1):\n",
    "    state = env.reset()\n",
    "    done = False\n",
    "    score = 0\n",
    "\n",
    "    while not done:\n",
    "        #env.render()\n",
    "        action = get_legal_action(env)\n",
    "        # if not (np.all(action == -1)):\n",
    "        #     print('Episode:{} Action:{} Time:{}'.format(episode, action, env.time))\n",
    "        n_state, reward, done, info = env.step(action)\n",
    "        score+=reward\n",
    "    print('Episode:{} Total_reward:{}'.format(episode, score))\n",
    "    max_score = max(max_score, score)\n",
    "print('From {} Episodes best policy has reward {}'.format(episodes, max_score))"
   ],
   "metadata": {
    "collapsed": false,
    "pycharm": {
     "name": "#%%\n"
    }
   }
  },
  {
   "cell_type": "markdown",
   "source": [
    "## 2. Q-Learning"
   ],
   "metadata": {
    "collapsed": false,
    "pycharm": {
     "name": "#%% md\n"
    }
   }
  },
  {
   "cell_type": "code",
   "execution_count": null,
   "outputs": [],
   "source": [
    "# 1. Load Environment and Q-table structure\n",
    "env_name = \"JSSP-v0\"\n",
    "env = gym.make(env_name, instance_path = \"instance1.txt\")\n",
    "Q = {}\n",
    "# 2. Parameters of Q-learning\n",
    "eta = .628\n",
    "gma = .9\n",
    "epis = 50\n",
    "rev_list = [] # rewards per episode calculate\n",
    "# 3. Q-learning Algorithm\n",
    "for i in range(epis):\n",
    "    # Reset environment\n",
    "    s = env.reset()\n",
    "    rAll = 0\n",
    "    d = False\n",
    "    # The Q-Table learning algorithm\n",
    "    while not d:\n",
    "        # env.render()\n",
    "        # Choose action from Q table\n",
    "        a = np.argmax(Q[s,:] + np.random.randn(1,env.action_space.n)*(1./(i+1)))\n",
    "        #Get new state & reward from environment\n",
    "        s1,r,d,_ = env.step(a)\n",
    "        #Update Q-Table with new knowledge\n",
    "        Q[s,a] = Q[s,a] + eta*(r + gma*np.max(Q[s1,:]) - Q[s,a])\n",
    "        rAll += r\n",
    "        s = s1\n",
    "    rev_list.append(rAll)\n",
    "    print(\"Episode: \" + str(i) + \" has reward \" + str(rAll))\n",
    "    # env.render()\n",
    "# Code will stop at d == True, and render one state before it\n",
    "print(\"Reward Sum on all episodes \" + str(sum(rev_list)/epis))\n",
    "print(\"Final Values Q-Table\")\n",
    "print(Q)"
   ],
   "metadata": {
    "collapsed": false,
    "pycharm": {
     "name": "#%%\n"
    }
   }
  },
  {
   "cell_type": "code",
   "execution_count": null,
   "outputs": [],
   "source": [],
   "metadata": {
    "collapsed": false,
    "pycharm": {
     "name": "#%%\n"
    }
   }
  }
 ],
 "metadata": {
  "kernelspec": {
   "display_name": "Python 3.7.4 64-bit",
   "language": "python",
   "name": "python3"
  },
  "language_info": {
   "codemirror_mode": {
    "name": "ipython",
    "version": 3
   },
   "file_extension": ".py",
   "mimetype": "text/x-python",
   "name": "python",
   "nbconvert_exporter": "python",
   "pygments_lexer": "ipython3",
   "version": "3.7.4"
  },
  "vscode": {
   "interpreter": {
    "hash": "aee8b7b246df8f9039afb4144a1f6fd8d2ca17a180786b69acc140d282b71a49"
   }
  }
 },
 "nbformat": 4,
 "nbformat_minor": 0
}