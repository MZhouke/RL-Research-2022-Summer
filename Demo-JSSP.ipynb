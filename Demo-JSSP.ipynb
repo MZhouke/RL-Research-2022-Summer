{
 "cells": [
  {
   "cell_type": "code",
   "execution_count": 1,
   "metadata": {
    "collapsed": false,
    "pycharm": {
     "name": "#%%\n"
    }
   },
   "outputs": [],
   "source": [
    "import JSSP\n",
    "import time\n",
    "import numpy as np\n",
    "import random\n",
    "import gym\n",
    "import itertools\n",
    "import numpy as np\n",
    "import matplotlib\n",
    "import matplotlib.style\n",
    "import pandas as pd\n",
    "import sys\n",
    "\n",
    "\n",
    "from collections import defaultdict\n",
    "#import plotting"
   ]
  },
  {
   "cell_type": "markdown",
   "metadata": {
    "collapsed": false,
    "pycharm": {
     "name": "#%% md\n"
    }
   },
   "source": [
    "# Environment Initialization"
   ]
  },
  {
   "cell_type": "code",
   "execution_count": 2,
   "metadata": {
    "collapsed": false,
    "pycharm": {
     "name": "#%%\n"
    }
   },
   "outputs": [],
   "source": [
    "def create_env(instance_path):\n",
    "    env_name = \"JSSP-v0\"\n",
    "    env = gym.make(env_name, instance_path = instance_path)\n",
    "    print(\"Environment Created for: \", instance_path)\n",
    "    print(\"Observation space: \\n\", env.observation_space)\n",
    "    print(\"Action space: \\n\", env.action_space)\n",
    "    return env"
   ]
  },
  {
   "cell_type": "code",
   "execution_count": 3,
   "metadata": {
    "collapsed": false,
    "pycharm": {
     "name": "#%%\n"
    }
   },
   "outputs": [
    {
     "name": "stdout",
     "output_type": "stream",
     "text": [
      "Environment Created for:  instance1.txt\n",
      "Observation space: \n",
      " Box([-2 -2  0  0], [2 2 2 2], (4,), int64)\n",
      "Action space: \n",
      " Discrete(8)\n",
      "Environment Created for:  instance3.txt\n",
      "Observation space: \n",
      " Box([-2 -2 -2 -2 -2 -2 -2 -2 -2 -2  0  0  0  0  0  0  0  0  0  0], [10 10 10 10 10 10 10 10 10 10  9  9  9  9  9  9  9  9  9  9], (20,), int64)\n",
      "Action space: \n",
      " Discrete(260)\n",
      "Environment Created for:  instance4.txt\n",
      "Observation space: \n",
      " Box([-2 -2 -2 -2 -2 -2 -2 -2 -2 -2  0  0  0  0  0  0  0  0  0  0], [5 5 5 5 5 5 5 5 5 5 5 5 5 5 5 5 5 5 5 5], (20,), int64)\n",
      "Action space: \n",
      " Discrete(756)\n"
     ]
    }
   ],
   "source": [
    "env1 = create_env(\"instance1.txt\")\n",
    "env3 = create_env(\"instance3.txt\")\n",
    "env4 = create_env(\"instance4.txt\")"
   ]
  },
  {
   "cell_type": "markdown",
   "metadata": {
    "collapsed": false,
    "pycharm": {
     "name": "#%% md\n"
    }
   },
   "source": [
    "# Baselines"
   ]
  },
  {
   "cell_type": "markdown",
   "metadata": {
    "collapsed": false,
    "pycharm": {
     "name": "#%% md\n"
    }
   },
   "source": [
    "## 1. Random Sampling"
   ]
  },
  {
   "cell_type": "code",
   "execution_count": 4,
   "metadata": {
    "collapsed": false,
    "pycharm": {
     "name": "#%%\n"
    }
   },
   "outputs": [
    {
     "name": "stdout",
     "output_type": "stream",
     "text": [
      "Episode:1 Total_reward:45\n",
      "Episode:2 Total_reward:35\n",
      "Episode:3 Total_reward:71\n",
      "Episode:4 Total_reward:57\n",
      "Episode:5 Total_reward:79\n",
      "Episode:6 Total_reward:81\n",
      "Episode:7 Total_reward:67\n",
      "Episode:8 Total_reward:49\n",
      "Episode:9 Total_reward:83\n",
      "Episode:10 Total_reward:73\n",
      "Episode:11 Total_reward:69\n",
      "Episode:12 Total_reward:89\n",
      "Episode:13 Total_reward:85\n",
      "Episode:14 Total_reward:65\n",
      "Episode:15 Total_reward:89\n",
      "Episode:16 Total_reward:71\n",
      "Episode:17 Total_reward:73\n",
      "Episode:18 Total_reward:55\n",
      "Episode:19 Total_reward:31\n",
      "Episode:20 Total_reward:55\n",
      "Episode:21 Total_reward:59\n",
      "Episode:22 Total_reward:83\n",
      "Episode:23 Total_reward:51\n"
     ]
    },
    {
     "ename": "KeyboardInterrupt",
     "evalue": "",
     "output_type": "error",
     "traceback": [
      "\u001B[0;31m---------------------------------------------------------------------------\u001B[0m",
      "\u001B[0;31mKeyboardInterrupt\u001B[0m                         Traceback (most recent call last)",
      "Input \u001B[0;32mIn [4]\u001B[0m, in \u001B[0;36m<cell line: 32>\u001B[0;34m()\u001B[0m\n\u001B[1;32m     29\u001B[0m     \u001B[38;5;28;01mfor\u001B[39;00m i \u001B[38;5;129;01min\u001B[39;00m \u001B[38;5;28mrange\u001B[39m(\u001B[38;5;28mlen\u001B[39m(max_action_list)):\n\u001B[1;32m     30\u001B[0m         \u001B[38;5;28mprint\u001B[39m(\u001B[38;5;124m'\u001B[39m\u001B[38;5;124mThe allocation chose at time \u001B[39m\u001B[38;5;132;01m{}\u001B[39;00m\u001B[38;5;124m is \u001B[39m\u001B[38;5;132;01m{}\u001B[39;00m\u001B[38;5;124m'\u001B[39m\u001B[38;5;241m.\u001B[39mformat(max_time_list[i], max_action_list[i]))\n\u001B[0;32m---> 32\u001B[0m \u001B[43mrandom_sampling\u001B[49m\u001B[43m(\u001B[49m\u001B[43menv4\u001B[49m\u001B[43m,\u001B[49m\u001B[43m \u001B[49m\u001B[38;5;241;43m100\u001B[39;49m\u001B[43m)\u001B[49m\n",
      "Input \u001B[0;32mIn [4]\u001B[0m, in \u001B[0;36mrandom_sampling\u001B[0;34m(env, episodes)\u001B[0m\n\u001B[1;32m     18\u001B[0m         time_list\u001B[38;5;241m.\u001B[39mappend(env\u001B[38;5;241m.\u001B[39mtime)\n\u001B[1;32m     19\u001B[0m         \u001B[38;5;66;03m# print('Episode:{} Allocation:{} Time:{}'.format(episode, env.legal_allocation_list[action], env.time))\u001B[39;00m\n\u001B[0;32m---> 20\u001B[0m     n_state, reward, done, info \u001B[38;5;241m=\u001B[39m \u001B[43menv\u001B[49m\u001B[38;5;241;43m.\u001B[39;49m\u001B[43mstep\u001B[49m\u001B[43m(\u001B[49m\u001B[43maction\u001B[49m\u001B[43m)\u001B[49m\n\u001B[1;32m     21\u001B[0m     score\u001B[38;5;241m+\u001B[39m\u001B[38;5;241m=\u001B[39mreward\n\u001B[1;32m     22\u001B[0m \u001B[38;5;28mprint\u001B[39m(\u001B[38;5;124m'\u001B[39m\u001B[38;5;124mEpisode:\u001B[39m\u001B[38;5;132;01m{}\u001B[39;00m\u001B[38;5;124m Total_reward:\u001B[39m\u001B[38;5;132;01m{}\u001B[39;00m\u001B[38;5;124m'\u001B[39m\u001B[38;5;241m.\u001B[39mformat(episode, score))\n",
      "File \u001B[0;32m/opt/anaconda3/envs/RL-Research-2022/lib/python3.10/site-packages/gym/wrappers/order_enforcing.py:11\u001B[0m, in \u001B[0;36mOrderEnforcing.step\u001B[0;34m(self, action)\u001B[0m\n\u001B[1;32m      9\u001B[0m \u001B[38;5;28;01mdef\u001B[39;00m \u001B[38;5;21mstep\u001B[39m(\u001B[38;5;28mself\u001B[39m, action):\n\u001B[1;32m     10\u001B[0m     \u001B[38;5;28;01massert\u001B[39;00m \u001B[38;5;28mself\u001B[39m\u001B[38;5;241m.\u001B[39m_has_reset, \u001B[38;5;124m\"\u001B[39m\u001B[38;5;124mCannot call env.step() before calling reset()\u001B[39m\u001B[38;5;124m\"\u001B[39m\n\u001B[0;32m---> 11\u001B[0m     observation, reward, done, info \u001B[38;5;241m=\u001B[39m \u001B[38;5;28;43mself\u001B[39;49m\u001B[38;5;241;43m.\u001B[39;49m\u001B[43menv\u001B[49m\u001B[38;5;241;43m.\u001B[39;49m\u001B[43mstep\u001B[49m\u001B[43m(\u001B[49m\u001B[43maction\u001B[49m\u001B[43m)\u001B[49m\n\u001B[1;32m     12\u001B[0m     \u001B[38;5;28;01mreturn\u001B[39;00m observation, reward, done, info\n",
      "File \u001B[0;32m~/Desktop/Personal Storage/OneDrive/CIS Research/RL-Research-2022-Summer/RL-Research-2022-Summer/JSSP/envs/JSSP_env.py:316\u001B[0m, in \u001B[0;36mJSSPEnv.step\u001B[0;34m(self, action)\u001B[0m\n\u001B[1;32m    314\u001B[0m \u001B[38;5;28;01mif\u001B[39;00m done:\n\u001B[1;32m    315\u001B[0m     \u001B[38;5;28;01mreturn\u001B[39;00m \u001B[38;5;28mself\u001B[39m\u001B[38;5;241m.\u001B[39mget_obs(), \u001B[38;5;241m200\u001B[39m \u001B[38;5;241m-\u001B[39m \u001B[38;5;28mself\u001B[39m\u001B[38;5;241m.\u001B[39mtime, done, {}\n\u001B[0;32m--> 316\u001B[0m \u001B[38;5;28;43mself\u001B[39;49m\u001B[38;5;241;43m.\u001B[39;49m\u001B[43mgenerate_legal_allocation_list\u001B[49m\u001B[43m(\u001B[49m\u001B[43m)\u001B[49m\n\u001B[1;32m    317\u001B[0m \u001B[38;5;28mself\u001B[39m\u001B[38;5;241m.\u001B[39minitialize_action_space()\n\u001B[1;32m    318\u001B[0m \u001B[38;5;28;01mreturn\u001B[39;00m \u001B[38;5;28mself\u001B[39m\u001B[38;5;241m.\u001B[39mget_obs(), reward, done, {}\n",
      "File \u001B[0;32m~/Desktop/Personal Storage/OneDrive/CIS Research/RL-Research-2022-Summer/RL-Research-2022-Summer/JSSP/envs/JSSP_env.py:236\u001B[0m, in \u001B[0;36mJSSPEnv.generate_legal_allocation_list\u001B[0;34m(self)\u001B[0m\n\u001B[1;32m    233\u001B[0m \u001B[38;5;28;01mfor\u001B[39;00m allocation \u001B[38;5;129;01min\u001B[39;00m allocation_list:\n\u001B[1;32m    234\u001B[0m     \u001B[38;5;66;03m# check for duplicate job allocation\u001B[39;00m\n\u001B[1;32m    235\u001B[0m     duplicate_check_list \u001B[38;5;241m=\u001B[39m [machine \u001B[38;5;28;01mfor\u001B[39;00m machine \u001B[38;5;129;01min\u001B[39;00m allocation \u001B[38;5;28;01mif\u001B[39;00m machine \u001B[38;5;241m!=\u001B[39m \u001B[38;5;241m-\u001B[39m\u001B[38;5;241m1\u001B[39m]\n\u001B[0;32m--> 236\u001B[0m     \u001B[38;5;28;01mif\u001B[39;00m \u001B[38;5;28mlen\u001B[39m(\u001B[43mnp\u001B[49m\u001B[38;5;241;43m.\u001B[39;49m\u001B[43munique\u001B[49m\u001B[43m(\u001B[49m\u001B[43mduplicate_check_list\u001B[49m\u001B[43m)\u001B[49m) \u001B[38;5;241m==\u001B[39m \u001B[38;5;28mlen\u001B[39m(duplicate_check_list):\n\u001B[1;32m    237\u001B[0m         legal_allocations_list\u001B[38;5;241m.\u001B[39mappend(np\u001B[38;5;241m.\u001B[39marray(allocation))\n\u001B[1;32m    238\u001B[0m \u001B[38;5;28mself\u001B[39m\u001B[38;5;241m.\u001B[39mlegal_allocation_list \u001B[38;5;241m=\u001B[39m legal_allocations_list\n",
      "File \u001B[0;32m<__array_function__ internals>:180\u001B[0m, in \u001B[0;36munique\u001B[0;34m(*args, **kwargs)\u001B[0m\n",
      "File \u001B[0;32m/opt/anaconda3/envs/RL-Research-2022/lib/python3.10/site-packages/numpy/lib/arraysetops.py:272\u001B[0m, in \u001B[0;36munique\u001B[0;34m(ar, return_index, return_inverse, return_counts, axis)\u001B[0m\n\u001B[1;32m    270\u001B[0m ar \u001B[38;5;241m=\u001B[39m np\u001B[38;5;241m.\u001B[39masanyarray(ar)\n\u001B[1;32m    271\u001B[0m \u001B[38;5;28;01mif\u001B[39;00m axis \u001B[38;5;129;01mis\u001B[39;00m \u001B[38;5;28;01mNone\u001B[39;00m:\n\u001B[0;32m--> 272\u001B[0m     ret \u001B[38;5;241m=\u001B[39m \u001B[43m_unique1d\u001B[49m\u001B[43m(\u001B[49m\u001B[43mar\u001B[49m\u001B[43m,\u001B[49m\u001B[43m \u001B[49m\u001B[43mreturn_index\u001B[49m\u001B[43m,\u001B[49m\u001B[43m \u001B[49m\u001B[43mreturn_inverse\u001B[49m\u001B[43m,\u001B[49m\u001B[43m \u001B[49m\u001B[43mreturn_counts\u001B[49m\u001B[43m)\u001B[49m\n\u001B[1;32m    273\u001B[0m     \u001B[38;5;28;01mreturn\u001B[39;00m _unpack_tuple(ret)\n\u001B[1;32m    275\u001B[0m \u001B[38;5;66;03m# axis was specified and not None\u001B[39;00m\n",
      "\u001B[0;31mKeyboardInterrupt\u001B[0m: "
     ]
    }
   ],
   "source": [
    "def random_sampling(env, episodes):\n",
    "    env.reset()\n",
    "    max_score = -100000\n",
    "    max_episode = -1\n",
    "    max_action_list = []\n",
    "    max_time_list = []\n",
    "    for episode in range(1, episodes+1):\n",
    "        env.reset()\n",
    "        done = False\n",
    "        score = 0\n",
    "        action_list = []\n",
    "        time_list = []\n",
    "        while not done:\n",
    "            #env.render()\n",
    "            action = env.action_space.sample()\n",
    "            if action != env.action_space.n -1:\n",
    "                action_list.append(env.legal_allocation_list[action])\n",
    "                time_list.append(env.time)\n",
    "                # print('Episode:{} Allocation:{} Time:{}'.format(episode, env.legal_allocation_list[action], env.time))\n",
    "            n_state, reward, done, info = env.step(action)\n",
    "            score+=reward\n",
    "        print('Episode:{} Total_reward:{}'.format(episode, score))\n",
    "        if score >= max_score:\n",
    "            max_score = score\n",
    "            max_episode = episode\n",
    "            max_action_list = action_list\n",
    "            max_time_list = time_list\n",
    "    print('From {}th Episode best policy has reward {}'.format(max_episode, max_score))\n",
    "    for i in range(len(max_action_list)):\n",
    "        print('The allocation chose at time {} is {}'.format(max_time_list[i], max_action_list[i]))\n",
    "\n",
    "random_sampling(env4, 100)"
   ]
  },
  {
   "cell_type": "markdown",
   "metadata": {
    "collapsed": false,
    "pycharm": {
     "name": "#%% md\n"
    }
   },
   "source": [
    "## 2. Q-Learning"
   ]
  },
  {
   "cell_type": "code",
   "execution_count": 8,
   "outputs": [],
   "source": [
    "# def createEpsilonGreedyPolicy(Q, epsilon, num_actions):\n",
    "# \t\"\"\"\n",
    "# \tCreates an epsilon-greedy policy based\n",
    "# \ton a given Q-function and epsilon.\n",
    "#\n",
    "# \tReturns a function that takes the state\n",
    "# \tas an input and returns the probabilities\n",
    "# \tfor each action in the form of a numpy array\n",
    "# \tof length of the action space(set of possible actions).\n",
    "# \t\"\"\"\n",
    "def policy(state, Q, epsilon, num_actions):\n",
    "\n",
    "    if state in Q:\n",
    "        best_action = np.argmax(Q[state])\n",
    "        Action_probabilities = np.ones(num_actions, dtype = float) * epsilon / num_actions\n",
    "        Action_probabilities[best_action] += (1.0 - epsilon)\n",
    "        return Action_probabilities\n",
    "\n",
    "    Action_probabilities = np.ones(num_actions, dtype = float) / num_actions\n",
    "    return Action_probabilities"
   ],
   "metadata": {
    "collapsed": false,
    "pycharm": {
     "name": "#%%\n"
    }
   }
  },
  {
   "cell_type": "code",
   "execution_count": 9,
   "outputs": [],
   "source": [
    "def update(Q, state, next_state, action, reward, eta, gamma):\n",
    "\n",
    "    if next_state not in Q:\n",
    "        Q_next_state_max = -1\n",
    "    else:\n",
    "        Q_next_state_max = max(Q[next_state])\n",
    "\n",
    "    Q[state][action] = Q[state][action] + eta * (reward + gamma * Q_next_state_max - Q[state][action])\n",
    "\n",
    "    return Q"
   ],
   "metadata": {
    "collapsed": false,
    "pycharm": {
     "name": "#%%\n"
    }
   }
  },
  {
   "cell_type": "code",
   "execution_count": 10,
   "outputs": [
    {
     "name": "stdout",
     "output_type": "stream",
     "text": [
      "Episode: 0 has time 65\n",
      "Episode: 1 has time 69\n",
      "Episode: 2 has time 63\n",
      "Episode: 3 has time 75\n",
      "Episode: 4 has time 64\n",
      "Episode: 5 has time 50\n",
      "Episode: 6 has time 72\n",
      "Episode: 7 has time 83\n",
      "Episode: 8 has time 80\n",
      "Episode: 9 has time 79\n",
      "Episode: 10 has time 52\n",
      "Episode: 11 has time 61\n",
      "Episode: 12 has time 77\n",
      "Episode: 13 has time 75\n",
      "Episode: 14 has time 68\n",
      "Episode: 15 has time 64\n",
      "Episode: 16 has time 77\n",
      "Episode: 17 has time 75\n",
      "Episode: 18 has time 77\n",
      "Episode: 19 has time 61\n",
      "Episode: 20 has time 76\n",
      "Episode: 21 has time 83\n",
      "Episode: 22 has time 77\n",
      "Episode: 23 has time 76\n",
      "Episode: 24 has time 76\n",
      "Episode: 25 has time 76\n",
      "Episode: 26 has time 76\n",
      "Episode: 27 has time 76\n",
      "Episode: 28 has time 76\n",
      "Episode: 29 has time 76\n",
      "Episode: 30 has time 76\n",
      "Episode: 31 has time 63\n",
      "Episode: 32 has time 76\n",
      "Episode: 33 has time 76\n",
      "Episode: 34 has time 76\n",
      "Episode: 35 has time 76\n",
      "Episode: 36 has time 69\n",
      "Episode: 37 has time 77\n",
      "Episode: 38 has time 76\n",
      "Episode: 39 has time 76\n",
      "Episode: 40 has time 77\n",
      "Episode: 41 has time 76\n",
      "Episode: 42 has time 76\n",
      "Episode: 43 has time 61\n",
      "Episode: 44 has time 60\n",
      "Episode: 45 has time 76\n",
      "Episode: 46 has time 77\n",
      "Episode: 47 has time 76\n",
      "Episode: 48 has time 76\n",
      "Episode: 49 has time 76\n",
      "Episode: 50 has time 69\n",
      "Episode: 51 has time 76\n",
      "Episode: 52 has time 76\n",
      "Episode: 53 has time 76\n",
      "Episode: 54 has time 66\n",
      "Episode: 55 has time 76\n",
      "Episode: 56 has time 75\n",
      "Episode: 57 has time 76\n",
      "Episode: 58 has time 76\n",
      "Episode: 59 has time 76\n",
      "Episode: 60 has time 76\n",
      "Episode: 61 has time 76\n",
      "Episode: 62 has time 76\n",
      "Episode: 63 has time 77\n",
      "Episode: 64 has time 76\n",
      "Episode: 65 has time 76\n",
      "Episode: 66 has time 76\n",
      "Episode: 67 has time 76\n",
      "Episode: 68 has time 77\n",
      "Episode: 69 has time 76\n",
      "Episode: 70 has time 76\n",
      "Episode: 71 has time 70\n",
      "Episode: 72 has time 76\n",
      "Episode: 73 has time 69\n",
      "Episode: 74 has time 76\n",
      "Episode: 75 has time 76\n",
      "Episode: 76 has time 76\n",
      "Episode: 77 has time 76\n",
      "Episode: 78 has time 76\n",
      "Episode: 79 has time 76\n",
      "Episode: 80 has time 76\n",
      "Episode: 81 has time 76\n",
      "Episode: 82 has time 76\n",
      "Episode: 83 has time 69\n",
      "Episode: 84 has time 76\n",
      "Episode: 85 has time 76\n",
      "Episode: 86 has time 76\n",
      "Episode: 87 has time 76\n",
      "Episode: 88 has time 50\n",
      "Episode: 89 has time 77\n",
      "Episode: 90 has time 77\n",
      "Episode: 91 has time 76\n",
      "Episode: 92 has time 76\n",
      "Episode: 93 has time 76\n",
      "Episode: 94 has time 76\n",
      "Episode: 95 has time 76\n",
      "Episode: 96 has time 76\n",
      "Episode: 97 has time 76\n",
      "Episode: 98 has time 76\n",
      "Episode: 99 has time 76\n",
      "Episode: 100 has time 76\n",
      "Episode: 101 has time 76\n",
      "Episode: 102 has time 76\n",
      "Episode: 103 has time 76\n",
      "Episode: 104 has time 77\n",
      "Episode: 105 has time 77\n",
      "Episode: 106 has time 76\n",
      "Episode: 107 has time 76\n",
      "Episode: 108 has time 76\n",
      "Episode: 109 has time 76\n",
      "Episode: 110 has time 76\n",
      "Episode: 111 has time 77\n",
      "Episode: 112 has time 66\n",
      "Episode: 113 has time 76\n",
      "Episode: 114 has time 76\n",
      "Episode: 115 has time 76\n",
      "Episode: 116 has time 76\n",
      "Episode: 117 has time 77\n",
      "Episode: 118 has time 76\n",
      "Episode: 119 has time 60\n",
      "Episode: 120 has time 77\n",
      "Episode: 121 has time 76\n",
      "Episode: 122 has time 76\n",
      "Episode: 123 has time 76\n",
      "Episode: 124 has time 77\n",
      "Episode: 125 has time 76\n",
      "Episode: 126 has time 66\n",
      "Episode: 127 has time 76\n",
      "Episode: 128 has time 76\n",
      "Episode: 129 has time 76\n",
      "Episode: 130 has time 76\n",
      "Episode: 131 has time 76\n",
      "Episode: 132 has time 77\n",
      "Episode: 133 has time 76\n",
      "Episode: 134 has time 76\n",
      "Episode: 135 has time 76\n",
      "Episode: 136 has time 76\n",
      "Episode: 137 has time 77\n",
      "Episode: 138 has time 76\n",
      "Episode: 139 has time 70\n",
      "Episode: 140 has time 78\n",
      "Episode: 141 has time 76\n",
      "Episode: 142 has time 76\n",
      "Episode: 143 has time 67\n",
      "Episode: 144 has time 76\n",
      "Episode: 145 has time 79\n",
      "Episode: 146 has time 76\n",
      "Episode: 147 has time 76\n",
      "Episode: 148 has time 76\n",
      "Episode: 149 has time 76\n",
      "Episode: 150 has time 76\n",
      "Episode: 151 has time 60\n",
      "Episode: 152 has time 60\n",
      "Episode: 153 has time 76\n",
      "Episode: 154 has time 76\n",
      "Episode: 155 has time 76\n",
      "Episode: 156 has time 76\n",
      "Episode: 157 has time 76\n",
      "Episode: 158 has time 66\n",
      "Episode: 159 has time 76\n",
      "Episode: 160 has time 76\n",
      "Episode: 161 has time 77\n",
      "Episode: 162 has time 76\n",
      "Episode: 163 has time 76\n",
      "Episode: 164 has time 76\n",
      "Episode: 165 has time 76\n",
      "Episode: 166 has time 76\n",
      "Episode: 167 has time 76\n",
      "Episode: 168 has time 76\n",
      "Episode: 169 has time 76\n",
      "Episode: 170 has time 76\n",
      "Episode: 171 has time 77\n",
      "Episode: 172 has time 76\n",
      "Episode: 173 has time 76\n",
      "Episode: 174 has time 76\n",
      "Episode: 175 has time 76\n",
      "Episode: 176 has time 76\n",
      "Episode: 177 has time 76\n",
      "Episode: 178 has time 76\n",
      "Episode: 179 has time 76\n",
      "Episode: 180 has time 78\n",
      "Episode: 181 has time 76\n",
      "Episode: 182 has time 77\n",
      "Episode: 183 has time 76\n",
      "Episode: 184 has time 76\n",
      "Episode: 185 has time 76\n",
      "Episode: 186 has time 76\n",
      "Episode: 187 has time 76\n",
      "Episode: 188 has time 76\n",
      "Episode: 189 has time 76\n",
      "Episode: 190 has time 76\n",
      "Episode: 191 has time 76\n",
      "Episode: 192 has time 76\n",
      "Episode: 193 has time 77\n",
      "Episode: 194 has time 79\n",
      "Episode: 195 has time 76\n",
      "Episode: 196 has time 76\n",
      "Episode: 197 has time 79\n",
      "Episode: 198 has time 76\n",
      "Episode: 199 has time 76\n",
      "Episode: 200 has time 76\n",
      "Episode: 201 has time 76\n",
      "Episode: 202 has time 76\n",
      "Episode: 203 has time 76\n",
      "Episode: 204 has time 76\n",
      "Episode: 205 has time 76\n",
      "Episode: 206 has time 76\n",
      "Episode: 207 has time 76\n",
      "Episode: 208 has time 76\n",
      "Episode: 209 has time 43\n",
      "Episode: 210 has time 76\n",
      "Episode: 211 has time 76\n",
      "Episode: 212 has time 76\n",
      "Episode: 213 has time 76\n",
      "Episode: 214 has time 76\n",
      "Episode: 215 has time 76\n",
      "Episode: 216 has time 76\n",
      "Episode: 217 has time 76\n",
      "Episode: 218 has time 77\n",
      "Episode: 219 has time 66\n",
      "Episode: 220 has time 76\n",
      "Episode: 221 has time 76\n",
      "Episode: 222 has time 76\n",
      "Episode: 223 has time 76\n",
      "Episode: 224 has time 76\n",
      "Episode: 225 has time 76\n",
      "Episode: 226 has time 76\n",
      "Episode: 227 has time 76\n",
      "Episode: 228 has time 76\n",
      "Episode: 229 has time 76\n",
      "Episode: 230 has time 76\n",
      "Episode: 231 has time 76\n",
      "Episode: 232 has time 76\n",
      "Episode: 233 has time 76\n",
      "Episode: 234 has time 66\n",
      "Episode: 235 has time 76\n",
      "Episode: 236 has time 76\n",
      "Episode: 237 has time 76\n",
      "Episode: 238 has time 90\n",
      "Episode: 239 has time 76\n",
      "Episode: 240 has time 60\n",
      "Episode: 241 has time 76\n",
      "Episode: 242 has time 76\n",
      "Episode: 243 has time 76\n",
      "Episode: 244 has time 76\n",
      "Episode: 245 has time 66\n",
      "Episode: 246 has time 77\n",
      "Episode: 247 has time 76\n",
      "Episode: 248 has time 76\n",
      "Episode: 249 has time 77\n",
      "Episode: 250 has time 77\n",
      "Episode: 251 has time 77\n",
      "Episode: 252 has time 76\n",
      "Episode: 253 has time 76\n",
      "Episode: 254 has time 76\n",
      "Episode: 255 has time 60\n",
      "Episode: 256 has time 76\n",
      "Episode: 257 has time 76\n",
      "Episode: 258 has time 66\n",
      "Episode: 259 has time 76\n",
      "Episode: 260 has time 76\n",
      "Episode: 261 has time 78\n",
      "Episode: 262 has time 76\n",
      "Episode: 263 has time 78\n",
      "Episode: 264 has time 76\n",
      "Episode: 265 has time 76\n",
      "Episode: 266 has time 77\n",
      "Episode: 267 has time 76\n",
      "Episode: 268 has time 76\n",
      "Episode: 269 has time 76\n",
      "Episode: 270 has time 76\n",
      "Episode: 271 has time 76\n",
      "Episode: 272 has time 76\n",
      "Episode: 273 has time 76\n",
      "Episode: 274 has time 76\n",
      "Episode: 275 has time 76\n",
      "Episode: 276 has time 69\n",
      "Episode: 277 has time 76\n",
      "Episode: 278 has time 76\n",
      "Episode: 279 has time 76\n",
      "Episode: 280 has time 77\n",
      "Episode: 281 has time 76\n",
      "Episode: 282 has time 76\n",
      "Episode: 283 has time 77\n",
      "Episode: 284 has time 76\n",
      "Episode: 285 has time 76\n",
      "Episode: 286 has time 76\n",
      "Episode: 287 has time 76\n",
      "Episode: 288 has time 66\n",
      "Episode: 289 has time 76\n",
      "Episode: 290 has time 66\n",
      "Episode: 291 has time 76\n",
      "Episode: 292 has time 76\n",
      "Episode: 293 has time 76\n",
      "Episode: 294 has time 77\n",
      "Episode: 295 has time 76\n",
      "Episode: 296 has time 76\n",
      "Episode: 297 has time 76\n",
      "Episode: 298 has time 76\n",
      "Episode: 299 has time 76\n",
      "Episode: 300 has time 76\n",
      "Episode: 301 has time 76\n",
      "Episode: 302 has time 76\n",
      "Episode: 303 has time 76\n",
      "Episode: 304 has time 77\n",
      "Episode: 305 has time 76\n",
      "Episode: 306 has time 76\n",
      "Episode: 307 has time 76\n",
      "Episode: 308 has time 76\n",
      "Episode: 309 has time 76\n",
      "Episode: 310 has time 76\n",
      "Episode: 311 has time 77\n",
      "Episode: 312 has time 76\n",
      "Episode: 313 has time 76\n",
      "Episode: 314 has time 76\n",
      "Episode: 315 has time 76\n",
      "Episode: 316 has time 76\n",
      "Episode: 317 has time 76\n",
      "Episode: 318 has time 69\n",
      "Episode: 319 has time 76\n",
      "Episode: 320 has time 76\n",
      "Episode: 321 has time 76\n",
      "Episode: 322 has time 76\n",
      "Episode: 323 has time 76\n",
      "Episode: 324 has time 76\n",
      "Episode: 325 has time 76\n",
      "Episode: 326 has time 60\n",
      "Episode: 327 has time 76\n",
      "Episode: 328 has time 77\n",
      "Episode: 329 has time 76\n",
      "Episode: 330 has time 60\n",
      "Episode: 331 has time 76\n",
      "Episode: 332 has time 76\n",
      "Episode: 333 has time 76\n",
      "Episode: 334 has time 77\n",
      "Episode: 335 has time 76\n",
      "Episode: 336 has time 76\n",
      "Episode: 337 has time 69\n",
      "Episode: 338 has time 76\n",
      "Episode: 339 has time 76\n",
      "Episode: 340 has time 76\n",
      "Episode: 341 has time 76\n",
      "Episode: 342 has time 76\n",
      "Episode: 343 has time 76\n",
      "Episode: 344 has time 76\n",
      "Episode: 345 has time 76\n",
      "Episode: 346 has time 81\n",
      "Episode: 347 has time 76\n",
      "Episode: 348 has time 76\n",
      "Episode: 349 has time 76\n",
      "Episode: 350 has time 77\n",
      "Episode: 351 has time 59\n",
      "Episode: 352 has time 76\n",
      "Episode: 353 has time 76\n",
      "Episode: 354 has time 76\n",
      "Episode: 355 has time 69\n",
      "Episode: 356 has time 76\n",
      "Episode: 357 has time 76\n",
      "Episode: 358 has time 76\n",
      "Episode: 359 has time 76\n",
      "Episode: 360 has time 76\n",
      "Episode: 361 has time 76\n",
      "Episode: 362 has time 76\n",
      "Episode: 363 has time 66\n",
      "Episode: 364 has time 76\n",
      "Episode: 365 has time 76\n",
      "Episode: 366 has time 66\n",
      "Episode: 367 has time 76\n",
      "Episode: 368 has time 76\n",
      "Episode: 369 has time 76\n",
      "Episode: 370 has time 60\n",
      "Episode: 371 has time 61\n",
      "Episode: 372 has time 76\n",
      "Episode: 373 has time 75\n",
      "Episode: 374 has time 76\n",
      "Episode: 375 has time 68\n",
      "Episode: 376 has time 76\n",
      "Episode: 377 has time 76\n",
      "Episode: 378 has time 76\n",
      "Episode: 379 has time 76\n",
      "Episode: 380 has time 79\n",
      "Episode: 381 has time 76\n",
      "Episode: 382 has time 76\n",
      "Episode: 383 has time 76\n",
      "Episode: 384 has time 76\n",
      "Episode: 385 has time 76\n",
      "Episode: 386 has time 76\n",
      "Episode: 387 has time 76\n",
      "Episode: 388 has time 76\n",
      "Episode: 389 has time 76\n",
      "Episode: 390 has time 66\n",
      "Episode: 391 has time 76\n",
      "Episode: 392 has time 76\n",
      "Episode: 393 has time 75\n",
      "Episode: 394 has time 76\n",
      "Episode: 395 has time 77\n",
      "Episode: 396 has time 76\n",
      "Episode: 397 has time 77\n",
      "Episode: 398 has time 76\n",
      "Episode: 399 has time 76\n",
      "Episode: 400 has time 76\n",
      "Episode: 401 has time 76\n",
      "Episode: 402 has time 76\n",
      "Episode: 403 has time 76\n",
      "Episode: 404 has time 76\n",
      "Episode: 405 has time 76\n",
      "Episode: 406 has time 76\n",
      "Episode: 407 has time 76\n",
      "Episode: 408 has time 76\n",
      "Episode: 409 has time 76\n",
      "Episode: 410 has time 76\n",
      "Episode: 411 has time 60\n",
      "Episode: 412 has time 66\n",
      "Episode: 413 has time 76\n",
      "Episode: 414 has time 83\n",
      "Episode: 415 has time 76\n",
      "Episode: 416 has time 76\n",
      "Episode: 417 has time 77\n",
      "Episode: 418 has time 76\n",
      "Episode: 419 has time 69\n",
      "Episode: 420 has time 76\n",
      "Episode: 421 has time 76\n",
      "Episode: 422 has time 77\n",
      "Episode: 423 has time 76\n",
      "Episode: 424 has time 76\n",
      "Episode: 425 has time 76\n",
      "Episode: 426 has time 90\n",
      "Episode: 427 has time 76\n",
      "Episode: 428 has time 76\n",
      "Episode: 429 has time 76\n",
      "Episode: 430 has time 76\n",
      "Episode: 431 has time 76\n",
      "Episode: 432 has time 76\n",
      "Episode: 433 has time 78\n",
      "Episode: 434 has time 76\n",
      "Episode: 435 has time 76\n",
      "Episode: 436 has time 67\n",
      "Episode: 437 has time 76\n",
      "Episode: 438 has time 69\n",
      "Episode: 439 has time 76\n",
      "Episode: 440 has time 75\n",
      "Episode: 441 has time 76\n",
      "Episode: 442 has time 76\n",
      "Episode: 443 has time 77\n",
      "Episode: 444 has time 67\n",
      "Episode: 445 has time 78\n",
      "Episode: 446 has time 69\n",
      "Episode: 447 has time 78\n",
      "Episode: 448 has time 76\n",
      "Episode: 449 has time 61\n",
      "Episode: 450 has time 77\n",
      "Episode: 451 has time 77\n",
      "Episode: 452 has time 77\n",
      "Episode: 453 has time 77\n",
      "Episode: 454 has time 77\n",
      "Episode: 455 has time 77\n",
      "Episode: 456 has time 77\n",
      "Episode: 457 has time 76\n",
      "Episode: 458 has time 60\n",
      "Episode: 459 has time 68\n",
      "Episode: 460 has time 74\n",
      "Episode: 461 has time 76\n",
      "Episode: 462 has time 77\n",
      "Episode: 463 has time 78\n",
      "Episode: 464 has time 76\n",
      "Episode: 465 has time 69\n",
      "Episode: 466 has time 77\n",
      "Episode: 467 has time 69\n",
      "Episode: 468 has time 77\n",
      "Episode: 469 has time 77\n",
      "Episode: 470 has time 77\n",
      "Episode: 471 has time 78\n",
      "Episode: 472 has time 79\n",
      "Episode: 473 has time 77\n",
      "Episode: 474 has time 76\n",
      "Episode: 475 has time 77\n",
      "Episode: 476 has time 77\n",
      "Episode: 477 has time 62\n",
      "Episode: 478 has time 77\n",
      "Episode: 479 has time 77\n",
      "Episode: 480 has time 67\n",
      "Episode: 481 has time 77\n",
      "Episode: 482 has time 77\n",
      "Episode: 483 has time 77\n",
      "Episode: 484 has time 70\n",
      "Episode: 485 has time 76\n",
      "Episode: 486 has time 76\n",
      "Episode: 487 has time 77\n",
      "Episode: 488 has time 79\n",
      "Episode: 489 has time 77\n",
      "Episode: 490 has time 60\n",
      "Episode: 491 has time 78\n",
      "Episode: 492 has time 76\n",
      "Episode: 493 has time 76\n",
      "Episode: 494 has time 78\n",
      "Episode: 495 has time 77\n",
      "Episode: 496 has time 77\n",
      "Episode: 497 has time 76\n",
      "Episode: 498 has time 77\n",
      "Episode: 499 has time 77\n",
      "From 210th Episode best policy has reward 65\n",
      "The allocation chose at time 0 is [-1  0]\n",
      "The allocation chose at time 10 is [0 1]\n",
      "The allocation chose at time 20 is [ 2 -1]\n",
      "The allocation chose at time 28 is [-1  1]\n"
     ]
    }
   ],
   "source": [
    "def q_learning(env, epis):\n",
    "\n",
    "    max_score = -100000\n",
    "    max_episode = -1\n",
    "    max_action_list = []\n",
    "    max_time_list = []\n",
    "\n",
    "    # 1. Load Environment and Q-table structure\n",
    "    Q_table = {}\n",
    "    # 2. Parameters of Q-learning\n",
    "    eta = .628\n",
    "    gamma = 1\n",
    "    epsilon = .1\n",
    "    decay_rate = .0001\n",
    "    total_reward_list = [] # rewards per episode calculate\n",
    "    # 3. Q-learning Algorithm\n",
    "    for episode in range(epis):\n",
    "        # Reset environment\n",
    "        state = env.reset()\n",
    "        total_reward = 0\n",
    "        done = False\n",
    "        action_list = []\n",
    "        time_list = []\n",
    "\n",
    "        # The Q-Table learning algorithm\n",
    "        while not done:\n",
    "            # if epsilon >= decay_rate:\n",
    "            #     epsilon -= decay_rate\n",
    "            if state not in Q_table:\n",
    "                Q_table[state] = np.zeros(env.action_space.n)\n",
    "            action_probabilities = policy(state, Q_table, epsilon, env.action_space.n)\n",
    "            action = np.random.choice(np.arange(len(action_probabilities)), p = action_probabilities)\n",
    "            if action != env.action_space.n -1:\n",
    "                action_list.append(env.legal_allocation_list[action])\n",
    "                time_list.append(env.time)\n",
    "                #print('Episode:{} Allocation:{} Time:{}'.format(episode, env.legal_allocation_list[action], env.time))\n",
    "            #Get new state & reward from environment\n",
    "            next_state, reward, done, _ = env.step(action)\n",
    "            #Update Q-Table with new knowledge\n",
    "            Q_table = update(Q_table, state, next_state, action, reward, eta, gamma)\n",
    "            if eta > .01:\n",
    "                eta -= decay_rate\n",
    "            total_reward += reward\n",
    "            state = next_state\n",
    "        total_reward_list.append(total_reward)\n",
    "        if total_reward >= max_score:\n",
    "            max_score = total_reward\n",
    "            max_episode = episode\n",
    "            max_action_list = action_list\n",
    "            max_time_list = time_list\n",
    "        print(\"Episode: \" + str(episode) + \" has time \" + str(env.time))\n",
    "\n",
    "    print('From {}th Episode best policy has reward {}'.format(max_episode + 1, max_score))\n",
    "    for i in range(len(max_action_list)):\n",
    "        print('The allocation chose at time {} is {}'.format(max_time_list[i], max_action_list[i]))\n",
    "\n",
    "    return total_reward_list, Q_table\n",
    "\n",
    "total_reward_list, Q_table = q_learning(env1, 500)"
   ],
   "metadata": {
    "collapsed": false,
    "pycharm": {
     "name": "#%%\n"
    }
   }
  },
  {
   "cell_type": "code",
   "execution_count": 11,
   "outputs": [
    {
     "data": {
      "text/plain": "<function matplotlib.pyplot.show(close=None, block=None)>"
     },
     "execution_count": 11,
     "metadata": {},
     "output_type": "execute_result"
    },
    {
     "data": {
      "text/plain": "<Figure size 432x288 with 1 Axes>",
      "image/png": "[encoded data removed]"
     },
     "metadata": {
      "needs_background": "light"
     },
     "output_type": "display_data"
    }
   ],
   "source": [
    "import matplotlib.pyplot as plt\n",
    "plt.plot(total_reward_list)\n",
    "plt.show\n"
   ],
   "metadata": {
    "collapsed": false,
    "pycharm": {
     "name": "#%%\n"
    }
   }
  },
  {
   "cell_type": "code",
   "execution_count": null,
   "outputs": [],
   "source": [
    "plt.plot(total_reward_list)\n",
    "plt.show"
   ],
   "metadata": {
    "collapsed": false,
    "pycharm": {
     "name": "#%%\n"
    }
   }
  },
  {
   "cell_type": "code",
   "execution_count": null,
   "outputs": [],
   "source": [
    "print(Q_table)"
   ],
   "metadata": {
    "collapsed": false,
    "pycharm": {
     "name": "#%%\n"
    }
   }
  },
  {
   "cell_type": "markdown",
   "source": [
    "## DQN"
   ],
   "metadata": {
    "collapsed": false,
    "pycharm": {
     "name": "#%% md\n"
    }
   }
  },
  {
   "cell_type": "code",
   "execution_count": null,
   "outputs": [],
   "source": [
    "from stable_baselines3 import DQN\n",
    "\n",
    "model = DQN(\"MlpPolicy\", env1, verbose=1)\n",
    "model.learn(total_timesteps=10000, log_interval=4)\n",
    "model.save(\"dqn_cartpole\")\n",
    "\n",
    "del model # remove to demonstrate saving and loading\n",
    "\n",
    "model = DQN.load(\"dqn_cartpole\")\n",
    "\n",
    "obs = env1.reset()\n",
    "for episode in range(500):\n",
    "    env1.reset()\n",
    "    total_reward = 0\n",
    "    while not done:\n",
    "        action, _states = model.predict(obs, deterministic=True)\n",
    "        obs, reward, done, info = env1.step(action)\n",
    "        total_reward += reward\n",
    "    print(\"Episode: \" + str(episode) + \" has reward \" + str(total_reward))\n",
    "        # env.render()"
   ],
   "metadata": {
    "collapsed": false,
    "pycharm": {
     "name": "#%%\n"
    }
   }
  },
  {
   "cell_type": "markdown",
   "source": [
    "## Q Learning from web"
   ],
   "metadata": {
    "collapsed": false,
    "pycharm": {
     "name": "#%% md\n"
    }
   }
  },
  {
   "cell_type": "code",
   "execution_count": null,
   "outputs": [],
   "source": [
    "def createEpsilonGreedyPolicy(Q, epsilon, num_actions, env):\n",
    "\t\"\"\"\n",
    "\tCreates an epsilon-greedy policy based\n",
    "\ton a given Q-function and epsilon.\n",
    "\n",
    "\tReturns a function that takes the state\n",
    "\tas an input and returns the probabilities\n",
    "\tfor each action in the form of a numpy array\n",
    "\tof length of the action space(set of possible actions).\n",
    "\t\"\"\"\n",
    "\tdef policyFunction(state):\n",
    "\n",
    "\t\tAction_probabilities = np.ones(num_actions,\n",
    "\t\t\t\tdtype = float) * epsilon / num_actions\n",
    "\n",
    "\t\tbest_action = np.argmax(Q[state])\n",
    "\t\tAction_probabilities[best_action] += (1.0 - epsilon)\n",
    "\t\treturn Action_probabilities\n",
    "\n",
    "\treturn policyFunction"
   ],
   "metadata": {
    "collapsed": false,
    "pycharm": {
     "name": "#%%\n"
    }
   }
  },
  {
   "cell_type": "code",
   "execution_count": null,
   "outputs": [],
   "source": [
    "def qLearning(env, num_episodes, discount_factor = 1.0,\n",
    "\t\t\t\t\t\t\talpha = 0.6, epsilon = 0.1):\n",
    "\t\"\"\"\n",
    "\tQ-Learning algorithm: Off-policy TD control.\n",
    "\tFinds the optimal greedy policy while improving\n",
    "\tfollowing an epsilon-greedy policy\"\"\"\n",
    "\n",
    "\t# Action value function\n",
    "\t# A nested dictionary that maps\n",
    "\t# state -> (action -> action-value).\n",
    "\tQ = defaultdict(lambda: np.zeros(env.action_space.n))\n",
    "\n",
    "\t# Keeps track of useful statistics\n",
    "\tstats = {\n",
    "            \"episode_lengths\" : np.zeros(num_episodes),\n",
    "\t\t    \"episode_rewards\" : np.zeros(num_episodes)}\n",
    "\n",
    "\t# Create an epsilon greedy policy function\n",
    "\t# appropriately for environment action space\n",
    "\tpolicy = createEpsilonGreedyPolicy(Q, epsilon, env.action_space.n, env)\n",
    "\n",
    "\t# For every episode\n",
    "\tfor ith_episode in range(num_episodes):\n",
    "\n",
    "\t\t# Reset the environment and pick the first action\n",
    "\t\tstate = env.reset()\n",
    "\n",
    "\t\tfor t in itertools.count():\n",
    "\n",
    "\t\t\t# get probabilities of all actions from current state\n",
    "\t\t\taction_probabilities = policy(state)\n",
    "\n",
    "\t\t\t# choose action according to\n",
    "\t\t\t# the probability distribution\n",
    "\t\t\taction = np.random.choice(np.arange(\n",
    "\t\t\t\t\tlen(action_probabilities)),\n",
    "\t\t\t\t\tp = action_probabilities)\n",
    "\n",
    "\t\t\t# take action and get reward, transit to next state\n",
    "\t\t\tnext_state, reward, done, _ = env.step(action)\n",
    "\n",
    "\t\t\t# Update statistics\n",
    "\t\t\tstats[\"episode_rewards\"][ith_episode] += reward\n",
    "\t\t\tstats[\"episode_lengths\"][ith_episode] = t\n",
    "\n",
    "\t\t\t# TD Update\n",
    "\t\t\tbest_next_action = np.argmax(Q[next_state])\n",
    "\t\t\ttd_target = reward + discount_factor * Q[next_state][best_next_action]\n",
    "\t\t\ttd_delta = td_target - Q[state][action]\n",
    "\t\t\tQ[state][action] += alpha * td_delta\n",
    "\n",
    "\t\t\t# done is True if episode terminated\n",
    "\t\t\tif done:\n",
    "\t\t\t\tbreak\n",
    "\n",
    "\t\t\tstate = next_state\n",
    "\n",
    "\treturn Q, stats"
   ],
   "metadata": {
    "collapsed": false,
    "pycharm": {
     "name": "#%%\n"
    }
   }
  },
  {
   "cell_type": "code",
   "execution_count": null,
   "outputs": [],
   "source": [
    "Q, stats = qLearning(env1, 1000)\n",
    "plt.plot(stats[\"episode_lengths\"])\n",
    "plt.plot(stats[\"episode_rewards\"])\n",
    "plt.show"
   ],
   "metadata": {
    "collapsed": false,
    "pycharm": {
     "name": "#%%\n"
    }
   }
  },
  {
   "cell_type": "code",
   "execution_count": null,
   "outputs": [],
   "source": [
    "print(np.append(np.array([1,2]),np.array([1,2])))\n"
   ],
   "metadata": {
    "collapsed": false,
    "pycharm": {
     "name": "#%%\n"
    }
   }
  },
  {
   "cell_type": "code",
   "execution_count": null,
   "outputs": [],
   "source": [
    "sum([1 for machine in np.array([-1, -1, -1, 2]) if machine >= 0])\n"
   ],
   "metadata": {
    "collapsed": false,
    "pycharm": {
     "name": "#%%\n"
    }
   }
  },
  {
   "cell_type": "code",
   "execution_count": null,
   "outputs": [],
   "source": [],
   "metadata": {
    "collapsed": false,
    "pycharm": {
     "name": "#%%\n"
    }
   }
  },
  {
   "cell_type": "code",
   "execution_count": null,
   "metadata": {
    "collapsed": false,
    "pycharm": {
     "name": "#%%\n"
    }
   },
   "outputs": [],
   "source": [
    "Q, stats = qLearning(env1, 1000)\n",
    "plt.plot(stats[\"episode_lengths\"])\n",
    "plt.plot(stats[\"episode_rewards\"])\n",
    "plt.show"
   ]
  },
  {
   "cell_type": "code",
   "execution_count": null,
   "metadata": {
    "collapsed": false,
    "pycharm": {
     "name": "#%%\n"
    }
   },
   "outputs": [],
   "source": [
    "\n"
   ]
  },
  {
   "cell_type": "markdown",
   "metadata": {
    "collapsed": false,
    "pycharm": {
     "name": "#%% md\n"
    }
   },
   "source": [
    "## Q Learning from web"
   ]
  },
  {
   "cell_type": "code",
   "execution_count": null,
   "metadata": {
    "collapsed": false,
    "pycharm": {
     "name": "#%%\n"
    }
   },
   "outputs": [],
   "source": [
    "def createEpsilonGreedyPolicy(Q, epsilon, num_actions, env):\n",
    "\t\"\"\"\n",
    "\tCreates an epsilon-greedy policy based\n",
    "\ton a given Q-function and epsilon.\n",
    "\n",
    "\tReturns a function that takes the state\n",
    "\tas an input and returns the probabilities\n",
    "\tfor each action in the form of a numpy array\n",
    "\tof length of the action space(set of possible actions).\n",
    "\t\"\"\"\n",
    "\tdef policyFunction(state):\n",
    "\n",
    "\t\tAction_probabilities = np.ones(num_actions,\n",
    "\t\t\t\tdtype = float) * epsilon / num_actions\n",
    "\n",
    "\t\tbest_action = np.argmax(Q[state])\n",
    "\t\tAction_probabilities[best_action] += (1.0 - epsilon)\n",
    "\t\treturn Action_probabilities\n",
    "\n",
    "\treturn policyFunction"
   ]
  },
  {
   "cell_type": "code",
   "execution_count": null,
   "metadata": {
    "collapsed": false,
    "pycharm": {
     "name": "#%%\n"
    }
   },
   "outputs": [],
   "source": [
    "def qLearning(env, num_episodes, discount_factor = 1.0,\n",
    "\t\t\t\t\t\t\talpha = 0.6, epsilon = 0.1):\n",
    "\t\"\"\"\n",
    "\tQ-Learning algorithm: Off-policy TD control.\n",
    "\tFinds the optimal greedy policy while improving\n",
    "\tfollowing an epsilon-greedy policy\"\"\"\n",
    "\n",
    "\t# Action value function\n",
    "\t# A nested dictionary that maps\n",
    "\t# state -> (action -> action-value).\n",
    "\tQ = defaultdict(lambda: np.zeros(env.action_space.n))\n",
    "\n",
    "\t# Keeps track of useful statistics\n",
    "\tstats = {\n",
    "            \"episode_lengths\" : np.zeros(num_episodes),\n",
    "\t\t    \"episode_rewards\" : np.zeros(num_episodes)}\n",
    "\n",
    "\t# Create an epsilon greedy policy function\n",
    "\t# appropriately for environment action space\n",
    "\tpolicy = createEpsilonGreedyPolicy(Q, epsilon, env.action_space.n, env)\n",
    "\n",
    "\t# For every episode\n",
    "\tfor ith_episode in range(num_episodes):\n",
    "\n",
    "\t\t# Reset the environment and pick the first action\n",
    "\t\tstate = env.reset()\n",
    "\n",
    "\t\tfor t in itertools.count():\n",
    "\n",
    "\t\t\t# get probabilities of all actions from current state\n",
    "\t\t\taction_probabilities = policy(state)\n",
    "\n",
    "\t\t\t# choose action according to\n",
    "\t\t\t# the probability distribution\n",
    "\t\t\taction = np.random.choice(np.arange(\n",
    "\t\t\t\t\tlen(action_probabilities)),\n",
    "\t\t\t\t\tp = action_probabilities)\n",
    "\n",
    "\t\t\t# take action and get reward, transit to next state\n",
    "\t\t\tnext_state, reward, done, _ = env.step(action)\n",
    "\n",
    "\t\t\t# Update statistics\n",
    "\t\t\tstats[\"episode_rewards\"][ith_episode] += reward\n",
    "\t\t\tstats[\"episode_lengths\"][ith_episode] = t\n",
    "\n",
    "\t\t\t# TD Update\n",
    "\t\t\tbest_next_action = np.argmax(Q[next_state])\n",
    "\t\t\ttd_target = reward + discount_factor * Q[next_state][best_next_action]\n",
    "\t\t\ttd_delta = td_target - Q[state][action]\n",
    "\t\t\tQ[state][action] += alpha * td_delta\n",
    "\n",
    "\t\t\t# done is True if episode terminated\n",
    "\t\t\tif done:\n",
    "\t\t\t\tbreak\n",
    "\n",
    "\t\t\tstate = next_state\n",
    "\n",
    "\treturn Q, stats"
   ]
  },
  {
   "cell_type": "code",
   "execution_count": null,
   "metadata": {
    "collapsed": false,
    "pycharm": {
     "name": "#%%\n"
    }
   },
   "outputs": [],
   "source": [
    "Q, stats = qLearning(env1, 1000)\n",
    "plt.plot(stats[\"episode_lengths\"])\n",
    "plt.plot(stats[\"episode_rewards\"])\n",
    "plt.show"
   ]
  },
  {
   "cell_type": "code",
   "execution_count": null,
   "metadata": {
    "collapsed": false,
    "pycharm": {
     "name": "#%%\n"
    }
   },
   "outputs": [],
   "source": [
    "\n"
   ]
  },
  {
   "cell_type": "markdown",
   "metadata": {
    "collapsed": false,
    "pycharm": {
     "name": "#%% md\n"
    }
   },
   "source": [
    "## Q Learning from web"
   ]
  },
  {
   "cell_type": "code",
   "execution_count": null,
   "metadata": {
    "collapsed": false,
    "pycharm": {
     "name": "#%%\n"
    }
   },
   "outputs": [],
   "source": [
    "def createEpsilonGreedyPolicy(Q, epsilon, num_actions, env):\n",
    "\t\"\"\"\n",
    "\tCreates an epsilon-greedy policy based\n",
    "\ton a given Q-function and epsilon.\n",
    "\n",
    "\tReturns a function that takes the state\n",
    "\tas an input and returns the probabilities\n",
    "\tfor each action in the form of a numpy array\n",
    "\tof length of the action space(set of possible actions).\n",
    "\t\"\"\"\n",
    "\tdef policyFunction(state):\n",
    "\n",
    "\t\tAction_probabilities = np.ones(num_actions,\n",
    "\t\t\t\tdtype = float) * epsilon / num_actions\n",
    "\n",
    "\t\tbest_action = np.argmax(Q[state])\n",
    "\t\tAction_probabilities[best_action] += (1.0 - epsilon)\n",
    "\t\treturn Action_probabilities\n",
    "\n",
    "\treturn policyFunction"
   ]
  },
  {
   "cell_type": "code",
   "execution_count": null,
   "metadata": {
    "collapsed": false,
    "pycharm": {
     "name": "#%%\n"
    }
   },
   "outputs": [],
   "source": [
    "def qLearning(env, num_episodes, discount_factor = 1.0,\n",
    "\t\t\t\t\t\t\talpha = 0.6, epsilon = 0.1):\n",
    "\t\"\"\"\n",
    "\tQ-Learning algorithm: Off-policy TD control.\n",
    "\tFinds the optimal greedy policy while improving\n",
    "\tfollowing an epsilon-greedy policy\"\"\"\n",
    "\n",
    "\t# Action value function\n",
    "\t# A nested dictionary that maps\n",
    "\t# state -> (action -> action-value).\n",
    "\tQ = defaultdict(lambda: np.zeros(env.action_space.n))\n",
    "\n",
    "\t# Keeps track of useful statistics\n",
    "\tstats = {\n",
    "            \"episode_lengths\" : np.zeros(num_episodes),\n",
    "\t\t    \"episode_rewards\" : np.zeros(num_episodes)}\n",
    "\n",
    "\t# Create an epsilon greedy policy function\n",
    "\t# appropriately for environment action space\n",
    "\tpolicy = createEpsilonGreedyPolicy(Q, epsilon, env.action_space.n, env)\n",
    "\n",
    "\t# For every episode\n",
    "\tfor ith_episode in range(num_episodes):\n",
    "\n",
    "\t\t# Reset the environment and pick the first action\n",
    "\t\tstate = env.reset()\n",
    "\n",
    "\t\tfor t in itertools.count():\n",
    "\n",
    "\t\t\t# get probabilities of all actions from current state\n",
    "\t\t\taction_probabilities = policy(state)\n",
    "\n",
    "\t\t\t# choose action according to\n",
    "\t\t\t# the probability distribution\n",
    "\t\t\taction = np.random.choice(np.arange(\n",
    "\t\t\t\t\tlen(action_probabilities)),\n",
    "\t\t\t\t\tp = action_probabilities)\n",
    "\n",
    "\t\t\t# take action and get reward, transit to next state\n",
    "\t\t\tnext_state, reward, done, _ = env.step(action)\n",
    "\n",
    "\t\t\t# Update statistics\n",
    "\t\t\tstats[\"episode_rewards\"][ith_episode] += reward\n",
    "\t\t\tstats[\"episode_lengths\"][ith_episode] = t\n",
    "\n",
    "\t\t\t# TD Update\n",
    "\t\t\tbest_next_action = np.argmax(Q[next_state])\n",
    "\t\t\ttd_target = reward + discount_factor * Q[next_state][best_next_action]\n",
    "\t\t\ttd_delta = td_target - Q[state][action]\n",
    "\t\t\tQ[state][action] += alpha * td_delta\n",
    "\n",
    "\t\t\t# done is True if episode terminated\n",
    "\t\t\tif done:\n",
    "\t\t\t\tbreak\n",
    "\n",
    "\t\t\tstate = next_state\n",
    "\n",
    "\treturn Q, stats"
   ]
  },
  {
   "cell_type": "code",
   "execution_count": null,
   "metadata": {
    "collapsed": false,
    "pycharm": {
     "name": "#%%\n"
    }
   },
   "outputs": [],
   "source": [
    "def createEpsilonGreedyPolicy(Q, epsilon, num_actions, env):\n",
    "\t\"\"\"\n",
    "\tCreates an epsilon-greedy policy based\n",
    "\ton a given Q-function and epsilon.\n",
    "\n",
    "\tReturns a function that takes the state\n",
    "\tas an input and returns the probabilities\n",
    "\tfor each action in the form of a numpy array\n",
    "\tof length of the action space(set of possible actions).\n",
    "\t\"\"\"\n",
    "\tdef policyFunction(state):\n",
    "\n",
    "\t\tAction_probabilities = np.ones(num_actions,\n",
    "\t\t\t\tdtype = float) * epsilon / num_actions\n",
    "\n",
    "\t\tbest_action = np.argmax(Q[state])\n",
    "\t\tAction_probabilities[best_action] += (1.0 - epsilon)\n",
    "\t\treturn Action_probabilities\n",
    "\n",
    "\treturn policyFunction"
   ]
  },
  {
   "cell_type": "code",
   "execution_count": null,
   "metadata": {
    "collapsed": false,
    "pycharm": {
     "name": "#%%\n"
    }
   },
   "outputs": [],
   "source": [
    "def qLearning(env, num_episodes, discount_factor = 1.0,\n",
    "\t\t\t\t\t\t\talpha = 0.6, epsilon = 0.1):\n",
    "\t\"\"\"\n",
    "\tQ-Learning algorithm: Off-policy TD control.\n",
    "\tFinds the optimal greedy policy while improving\n",
    "\tfollowing an epsilon-greedy policy\"\"\"\n",
    "\n",
    "\t# Action value function\n",
    "\t# A nested dictionary that maps\n",
    "\t# state -> (action -> action-value).\n",
    "\tQ = defaultdict(lambda: np.zeros(env.action_space.n))\n",
    "\n",
    "\t# Keeps track of useful statistics\n",
    "\tstats = {\n",
    "            \"episode_lengths\" : np.zeros(num_episodes),\n",
    "\t\t    \"episode_rewards\" : np.zeros(num_episodes)}\n",
    "\n",
    "\t# Create an epsilon greedy policy function\n",
    "\t# appropriately for environment action space\n",
    "\tpolicy = createEpsilonGreedyPolicy(Q, epsilon, env.action_space.n, env)\n",
    "\n",
    "\t# For every episode\n",
    "\tfor ith_episode in range(num_episodes):\n",
    "\n",
    "\t\t# Reset the environment and pick the first action\n",
    "\t\tstate = env.reset()\n",
    "\n",
    "\t\tfor t in itertools.count():\n",
    "\n",
    "\t\t\t# get probabilities of all actions from current state\n",
    "\t\t\taction_probabilities = policy(state)\n",
    "\n",
    "\t\t\t# choose action according to\n",
    "\t\t\t# the probability distribution\n",
    "\t\t\taction = np.random.choice(np.arange(\n",
    "\t\t\t\t\tlen(action_probabilities)),\n",
    "\t\t\t\t\tp = action_probabilities)\n",
    "\n",
    "\t\t\t# take action and get reward, transit to next state\n",
    "\t\t\tnext_state, reward, done, _ = env.step(action)\n",
    "\n",
    "\t\t\t# Update statistics\n",
    "\t\t\tstats[\"episode_rewards\"][ith_episode] += reward\n",
    "\t\t\tstats[\"episode_lengths\"][ith_episode] = t\n",
    "\n",
    "\t\t\t# TD Update\n",
    "\t\t\tbest_next_action = np.argmax(Q[next_state])\n",
    "\t\t\ttd_target = reward + discount_factor * Q[next_state][best_next_action]\n",
    "\t\t\ttd_delta = td_target - Q[state][action]\n",
    "\t\t\tQ[state][action] += alpha * td_delta\n",
    "\n",
    "\t\t\t# done is True if episode terminated\n",
    "\t\t\tif done:\n",
    "\t\t\t\tbreak\n",
    "\n",
    "\t\t\tstate = next_state\n",
    "\n",
    "\treturn Q, stats"
   ]
  },
  {
   "cell_type": "code",
   "execution_count": null,
   "metadata": {
    "collapsed": false,
    "pycharm": {
     "name": "#%%\n"
    }
   },
   "outputs": [],
   "source": [
    "Q, stats = qLearning(env1, 1000)\n",
    "plt.plot(stats[\"episode_lengths\"])\n",
    "plt.plot(stats[\"episode_rewards\"])\n",
    "plt.show"
   ]
  },
  {
   "cell_type": "code",
   "execution_count": null,
   "metadata": {
    "collapsed": false,
    "pycharm": {
     "name": "#%%\n"
    }
   },
   "outputs": [],
   "source": [
    "\n"
   ]
  },
  {
   "cell_type": "markdown",
   "metadata": {
    "collapsed": false,
    "pycharm": {
     "name": "#%% md\n"
    }
   },
   "source": [
    "## Q Learning from web"
   ]
  },
  {
   "cell_type": "code",
   "execution_count": null,
   "metadata": {
    "collapsed": false,
    "pycharm": {
     "name": "#%%\n"
    }
   },
   "outputs": [],
   "source": [
    "def createEpsilonGreedyPolicy(Q, epsilon, num_actions, env):\n",
    "\t\"\"\"\n",
    "\tCreates an epsilon-greedy policy based\n",
    "\ton a given Q-function and epsilon.\n",
    "\n",
    "\tReturns a function that takes the state\n",
    "\tas an input and returns the probabilities\n",
    "\tfor each action in the form of a numpy array\n",
    "\tof length of the action space(set of possible actions).\n",
    "\t\"\"\"\n",
    "\tdef policyFunction(state):\n",
    "\n",
    "\t\tAction_probabilities = np.ones(num_actions,\n",
    "\t\t\t\tdtype = float) * epsilon / num_actions\n",
    "\n",
    "\t\tbest_action = np.argmax(Q[state])\n",
    "\t\tAction_probabilities[best_action] += (1.0 - epsilon)\n",
    "\t\treturn Action_probabilities\n",
    "\n",
    "\treturn policyFunction"
   ]
  },
  {
   "cell_type": "code",
   "execution_count": null,
   "metadata": {
    "collapsed": false,
    "pycharm": {
     "name": "#%%\n"
    }
   },
   "outputs": [],
   "source": [
    "def qLearning(env, num_episodes, discount_factor = 1.0,\n",
    "\t\t\t\t\t\t\talpha = 0.6, epsilon = 0.1):\n",
    "\t\"\"\"\n",
    "\tQ-Learning algorithm: Off-policy TD control.\n",
    "\tFinds the optimal greedy policy while improving\n",
    "\tfollowing an epsilon-greedy policy\"\"\"\n",
    "\n",
    "\t# Action value function\n",
    "\t# A nested dictionary that maps\n",
    "\t# state -> (action -> action-value).\n",
    "\tQ = defaultdict(lambda: np.zeros(env.action_space.n))\n",
    "\n",
    "\t# Keeps track of useful statistics\n",
    "\tstats = {\n",
    "            \"episode_lengths\" : np.zeros(num_episodes),\n",
    "\t\t    \"episode_rewards\" : np.zeros(num_episodes)}\n",
    "\n",
    "\t# Create an epsilon greedy policy function\n",
    "\t# appropriately for environment action space\n",
    "\tpolicy = createEpsilonGreedyPolicy(Q, epsilon, env.action_space.n, env)\n",
    "\n",
    "\t# For every episode\n",
    "\tfor ith_episode in range(num_episodes):\n",
    "\n",
    "\t\t# Reset the environment and pick the first action\n",
    "\t\tstate = env.reset()\n",
    "\n",
    "\t\tfor t in itertools.count():\n",
    "\n",
    "\t\t\t# get probabilities of all actions from current state\n",
    "\t\t\taction_probabilities = policy(state)\n",
    "\n",
    "\t\t\t# choose action according to\n",
    "\t\t\t# the probability distribution\n",
    "\t\t\taction = np.random.choice(np.arange(\n",
    "\t\t\t\t\tlen(action_probabilities)),\n",
    "\t\t\t\t\tp = action_probabilities)\n",
    "\n",
    "\t\t\t# take action and get reward, transit to next state\n",
    "\t\t\tnext_state, reward, done, _ = env.step(action)\n",
    "\n",
    "\t\t\t# Update statistics\n",
    "\t\t\tstats[\"episode_rewards\"][ith_episode] += reward\n",
    "\t\t\tstats[\"episode_lengths\"][ith_episode] = t\n",
    "\n",
    "\t\t\t# TD Update\n",
    "\t\t\tbest_next_action = np.argmax(Q[next_state])\n",
    "\t\t\ttd_target = reward + discount_factor * Q[next_state][best_next_action]\n",
    "\t\t\ttd_delta = td_target - Q[state][action]\n",
    "\t\t\tQ[state][action] += alpha * td_delta\n",
    "\n",
    "\t\t\t# done is True if episode terminated\n",
    "\t\t\tif done:\n",
    "\t\t\t\tbreak\n",
    "\n",
    "\t\t\tstate = next_state\n",
    "\n",
    "\treturn Q, stats"
   ]
  },
  {
   "cell_type": "code",
   "execution_count": null,
   "metadata": {
    "collapsed": false,
    "pycharm": {
     "name": "#%%\n"
    }
   },
   "outputs": [],
   "source": [
    "Q, stats = qLearning(env1, 1000)\n",
    "plt.plot(stats[\"episode_lengths\"])\n",
    "plt.plot(stats[\"episode_rewards\"])\n",
    "plt.show"
   ]
  },
  {
   "cell_type": "code",
   "execution_count": null,
   "metadata": {
    "collapsed": false,
    "pycharm": {
     "name": "#%%\n"
    }
   },
   "outputs": [],
   "source": [
    "\n"
   ]
  }
 ],
 "metadata": {
  "kernelspec": {
   "display_name": "Python 3.7.4 64-bit",
   "language": "python",
   "name": "python3"
  },
  "language_info": {
   "codemirror_mode": {
    "name": "ipython",
    "version": 3
   },
   "file_extension": ".py",
   "mimetype": "text/x-python",
   "name": "python",
   "nbconvert_exporter": "python",
   "pygments_lexer": "ipython3",
   "version": "3.7.4"
  },
  "vscode": {
   "interpreter": {
    "hash": "aee8b7b246df8f9039afb4144a1f6fd8d2ca17a180786b69acc140d282b71a49"
   }
  }
 },
 "nbformat": 4,
 "nbformat_minor": 0
}