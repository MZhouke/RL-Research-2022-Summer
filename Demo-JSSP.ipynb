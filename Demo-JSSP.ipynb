{
 "cells": [
  {
   "cell_type": "code",
   "execution_count": 1,
   "outputs": [],
   "source": [
    "import JSSP\n",
    "import gym\n",
    "import time\n",
    "import numpy as np"
   ],
   "metadata": {
    "collapsed": false,
    "pycharm": {
     "name": "#%%\n"
    }
   }
  },
  {
   "cell_type": "markdown",
   "source": [
    "# Environment Initialization"
   ],
   "metadata": {
    "collapsed": false,
    "pycharm": {
     "name": "#%% md\n"
    }
   }
  },
  {
   "cell_type": "code",
   "execution_count": 2,
   "outputs": [
    {
     "name": "stderr",
     "output_type": "stream",
     "text": [
      "/Library/Frameworks/Python.framework/Versions/3.7/lib/python3.7/site-packages/plotly/graph_objs/__init__.py:288: DeprecationWarning: distutils Version classes are deprecated. Use packaging.version instead.\n",
      "  if LooseVersion(ipywidgets.__version__) >= LooseVersion(\"7.0.0\"):\n"
     ]
    },
    {
     "name": "stdout",
     "output_type": "stream",
     "text": [
      "Observation space: Dict(0: Box(0, 9, (10,), int64), 1: Box(-2, 10, (10,), int64))\n",
      "Action space: Box(-1, 10, (10,), int64)\n"
     ]
    },
    {
     "name": "stderr",
     "output_type": "stream",
     "text": [
      "/Users/boyanggu/RL-Research-2022-Summer/JSSP/envs/JSSP_env.py:119: DeprecationWarning: `np.int` is a deprecated alias for the builtin `int`. To silence this warning, use `int` by itself. Doing this will not modify any behavior and is safe. When replacing `np.int`, you may wish to use e.g. `np.int64` or `np.int32` to specify the precision. If you wish to review your current use, check the release note link for additional information.\n",
      "Deprecated in NumPy 1.20; for more details and guidance: https://numpy.org/devdocs/release/1.20.0-notes.html#deprecations\n",
      "  dtype=np.int)\n",
      "/Library/Frameworks/Python.framework/Versions/3.7/lib/python3.7/site-packages/gym/core.py:330: DeprecationWarning: \u001B[33mWARN: Initializing wrapper in old step API which returns one bool instead of two. It is recommended to set `new_step_api=True` to use new step API. This will be the default behaviour in future.\u001B[0m\n",
      "  \"Initializing wrapper in old step API which returns one bool instead of two. It is recommended to set `new_step_api=True` to use new step API. This will be the default behaviour in future.\"\n",
      "/Library/Frameworks/Python.framework/Versions/3.7/lib/python3.7/site-packages/gym/wrappers/step_api_compatibility.py:40: DeprecationWarning: \u001B[33mWARN: Initializing environment in old step API which returns one bool instead of two. It is recommended to set `new_step_api=True` to use new step API. This will be the default behaviour in future.\u001B[0m\n",
      "  \"Initializing environment in old step API which returns one bool instead of two. It is recommended to set `new_step_api=True` to use new step API. This will be the default behaviour in future.\"\n"
     ]
    }
   ],
   "source": [
    "env_name = \"JSSP-v0\"\n",
    "env = gym.make(env_name, instance_path = \"instance3.txt\")\n",
    "print(\"Observation space:\", env.observation_space)\n",
    "print(\"Action space:\", env.action_space)"
   ],
   "metadata": {
    "collapsed": false,
    "pycharm": {
     "name": "#%%\n"
    }
   }
  },
  {
   "cell_type": "markdown",
   "source": [
    "# Action Choosing"
   ],
   "metadata": {
    "collapsed": false,
    "pycharm": {
     "name": "#%% md\n"
    }
   }
  },
  {
   "cell_type": "code",
   "execution_count": 3,
   "outputs": [],
   "source": [
    "def get_legal_action(env):\n",
    "    legal_actions = env.get_legal_actions()\n",
    "    legal_action = []\n",
    "    for job in range(len(legal_actions)):\n",
    "        if len(legal_actions[job]) == 0:\n",
    "            legal_action.append(-1)\n",
    "        else:\n",
    "            legal_job_actions = [machine for machine in legal_actions[job] if machine not in legal_action]\n",
    "            legal_job_actions.append(-1)\n",
    "            legal_action.append(np.random.choice(legal_job_actions))\n",
    "    return np.array(legal_action)"
   ],
   "metadata": {
    "collapsed": false,
    "pycharm": {
     "name": "#%%\n"
    }
   }
  },
  {
   "cell_type": "code",
   "execution_count": 4,
   "outputs": [],
   "source": [
    "def get_efficient_legal_action(env):\n",
    "    legal_actions = env.get_legal_actions()\n",
    "    legal_action = []\n",
    "    for job in range(len(legal_actions)):\n",
    "        if len(legal_actions[job]) == 0:\n",
    "            legal_action.append(-1)\n",
    "        else:\n",
    "            legal_job_actions = [machine for machine in legal_actions[job] if machine not in legal_action]\n",
    "            if len(legal_job_actions) == 0:\n",
    "                legal_action.append(-1)\n",
    "            else:\n",
    "                legal_action.append(np.random.choice(legal_job_actions))\n",
    "    return np.array(legal_action)\n"
   ],
   "metadata": {
    "collapsed": false,
    "pycharm": {
     "name": "#%%\n"
    }
   }
  },
  {
   "cell_type": "markdown",
   "source": [
    "# Baselines"
   ],
   "metadata": {
    "collapsed": false,
    "pycharm": {
     "name": "#%% md\n"
    }
   }
  },
  {
   "cell_type": "markdown",
   "source": [
    "## 1. Random Sampling"
   ],
   "metadata": {
    "collapsed": false,
    "pycharm": {
     "name": "#%% md\n"
    }
   }
  },
  {
   "cell_type": "code",
   "execution_count": 6,
   "outputs": [
    {
     "name": "stdout",
     "output_type": "stream",
     "text": [
      "Episode:1 Total_reward:-1264\n",
      "Episode:2 Total_reward:-1324\n",
      "Episode:3 Total_reward:-1196\n",
      "Episode:4 Total_reward:-1242\n",
      "Episode:5 Total_reward:-1371\n",
      "Episode:6 Total_reward:-1349\n",
      "Episode:7 Total_reward:-1245\n",
      "Episode:8 Total_reward:-1206\n",
      "Episode:9 Total_reward:-1182\n",
      "Episode:10 Total_reward:-1198\n",
      "Episode:11 Total_reward:-1232\n",
      "Episode:12 Total_reward:-1255\n",
      "Episode:13 Total_reward:-1200\n",
      "Episode:14 Total_reward:-1164\n",
      "Episode:15 Total_reward:-1211\n",
      "Episode:16 Total_reward:-1225\n",
      "Episode:17 Total_reward:-1138\n",
      "Episode:18 Total_reward:-1076\n",
      "Episode:19 Total_reward:-1216\n",
      "Episode:20 Total_reward:-1204\n",
      "Episode:21 Total_reward:-1190\n",
      "Episode:22 Total_reward:-1199\n",
      "Episode:23 Total_reward:-1218\n",
      "Episode:24 Total_reward:-1265\n",
      "Episode:25 Total_reward:-1268\n",
      "Episode:26 Total_reward:-1195\n",
      "Episode:27 Total_reward:-1277\n",
      "Episode:28 Total_reward:-1226\n",
      "Episode:29 Total_reward:-1217\n",
      "Episode:30 Total_reward:-1191\n",
      "Episode:31 Total_reward:-1272\n",
      "Episode:32 Total_reward:-1261\n",
      "Episode:33 Total_reward:-1191\n",
      "Episode:34 Total_reward:-1182\n",
      "Episode:35 Total_reward:-1242\n",
      "Episode:36 Total_reward:-1354\n",
      "Episode:37 Total_reward:-1166\n",
      "Episode:38 Total_reward:-1190\n",
      "Episode:39 Total_reward:-1341\n",
      "Episode:40 Total_reward:-1272\n",
      "Episode:41 Total_reward:-1225\n",
      "Episode:42 Total_reward:-1219\n",
      "Episode:43 Total_reward:-1190\n",
      "Episode:44 Total_reward:-1203\n",
      "Episode:45 Total_reward:-1181\n",
      "Episode:46 Total_reward:-1216\n",
      "Episode:47 Total_reward:-1176\n",
      "Episode:48 Total_reward:-1257\n",
      "Episode:49 Total_reward:-1198\n",
      "Episode:50 Total_reward:-1322\n",
      "From 50 Episodes best policy has reward -1076\n"
     ]
    }
   ],
   "source": [
    "state = env.reset()\n",
    "episodes = 50\n",
    "max_score = -100000\n",
    "for episode in range(1, episodes+1):\n",
    "    state = env.reset()\n",
    "    done = False\n",
    "    score = 0\n",
    "\n",
    "    while not done:\n",
    "        #env.render()\n",
    "        action = get_legal_action(env)\n",
    "        # if not (np.all(action == -1)):\n",
    "        #     print('Episode:{} Action:{} Time:{}'.format(episode, action, env.time))\n",
    "        n_state, reward, done, info = env.step(action)\n",
    "        score+=reward\n",
    "    print('Episode:{} Total_reward:{}'.format(episode, score))\n",
    "    max_score = max(max_score, score)\n",
    "print('From {} Episodes best policy has reward {}'.format(episodes, max_score))"
   ],
   "metadata": {
    "collapsed": false,
    "pycharm": {
     "name": "#%%\n"
    }
   }
  },
  {
   "cell_type": "code",
   "execution_count": 7,
   "outputs": [
    {
     "name": "stdout",
     "output_type": "stream",
     "text": [
      "Episode:1 Total_reward:-1244\n",
      "Episode:2 Total_reward:-1244\n",
      "Episode:3 Total_reward:-1244\n",
      "Episode:4 Total_reward:-1244\n",
      "Episode:5 Total_reward:-1244\n",
      "Episode:6 Total_reward:-1244\n",
      "Episode:7 Total_reward:-1244\n",
      "Episode:8 Total_reward:-1244\n",
      "Episode:9 Total_reward:-1244\n",
      "Episode:10 Total_reward:-1244\n",
      "Episode:11 Total_reward:-1244\n",
      "Episode:12 Total_reward:-1244\n",
      "Episode:13 Total_reward:-1244\n",
      "Episode:14 Total_reward:-1244\n",
      "Episode:15 Total_reward:-1244\n",
      "Episode:16 Total_reward:-1244\n",
      "Episode:17 Total_reward:-1244\n",
      "Episode:18 Total_reward:-1244\n",
      "Episode:19 Total_reward:-1244\n",
      "Episode:20 Total_reward:-1244\n",
      "Episode:21 Total_reward:-1244\n",
      "Episode:22 Total_reward:-1244\n",
      "Episode:23 Total_reward:-1244\n",
      "Episode:24 Total_reward:-1244\n",
      "Episode:25 Total_reward:-1244\n",
      "Episode:26 Total_reward:-1244\n",
      "Episode:27 Total_reward:-1244\n",
      "Episode:28 Total_reward:-1244\n",
      "Episode:29 Total_reward:-1244\n",
      "Episode:30 Total_reward:-1244\n",
      "Episode:31 Total_reward:-1244\n",
      "Episode:32 Total_reward:-1244\n",
      "Episode:33 Total_reward:-1244\n",
      "Episode:34 Total_reward:-1244\n",
      "Episode:35 Total_reward:-1244\n",
      "Episode:36 Total_reward:-1244\n",
      "Episode:37 Total_reward:-1244\n",
      "Episode:38 Total_reward:-1244\n",
      "Episode:39 Total_reward:-1244\n",
      "Episode:40 Total_reward:-1244\n",
      "Episode:41 Total_reward:-1244\n",
      "Episode:42 Total_reward:-1244\n",
      "Episode:43 Total_reward:-1244\n",
      "Episode:44 Total_reward:-1244\n",
      "Episode:45 Total_reward:-1244\n",
      "Episode:46 Total_reward:-1244\n",
      "Episode:47 Total_reward:-1244\n",
      "Episode:48 Total_reward:-1244\n",
      "Episode:49 Total_reward:-1244\n",
      "Episode:50 Total_reward:-1244\n",
      "From 50 Episodes best policy has reward -1244\n"
     ]
    }
   ],
   "source": [
    "state = env.reset()\n",
    "episodes = 50\n",
    "max_score = -100000\n",
    "for episode in range(1, episodes+1):\n",
    "    state = env.reset()\n",
    "    done = False\n",
    "    score = 0\n",
    "\n",
    "    while not done:\n",
    "        #env.render()\n",
    "        action = get_efficient_legal_action(env)\n",
    "        # if not (np.all(action == -1)):\n",
    "        #     print('Episode:{} Action:{} Time:{}'.format(episode, action, env.time))\n",
    "        n_state, reward, done, info = env.step(action)\n",
    "        score+=reward\n",
    "    print('Episode:{} Total_reward:{}'.format(episode, score))\n",
    "    max_score = max(max_score, score)\n",
    "print('From {} Episodes best policy has reward {}'.format(episodes, max_score))"
   ],
   "metadata": {
    "collapsed": false,
    "pycharm": {
     "name": "#%%\n"
    }
   }
  },
  {
   "cell_type": "markdown",
   "source": [
    "## 2. Q-Learning"
   ],
   "metadata": {
    "collapsed": false,
    "pycharm": {
     "name": "#%% md\n"
    }
   }
  },
  {
   "cell_type": "code",
   "execution_count": null,
   "outputs": [],
   "source": [
    "# 1. Load Environment and Q-table structure\n",
    "env_name = \"JSSP-v0\"\n",
    "env = gym.make(env_name, instance_path = \"instance1.txt\")\n",
    "Q = {}\n",
    "# 2. Parameters of Q-learning\n",
    "eta = .628\n",
    "gma = .9\n",
    "epis = 50\n",
    "rev_list = [] # rewards per episode calculate\n",
    "# 3. Q-learning Algorithm\n",
    "for i in range(epis):\n",
    "    # Reset environment\n",
    "    s = env.reset()\n",
    "    rAll = 0\n",
    "    d = False\n",
    "    # The Q-Table learning algorithm\n",
    "    while not d:\n",
    "        # env.render()\n",
    "        # Choose action from Q table\n",
    "        a = np.argmax(Q[s,:] + np.random.randn(1,env.action_space.n)*(1./(i+1)))\n",
    "        #Get new state & reward from environment\n",
    "        s1,r,d,_ = env.step(a)\n",
    "        #Update Q-Table with new knowledge\n",
    "        Q[s,a] = Q[s,a] + eta*(r + gma*np.max(Q[s1,:]) - Q[s,a])\n",
    "        rAll += r\n",
    "        s = s1\n",
    "    rev_list.append(rAll)\n",
    "    print(\"Episode: \" + str(i) + \" has reward \" + str(rAll))\n",
    "    # env.render()\n",
    "# Code will stop at d == True, and render one state before it\n",
    "print(\"Reward Sum on all episodes \" + str(sum(rev_list)/epis))\n",
    "print(\"Final Values Q-Table\")\n",
    "print(Q)"
   ],
   "metadata": {
    "collapsed": false,
    "pycharm": {
     "name": "#%%\n"
    }
   }
  },
  {
   "cell_type": "code",
   "execution_count": null,
   "outputs": [],
   "source": [
    "state = env.reset()\n",
    "episodes = 50\n",
    "max_score = -100000\n",
    "for episode in range(1, episodes+1):\n",
    "    state = env.reset()\n",
    "    done = False\n",
    "    score = 0\n",
    "\n",
    "    while not done:\n",
    "        #env.render()\n",
    "        action = get_legal_action(env)\n",
    "        # if not (np.all(action == -1)):\n",
    "        #     print('Episode:{} Action:{} Time:{}'.format(episode, action, env.time))\n",
    "        n_state, reward, done, info = env.step(action)\n",
    "        score+=reward\n",
    "    print('Episode:{} Total_reward:{}'.format(episode, score))\n",
    "    max_score = max(max_score, score)\n",
    "print('From {} Episodes best policy has reward {}'.format(episodes, max_score))"
   ],
   "metadata": {
    "collapsed": false,
    "pycharm": {
     "name": "#%%\n"
    }
   }
  },
  {
   "cell_type": "markdown",
   "source": [
    "## 2. Q-Learning"
   ],
   "metadata": {
    "collapsed": false,
    "pycharm": {
     "name": "#%% md\n"
    }
   }
  },
  {
   "cell_type": "code",
   "execution_count": null,
   "outputs": [],
   "source": [
    "# 1. Load Environment and Q-table structure\n",
    "env_name = \"JSSP-v0\"\n",
    "env = gym.make(env_name, instance_path = \"instance1.txt\")\n",
    "Q = {}\n",
    "# 2. Parameters of Q-learning\n",
    "eta = .628\n",
    "gma = .9\n",
    "epis = 50\n",
    "rev_list = [] # rewards per episode calculate\n",
    "# 3. Q-learning Algorithm\n",
    "for i in range(epis):\n",
    "    # Reset environment\n",
    "    s = env.reset()\n",
    "    rAll = 0\n",
    "    d = False\n",
    "    # The Q-Table learning algorithm\n",
    "    while not d:\n",
    "        # env.render()\n",
    "        # Choose action from Q table\n",
    "        a = np.argmax(Q[s,:] + np.random.randn(1,env.action_space.n)*(1./(i+1)))\n",
    "        #Get new state & reward from environment\n",
    "        s1,r,d,_ = env.step(a)\n",
    "        #Update Q-Table with new knowledge\n",
    "        Q[s,a] = Q[s,a] + eta*(r + gma*np.max(Q[s1,:]) - Q[s,a])\n",
    "        rAll += r\n",
    "        s = s1\n",
    "    rev_list.append(rAll)\n",
    "    print(\"Episode: \" + str(i) + \" has reward \" + str(rAll))\n",
    "    # env.render()\n",
    "# Code will stop at d == True, and render one state before it\n",
    "print(\"Reward Sum on all episodes \" + str(sum(rev_list)/epis))\n",
    "print(\"Final Values Q-Table\")\n",
    "print(Q)"
   ],
   "metadata": {
    "collapsed": false,
    "pycharm": {
     "name": "#%%\n"
    }
   }
  },
  {
   "cell_type": "markdown",
   "source": [
    "# Baselines"
   ],
   "metadata": {
    "collapsed": false,
    "pycharm": {
     "name": "#%% md\n"
    }
   }
  },
  {
   "cell_type": "markdown",
   "source": [
    "## 1. Random Sampling"
   ],
   "metadata": {
    "collapsed": false,
    "pycharm": {
     "name": "#%% md\n"
    }
   }
  },
  {
   "cell_type": "code",
   "execution_count": null,
   "outputs": [],
   "source": [
    "state = env.reset()\n",
    "episodes = 50\n",
    "max_score = -100000\n",
    "for episode in range(1, episodes+1):\n",
    "    state = env.reset()\n",
    "    done = False\n",
    "    score = 0\n",
    "\n",
    "    while not done:\n",
    "        #env.render()\n",
    "        action = get_legal_action(env)\n",
    "        # if not (np.all(action == -1)):\n",
    "        #     print('Episode:{} Action:{} Time:{}'.format(episode, action, env.time))\n",
    "        n_state, reward, done, info = env.step(action)\n",
    "        score+=reward\n",
    "    print('Episode:{} Total_reward:{}'.format(episode, score))\n",
    "    max_score = max(max_score, score)\n",
    "print('From {} Episodes best policy has reward {}'.format(episodes, max_score))"
   ],
   "metadata": {
    "collapsed": false,
    "pycharm": {
     "name": "#%%\n"
    }
   }
  },
  {
   "cell_type": "markdown",
   "source": [
    "## 2. Q-Learning"
   ],
   "metadata": {
    "collapsed": false,
    "pycharm": {
     "name": "#%% md\n"
    }
   }
  },
  {
   "cell_type": "code",
   "execution_count": null,
   "outputs": [],
   "source": [
    "# 1. Load Environment and Q-table structure\n",
    "env_name = \"JSSP-v0\"\n",
    "env = gym.make(env_name, instance_path = \"instance1.txt\")\n",
    "Q = {}\n",
    "# 2. Parameters of Q-learning\n",
    "eta = .628\n",
    "gma = .9\n",
    "epis = 50\n",
    "rev_list = [] # rewards per episode calculate\n",
    "# 3. Q-learning Algorithm\n",
    "for i in range(epis):\n",
    "    # Reset environment\n",
    "    s = env.reset()\n",
    "    rAll = 0\n",
    "    d = False\n",
    "    # The Q-Table learning algorithm\n",
    "    while not d:\n",
    "        # env.render()\n",
    "        # Choose action from Q table\n",
    "        a = np.argmax(Q[s,:] + np.random.randn(1,env.action_space.n)*(1./(i+1)))\n",
    "        #Get new state & reward from environment\n",
    "        s1,r,d,_ = env.step(a)\n",
    "        #Update Q-Table with new knowledge\n",
    "        Q[s,a] = Q[s,a] + eta*(r + gma*np.max(Q[s1,:]) - Q[s,a])\n",
    "        rAll += r\n",
    "        s = s1\n",
    "    rev_list.append(rAll)\n",
    "    print(\"Episode: \" + str(i) + \" has reward \" + str(rAll))\n",
    "    # env.render()\n",
    "# Code will stop at d == True, and render one state before it\n",
    "print(\"Reward Sum on all episodes \" + str(sum(rev_list)/epis))\n",
    "print(\"Final Values Q-Table\")\n",
    "print(Q)"
   ],
   "metadata": {
    "collapsed": false,
    "pycharm": {
     "name": "#%%\n"
    }
   }
  },
  {
   "cell_type": "code",
   "execution_count": null,
   "outputs": [],
   "source": [],
   "metadata": {
    "collapsed": false,
    "pycharm": {
     "name": "#%%\n"
    }
   }
  }
 ],
 "metadata": {
  "kernelspec": {
   "display_name": "Python 3.7.4 64-bit",
   "language": "python",
   "name": "python3"
  },
  "language_info": {
   "codemirror_mode": {
    "name": "ipython",
    "version": 3
   },
   "file_extension": ".py",
   "mimetype": "text/x-python",
   "name": "python",
   "nbconvert_exporter": "python",
   "pygments_lexer": "ipython3",
   "version": "3.7.4"
  },
  "vscode": {
   "interpreter": {
    "hash": "aee8b7b246df8f9039afb4144a1f6fd8d2ca17a180786b69acc140d282b71a49"
   }
  }
 },
 "nbformat": 4,
 "nbformat_minor": 0
}