{
  "nbformat": 4,
  "nbformat_minor": 0,
  "metadata": {
    "colab": {
      "name": "CIS-Research",
      "provenance": [],
      "toc_visible": true,
      "collapsed_sections": [],
      "authorship_tag": "ABX9TyNVPSofagOz2wJDM5XbVAYS",
      "include_colab_link": true
    },
    "kernelspec": {
      "name": "python3",
      "display_name": "Python 3"
    },
    "language_info": {
      "name": "python"
    }
  },
  "cells": [
    {
      "cell_type": "markdown",
      "metadata": {
        "id": "view-in-github",
        "colab_type": "text"
      },
      "source": [
        "<a href=\"https://colab.research.google.com/github/MZhouke/RL-Research-2022-Summer/blob/main/CIS_Research.ipynb\" target=\"_parent\"><img src=\"https://colab.research.google.com/assets/colab-badge.svg\" alt=\"Open In Colab\"/></a>"
      ]
    },
    {
      "cell_type": "markdown",
      "source": [
        "# RL Research 2022 Summer"
      ],
      "metadata": {
        "id": "NkOrWvckx2hq"
      }
    },
    {
      "cell_type": "markdown",
      "source": [
        "## Abstract"
      ],
      "metadata": {
        "id": "OC_H6BnpyBMx"
      }
    },
    {
      "cell_type": "markdown",
      "source": [
        "## Learning Problem"
      ],
      "metadata": {
        "id": "joOPL7gXyVQs"
      }
    },
    {
      "cell_type": "markdown",
      "source": [
        "## Environement Initialization"
      ],
      "metadata": {
        "id": "fIW0Pt4xyd1-"
      }
    },
    {
      "cell_type": "markdown",
      "source": [
        "## RL"
      ],
      "metadata": {
        "id": "CYrZr-L6yhTu"
      }
    },
    {
      "cell_type": "markdown",
      "source": [
        "## Result Visualization"
      ],
      "metadata": {
        "id": "qHptNH02yvBI"
      }
    },
    {
      "cell_type": "markdown",
      "source": [
        "## Result"
      ],
      "metadata": {
        "id": "s_R1LuCJyxZA"
      }
    }
  ]
}